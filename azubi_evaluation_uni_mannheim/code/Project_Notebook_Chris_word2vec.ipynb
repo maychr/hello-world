{
  "nbformat": 4,
  "nbformat_minor": 0,
  "metadata": {
    "kernelspec": {
      "display_name": "Python 3",
      "language": "python",
      "name": "python3"
    },
    "language_info": {
      "codemirror_mode": {
        "name": "ipython",
        "version": 3
      },
      "file_extension": ".py",
      "mimetype": "text/x-python",
      "name": "python",
      "nbconvert_exporter": "python",
      "pygments_lexer": "ipython3",
      "version": "3.8.5"
    },
    "colab": {
      "name": "Project_Notebook_Christopher.ipynb",
      "provenance": []
    },
    "accelerator": "GPU"
  },
  "cells": [
    {
      "cell_type": "markdown",
      "metadata": {
        "id": "wcK4xEzRs9xK"
      },
      "source": [
        "---\n",
        "## Note from the Teachers:\n",
        "We added a header with information about your project. \n",
        "This is useful since we want to keep a database of all the cool projects participants have made during the courses.\n",
        "We will save the code in our database and host on github a page to show all the projects. Therefore it is more practical to add some information in the header of each notebook.\n",
        "Thanks a lot for the understanding and for taking care of it.\n",
        "\n",
        "You can delete this cell if you want\n",
        "\n",
        "---"
      ]
    },
    {
      "cell_type": "markdown",
      "metadata": {
        "id": "dgD3XbPds9xQ"
      },
      "source": [
        "# Project Name (replace with your project name)\n",
        "Project description (replace with your project description, you can use the same from the `INFO.md` file."
      ]
    },
    {
      "cell_type": "markdown",
      "metadata": {
        "id": "v27TWYp_s9xR"
      },
      "source": [
        "### Project Repo \n",
        "link (replace if you have your own repo, otherwise delete)"
      ]
    },
    {
      "cell_type": "markdown",
      "metadata": {
        "id": "4Nbtlpq0s9xS"
      },
      "source": [
        "## Participants:\n",
        "Please list here all the participants alongside with any information you may want to be visible. This will be hosted on a opencampus.sh repository, so if you want to keep a connection to your github user include this information here. "
      ]
    },
    {
      "cell_type": "markdown",
      "metadata": {
        "id": "_OAz0ANbs9xS"
      },
      "source": [
        "### Course and Semester\n",
        "Add here in which course and in which semester it was done."
      ]
    },
    {
      "cell_type": "markdown",
      "metadata": {
        "id": "-0JN1ztBs9xT"
      },
      "source": [
        "### License\n",
        "If you are releasing the software under some certain license, you can mention it and also include the `LICENSE.md` file in the folder\n",
        "\n",
        "---"
      ]
    },
    {
      "cell_type": "code",
      "metadata": {
        "id": "EKuWTTVMs9xU"
      },
      "source": [
        "# Here you can start your code! Thanks"
      ],
      "execution_count": 1679,
      "outputs": []
    },
    {
      "cell_type": "code",
      "metadata": {
        "id": "Mui49FlG0VA3"
      },
      "source": [
        "pip install -q tf-models-official\n"
      ],
      "execution_count": 1680,
      "outputs": []
    },
    {
      "cell_type": "code",
      "metadata": {
        "id": "Yio7mvFl0jSZ"
      },
      "source": [
        "#!pip install bert-tensorflow"
      ],
      "execution_count": 1681,
      "outputs": []
    },
    {
      "cell_type": "code",
      "metadata": {
        "colab": {
          "base_uri": "https://localhost:8080/"
        },
        "id": "9U9Scx8Q1jps",
        "outputId": "fe0a5293-9b67-4e16-ff64-7b214c155fe9"
      },
      "source": [
        "!pip install tensorflow-text"
      ],
      "execution_count": 1682,
      "outputs": [
        {
          "output_type": "stream",
          "text": [
            "Requirement already satisfied: tensorflow-text in /usr/local/lib/python3.7/dist-packages (2.5.0)\n",
            "Requirement already satisfied: tensorflow-hub>=0.8.0 in /usr/local/lib/python3.7/dist-packages (from tensorflow-text) (0.12.0)\n",
            "Requirement already satisfied: tensorflow<2.6,>=2.5.0 in /usr/local/lib/python3.7/dist-packages (from tensorflow-text) (2.5.0)\n",
            "Requirement already satisfied: protobuf>=3.8.0 in /usr/local/lib/python3.7/dist-packages (from tensorflow-hub>=0.8.0->tensorflow-text) (3.12.4)\n",
            "Requirement already satisfied: numpy>=1.12.0 in /usr/local/lib/python3.7/dist-packages (from tensorflow-hub>=0.8.0->tensorflow-text) (1.19.5)\n",
            "Requirement already satisfied: tensorboard~=2.5 in /usr/local/lib/python3.7/dist-packages (from tensorflow<2.6,>=2.5.0->tensorflow-text) (2.5.0)\n",
            "Requirement already satisfied: tensorflow-estimator<2.6.0,>=2.5.0rc0 in /usr/local/lib/python3.7/dist-packages (from tensorflow<2.6,>=2.5.0->tensorflow-text) (2.5.0)\n",
            "Requirement already satisfied: keras-preprocessing~=1.1.2 in /usr/local/lib/python3.7/dist-packages (from tensorflow<2.6,>=2.5.0->tensorflow-text) (1.1.2)\n",
            "Requirement already satisfied: astunparse~=1.6.3 in /usr/local/lib/python3.7/dist-packages (from tensorflow<2.6,>=2.5.0->tensorflow-text) (1.6.3)\n",
            "Requirement already satisfied: typing-extensions~=3.7.4 in /usr/local/lib/python3.7/dist-packages (from tensorflow<2.6,>=2.5.0->tensorflow-text) (3.7.4.3)\n",
            "Requirement already satisfied: grpcio~=1.34.0 in /usr/local/lib/python3.7/dist-packages (from tensorflow<2.6,>=2.5.0->tensorflow-text) (1.34.1)\n",
            "Requirement already satisfied: wrapt~=1.12.1 in /usr/local/lib/python3.7/dist-packages (from tensorflow<2.6,>=2.5.0->tensorflow-text) (1.12.1)\n",
            "Requirement already satisfied: google-pasta~=0.2 in /usr/local/lib/python3.7/dist-packages (from tensorflow<2.6,>=2.5.0->tensorflow-text) (0.2.0)\n",
            "Requirement already satisfied: opt-einsum~=3.3.0 in /usr/local/lib/python3.7/dist-packages (from tensorflow<2.6,>=2.5.0->tensorflow-text) (3.3.0)\n",
            "Requirement already satisfied: h5py~=3.1.0 in /usr/local/lib/python3.7/dist-packages (from tensorflow<2.6,>=2.5.0->tensorflow-text) (3.1.0)\n",
            "Requirement already satisfied: gast==0.4.0 in /usr/local/lib/python3.7/dist-packages (from tensorflow<2.6,>=2.5.0->tensorflow-text) (0.4.0)\n",
            "Requirement already satisfied: flatbuffers~=1.12.0 in /usr/local/lib/python3.7/dist-packages (from tensorflow<2.6,>=2.5.0->tensorflow-text) (1.12)\n",
            "Requirement already satisfied: wheel~=0.35 in /usr/local/lib/python3.7/dist-packages (from tensorflow<2.6,>=2.5.0->tensorflow-text) (0.36.2)\n",
            "Requirement already satisfied: keras-nightly~=2.5.0.dev in /usr/local/lib/python3.7/dist-packages (from tensorflow<2.6,>=2.5.0->tensorflow-text) (2.5.0.dev2021032900)\n",
            "Requirement already satisfied: absl-py~=0.10 in /usr/local/lib/python3.7/dist-packages (from tensorflow<2.6,>=2.5.0->tensorflow-text) (0.12.0)\n",
            "Requirement already satisfied: termcolor~=1.1.0 in /usr/local/lib/python3.7/dist-packages (from tensorflow<2.6,>=2.5.0->tensorflow-text) (1.1.0)\n",
            "Requirement already satisfied: six~=1.15.0 in /usr/local/lib/python3.7/dist-packages (from tensorflow<2.6,>=2.5.0->tensorflow-text) (1.15.0)\n",
            "Requirement already satisfied: setuptools in /usr/local/lib/python3.7/dist-packages (from protobuf>=3.8.0->tensorflow-hub>=0.8.0->tensorflow-text) (57.0.0)\n",
            "Requirement already satisfied: werkzeug>=0.11.15 in /usr/local/lib/python3.7/dist-packages (from tensorboard~=2.5->tensorflow<2.6,>=2.5.0->tensorflow-text) (1.0.1)\n",
            "Requirement already satisfied: requests<3,>=2.21.0 in /usr/local/lib/python3.7/dist-packages (from tensorboard~=2.5->tensorflow<2.6,>=2.5.0->tensorflow-text) (2.23.0)\n",
            "Requirement already satisfied: markdown>=2.6.8 in /usr/local/lib/python3.7/dist-packages (from tensorboard~=2.5->tensorflow<2.6,>=2.5.0->tensorflow-text) (3.3.4)\n",
            "Requirement already satisfied: google-auth<2,>=1.6.3 in /usr/local/lib/python3.7/dist-packages (from tensorboard~=2.5->tensorflow<2.6,>=2.5.0->tensorflow-text) (1.31.0)\n",
            "Requirement already satisfied: tensorboard-plugin-wit>=1.6.0 in /usr/local/lib/python3.7/dist-packages (from tensorboard~=2.5->tensorflow<2.6,>=2.5.0->tensorflow-text) (1.8.0)\n",
            "Requirement already satisfied: tensorboard-data-server<0.7.0,>=0.6.0 in /usr/local/lib/python3.7/dist-packages (from tensorboard~=2.5->tensorflow<2.6,>=2.5.0->tensorflow-text) (0.6.1)\n",
            "Requirement already satisfied: google-auth-oauthlib<0.5,>=0.4.1 in /usr/local/lib/python3.7/dist-packages (from tensorboard~=2.5->tensorflow<2.6,>=2.5.0->tensorflow-text) (0.4.4)\n",
            "Requirement already satisfied: cached-property; python_version < \"3.8\" in /usr/local/lib/python3.7/dist-packages (from h5py~=3.1.0->tensorflow<2.6,>=2.5.0->tensorflow-text) (1.5.2)\n",
            "Requirement already satisfied: certifi>=2017.4.17 in /usr/local/lib/python3.7/dist-packages (from requests<3,>=2.21.0->tensorboard~=2.5->tensorflow<2.6,>=2.5.0->tensorflow-text) (2021.5.30)\n",
            "Requirement already satisfied: idna<3,>=2.5 in /usr/local/lib/python3.7/dist-packages (from requests<3,>=2.21.0->tensorboard~=2.5->tensorflow<2.6,>=2.5.0->tensorflow-text) (2.10)\n",
            "Requirement already satisfied: chardet<4,>=3.0.2 in /usr/local/lib/python3.7/dist-packages (from requests<3,>=2.21.0->tensorboard~=2.5->tensorflow<2.6,>=2.5.0->tensorflow-text) (3.0.4)\n",
            "Requirement already satisfied: urllib3!=1.25.0,!=1.25.1,<1.26,>=1.21.1 in /usr/local/lib/python3.7/dist-packages (from requests<3,>=2.21.0->tensorboard~=2.5->tensorflow<2.6,>=2.5.0->tensorflow-text) (1.24.3)\n",
            "Requirement already satisfied: importlib-metadata; python_version < \"3.8\" in /usr/local/lib/python3.7/dist-packages (from markdown>=2.6.8->tensorboard~=2.5->tensorflow<2.6,>=2.5.0->tensorflow-text) (4.5.0)\n",
            "Requirement already satisfied: cachetools<5.0,>=2.0.0 in /usr/local/lib/python3.7/dist-packages (from google-auth<2,>=1.6.3->tensorboard~=2.5->tensorflow<2.6,>=2.5.0->tensorflow-text) (4.2.2)\n",
            "Requirement already satisfied: rsa<5,>=3.1.4; python_version >= \"3.6\" in /usr/local/lib/python3.7/dist-packages (from google-auth<2,>=1.6.3->tensorboard~=2.5->tensorflow<2.6,>=2.5.0->tensorflow-text) (4.7.2)\n",
            "Requirement already satisfied: pyasn1-modules>=0.2.1 in /usr/local/lib/python3.7/dist-packages (from google-auth<2,>=1.6.3->tensorboard~=2.5->tensorflow<2.6,>=2.5.0->tensorflow-text) (0.2.8)\n",
            "Requirement already satisfied: requests-oauthlib>=0.7.0 in /usr/local/lib/python3.7/dist-packages (from google-auth-oauthlib<0.5,>=0.4.1->tensorboard~=2.5->tensorflow<2.6,>=2.5.0->tensorflow-text) (1.3.0)\n",
            "Requirement already satisfied: zipp>=0.5 in /usr/local/lib/python3.7/dist-packages (from importlib-metadata; python_version < \"3.8\"->markdown>=2.6.8->tensorboard~=2.5->tensorflow<2.6,>=2.5.0->tensorflow-text) (3.4.1)\n",
            "Requirement already satisfied: pyasn1>=0.1.3 in /usr/local/lib/python3.7/dist-packages (from rsa<5,>=3.1.4; python_version >= \"3.6\"->google-auth<2,>=1.6.3->tensorboard~=2.5->tensorflow<2.6,>=2.5.0->tensorflow-text) (0.4.8)\n",
            "Requirement already satisfied: oauthlib>=3.0.0 in /usr/local/lib/python3.7/dist-packages (from requests-oauthlib>=0.7.0->google-auth-oauthlib<0.5,>=0.4.1->tensorboard~=2.5->tensorflow<2.6,>=2.5.0->tensorflow-text) (3.1.1)\n"
          ],
          "name": "stdout"
        }
      ]
    },
    {
      "cell_type": "code",
      "metadata": {
        "id": "dGobds8gs9xV"
      },
      "source": [
        "import numpy as np\n",
        "import matplotlib.pyplot as plt\n",
        "from matplotlib import pyplot\n",
        "import seaborn as sns\n",
        "import csv\n",
        "import os\n",
        "import pandas as pd\n",
        "from sklearn.model_selection import train_test_split\n",
        "\n",
        "from tensorflow.keras.preprocessing.sequence import pad_sequences\n",
        "from tensorflow.keras.layers import Embedding, LSTM, Dense, Dropout, Bidirectional\n",
        "from tensorflow.keras.preprocessing.text import Tokenizer\n",
        "from tensorflow.keras.models import Sequential\n",
        "from tensorflow.keras.optimizers import Adam\n",
        "from tensorflow.keras import regularizers\n",
        "from keras import regularizers\n",
        "import tensorflow.keras.utils as ku\n",
        "from tensorflow.keras.utils import to_categorical\n",
        "import tensorflow_hub as hub\n",
        "\n",
        "from sklearn.naive_bayes import MultinomialNB\n",
        "from sklearn.pipeline import Pipeline\n",
        "from sklearn.feature_extraction.text import TfidfTransformer\n",
        "from sklearn.linear_model import SGDClassifier\n",
        "from sklearn.linear_model import LogisticRegression\n",
        "from sklearn.metrics import recall_score, precision_score, f1_score\n",
        "\n",
        "from sklearn.ensemble import RandomForestClassifier\n",
        "from sklearn.preprocessing import StandardScaler\n",
        "from sklearn.metrics import classification_report, confusion_matrix, accuracy_score\n",
        "\n",
        "from sklearn.datasets import make_classification\n",
        "from sklearn.model_selection import cross_val_score\n",
        "from sklearn.model_selection import RepeatedStratifiedKFold\n",
        "from sklearn.ensemble import RandomForestClassifier\n",
        "import matplotlib.pyplot as plt\n",
        "import matplotlib.image as mpimg\n",
        "from sklearn.naive_bayes import MultinomialNB\n",
        "from sklearn.pipeline import Pipeline\n",
        "\n",
        "from sklearn.feature_extraction.text import CountVectorizer\n",
        "\n",
        "#import tensorflow_text as text\n",
        "from official.nlp import optimization  # to create AdamW optimizer\n",
        "\n",
        "from gensim.models import Word2Vec\n",
        "from gensim.models import KeyedVectors\n",
        "\n",
        "\n",
        "import nltk \n",
        "from nltk.corpus import stopwords\n",
        "from nltk.stem.snowball import SnowballStemmer\n",
        "from nltk.tokenize import word_tokenize \n",
        "\n",
        "import tensorflow as tf\n",
        "import random\n",
        "\n",
        "import tensorflow_text as text \n",
        "\n",
        "from official.modeling import tf_utils\n",
        "from official import nlp\n",
        "from official.nlp import bert\n",
        "\n",
        "# Load the required submodules\n",
        "import official.nlp.optimization\n",
        "import official.nlp.bert.bert_models\n",
        "import official.nlp.bert.configs\n",
        "import official.nlp.bert.run_classifier\n",
        "import official.nlp.bert.tokenization\n",
        "import official.nlp.data.classifier_data_lib\n",
        "import official.nlp.modeling.losses\n",
        "import official.nlp.modeling.models\n",
        "import official.nlp.modeling.networks"
      ],
      "execution_count": 1683,
      "outputs": []
    },
    {
      "cell_type": "code",
      "metadata": {
        "id": "vR3fbbyfs9xV"
      },
      "source": [
        "#In case of Google Colab run this:\n",
        "#from google.colab import files\n",
        "#uploaded = files.upload()"
      ],
      "execution_count": 1684,
      "outputs": []
    },
    {
      "cell_type": "code",
      "metadata": {
        "id": "-tqN0yUK8O5E"
      },
      "source": [
        "import pandas as pd\n",
        "url = 'https://nc.rootnix.de/s/KS7Hkn8Cw4mdCMm/download/data_MailsAndPC_UPDATE.csv'\n",
        "azubi_df = pd.read_csv(url,index_col=0,parse_dates=[0])"
      ],
      "execution_count": 1685,
      "outputs": []
    },
    {
      "cell_type": "code",
      "metadata": {
        "id": "1qU6uzHys9xW"
      },
      "source": [
        "#import io\n",
        "#azubi_df = pd.read_csv(io.BytesIO(uploaded['data_MailsAndPC.csv']))"
      ],
      "execution_count": 1686,
      "outputs": []
    },
    {
      "cell_type": "code",
      "metadata": {
        "id": "FFzncW_Ouehq"
      },
      "source": [
        "#Global Hyperparameters\n",
        "vocab_size = 3000\n",
        "embedding_dim = 32\n",
        "max_length = 200\n",
        "trunc_type='post'\n",
        "padding_type='post'\n",
        "oov_tok = \"<OOV>\"\n",
        "\n"
      ],
      "execution_count": 1687,
      "outputs": []
    },
    {
      "cell_type": "code",
      "metadata": {
        "id": "4NHHGH37vnVz"
      },
      "source": [
        "executionType = 1"
      ],
      "execution_count": 1688,
      "outputs": []
    },
    {
      "cell_type": "code",
      "metadata": {
        "id": "HM2nxJkJs9xW"
      },
      "source": [
        "#In case of local github export run this:\n",
        "#DATA_FOLDER = './../data'\n",
        "#AZUBI_DATA = 'data_MailsAndPC.csv'\n",
        "#AZUBI_DATA_CLEANED = 'data_MailsAndPC_cleaned.csv'\n",
        "#azubi_df = pd.read_csv(os.path.join(DATA_FOLDER, AZUBI_DATA))"
      ],
      "execution_count": 1689,
      "outputs": []
    },
    {
      "cell_type": "code",
      "metadata": {
        "id": "IfeGAqr4s9xX"
      },
      "source": [
        ""
      ],
      "execution_count": 1689,
      "outputs": []
    },
    {
      "cell_type": "markdown",
      "metadata": {
        "id": "lm2kVe3jz61A"
      },
      "source": [
        "# Data Preparation\n"
      ]
    },
    {
      "cell_type": "markdown",
      "metadata": {
        "id": "dCvEwcJz-daw"
      },
      "source": [
        "## Data Preparation Functions"
      ]
    },
    {
      "cell_type": "code",
      "metadata": {
        "id": "7Zm-nnaJQqWN"
      },
      "source": [
        "def selectColumns(azubi_df, mail, item):\n",
        "\n",
        "  azubi_df_selected_columns = azubi_df[[mail,item]]\n",
        "\n",
        "  return azubi_df_selected_columns"
      ],
      "execution_count": 1690,
      "outputs": []
    },
    {
      "cell_type": "code",
      "metadata": {
        "id": "253GubJ5s9xZ"
      },
      "source": [
        "def cleanupDataframe(azubi_df, mail, item):\n",
        "    #Remove unneccesary columns\n",
        "    #azubi_df = azubi_df.drop(columns=['Unnamed: 0', 'id'])\n",
        "    #Remove \"cr\". Assumption made, that there are no real words containing cr in the mails.\n",
        "    azubi_df[\"S1_mail\"] = azubi_df[\"S1_mail\"].str.replace(\"cr\", \" \")\n",
        "    azubi_df[\"S2_mail\"] = azubi_df[\"S2_mail\"].str.replace(\"cr\", \" \")\n",
        "    azubi_df[\"S3_mail\"] = azubi_df[\"S3_mail\"].str.replace(\"cr\", \" \")\n",
        "    \n",
        "    azubi_df = selectColumns(azubi_df, mail, item)\n",
        "    #Drop NA rows to only have full datasets\n",
        "    azubi_df = azubi_df.dropna()\n",
        "    #Select all rows without '99' | ~ inverts the operator\n",
        "    dropThisNumber = 99\n",
        "    azubi_df = azubi_df[~azubi_df.eq(dropThisNumber).any(1)]\n",
        "    #Select all rows without '6' | ~ inverts the operator\n",
        "    #dropThisNumber = 6\n",
        "    #azubi_df = azubi_df[~azubi_df.eq(dropThisNumber).any(1)]\n",
        "    #Reset the index of the Dataframe\n",
        "    azubi_df = azubi_df.reset_index(drop=True)\n",
        "    return azubi_df"
      ],
      "execution_count": 1691,
      "outputs": []
    },
    {
      "cell_type": "code",
      "metadata": {
        "id": "iNwHseQc2pCV"
      },
      "source": [
        "def trainDevTestSplit_sklearn(X, Y, testSize, randomSeed, stratify):\n",
        "  #Splits by test size into Train / Dev\n",
        "  #Splits dev then 50/50 into dev and Test\n",
        "\n",
        "  if (stratify == True):\n",
        "    xTrain, xDev, yTrain, yDev = train_test_split(X, Y, test_size=testSize,stratify = Y, random_state=randomSeed)\n",
        "  else:\n",
        "    xTrain, xDev, yTrain, yDev = train_test_split(X, Y, test_size=testSize, random_state=randomSeed)\n",
        "\n",
        "  xTest = xDev[:len(xDev)//2]\n",
        "  yTest = yDev[:len(yDev)//2]\n",
        "  \n",
        "  xDev = xDev[len(xDev)//2:]\n",
        "  yDev = yDev[len(yDev)//2:]\n",
        "  #xDev, yDev, xTest, yTest = train_test_split(xDev, yDev, test_size =0.5, random_state = randomSeed)\n",
        "\n",
        "  return xTrain, yTrain, xDev, yDev, xTest, yTest"
      ],
      "execution_count": 1692,
      "outputs": []
    },
    {
      "cell_type": "code",
      "metadata": {
        "id": "aLjrs8Ql3ZsB"
      },
      "source": [
        "def tokenizeData(vocab_size, oov_tok, train_sentences, max_length, padding_type, trunc_type):\n",
        "    tokenizer = Tokenizer(num_words = vocab_size, oov_token=oov_tok)\n",
        "    tokenizer.fit_on_texts(train_sentences)\n",
        "   \n",
        "    word_index = tokenizer.word_index\n",
        "    vocab_size=len(word_index)\n",
        "\n",
        "    print(\"Word Index: \\n\")\n",
        "    print(word_index)\n",
        "    \n",
        "    sequences = tokenizer.texts_to_sequences(train_sentences)\n",
        "\n",
        "    print(\"Sequences: \\n\")\n",
        "    print(sequences)\n",
        "    padded = pad_sequences(sequences, maxlen=max_length, padding=padding_type, truncating=trunc_type)\n",
        "\n",
        "    return padded"
      ],
      "execution_count": 1693,
      "outputs": []
    },
    {
      "cell_type": "code",
      "metadata": {
        "id": "B_XrQiWFyR3D"
      },
      "source": [
        "def oneHotEncodePreSplit(yTrain, removeZeros):\n",
        "  #a = np.array([1, 0, 3])\n",
        "  #yTrain = yTrain.astype(int)\n",
        "  \n",
        "  print(\"Unique Values:\")\n",
        "  print(np.unique(yTrain))\n",
        "  print(\"\\n\")\n",
        "  yTrainOneHot = tf.keras.utils.to_categorical(yTrain)\n",
        "  print(\"Classes before removing zeros:\")\n",
        "  print(yTrainOneHot)\n",
        "  print(yTrainOneHot.sum(axis=0))\n",
        "  print(\"\\n\")\n",
        "\n",
        "  if (removeZeros == True):\n",
        "    yTrainOneHot = yTrainOneHot[:,~np.all(yTrainOneHot == 0, axis = 0)]\n",
        "  print(\"Classes after removing zeros:\")\n",
        "  print(yTrainOneHot)\n",
        "  print(yTrainOneHot.sum(axis=0))\n",
        "  print(\"\\n\")\n",
        "\n",
        "  return yTrainOneHot"
      ],
      "execution_count": 1694,
      "outputs": []
    },
    {
      "cell_type": "code",
      "metadata": {
        "id": "lXudDjuNRXo1"
      },
      "source": [
        "def makeListSelectedColumns(azubi_df, mail, score):\n",
        "  #Sentence S1\n",
        "  mailSentences = azubi_df[mail].tolist()\n",
        "  #Labels S1\n",
        "  scoreLabels = azubi_df[score].tolist()\n",
        "\n",
        "  return mailSentences, scoreLabels"
      ],
      "execution_count": 1695,
      "outputs": []
    },
    {
      "cell_type": "markdown",
      "metadata": {
        "id": "RkFz6t2qQUOn"
      },
      "source": [
        "## Stop Words\n"
      ]
    },
    {
      "cell_type": "code",
      "metadata": {
        "id": "VMlPtbzIUoTH"
      },
      "source": [
        "#stopwords\n",
        "def removeStopWordsSelectedColumns(azubi_df_cleaned, mail):\n",
        "\n",
        "  nltk.download('punkt')\n",
        "  nltk.download('stopwords')\n",
        "\n",
        "  stemmer = SnowballStemmer(\"german\")\n",
        "  stop_words = set(stopwords.words(\"german\"))\n",
        "  #stop_words.add('Meier')\n",
        "  #stop_words.add('Neumann')\n",
        "\n",
        "  azubi_df_cleaned_no_stopwords = pd.DataFrame()\n",
        "\n",
        "  pat = r'\\b(?:{})\\b'.format('|'.join(stop_words))\n",
        "  azubi_df_cleaned[mail] = azubi_df_cleaned[mail].str.replace(pat, '')\n",
        "  azubi_df_cleaned[mail] = azubi_df_cleaned[mail].str.replace(r'\\s+', ' ')\n",
        "\n",
        "  return azubi_df_cleaned\n",
        "\n",
        "#allerdings Wörter wie \"nicht\" enthalten"
      ],
      "execution_count": 1696,
      "outputs": []
    },
    {
      "cell_type": "markdown",
      "metadata": {
        "id": "GqY5lr_m28HI"
      },
      "source": [
        "## Show Model Performance"
      ]
    },
    {
      "cell_type": "code",
      "metadata": {
        "id": "p5nwd0d726iw"
      },
      "source": [
        "def showModelPerformance(history, string):\n",
        "    plt.plot(history.history[string])\n",
        "    plt.plot(history.history['val_'+string])\n",
        "    plt.xlabel(\"Epochs\")\n",
        "    plt.ylabel(string)\n",
        "    plt.title('Random Forest Model')\n",
        "    plt.legend([string, 'val_'+string])\n",
        "    plt.show()\n",
        "\n",
        "    return"
      ],
      "execution_count": 1697,
      "outputs": []
    },
    {
      "cell_type": "markdown",
      "metadata": {
        "id": "wT2uSeoc2JfL"
      },
      "source": [
        "## Execute Data Preparation\n",
        "\n"
      ]
    },
    {
      "cell_type": "code",
      "metadata": {
        "colab": {
          "base_uri": "https://localhost:8080/"
        },
        "id": "C1cGLLiBDKtY",
        "outputId": "8d5ddbbf-7e62-43db-e827-23fddc90fbb9"
      },
      "source": [
        "new_df = removeStopWordsSelectedColumns(azubi_df_mails_and_scored_combined, 'Mails_Combined')\n",
        "#take care there was a typo and i removed it here. But i dunnow if someone intentionally won't use stopwords"
      ],
      "execution_count": 1698,
      "outputs": [
        {
          "output_type": "stream",
          "text": [
            "[nltk_data] Downloading package punkt to /root/nltk_data...\n",
            "[nltk_data]   Package punkt is already up-to-date!\n",
            "[nltk_data] Downloading package stopwords to /root/nltk_data...\n",
            "[nltk_data]   Package stopwords is already up-to-date!\n"
          ],
          "name": "stdout"
        }
      ]
    },
    {
      "cell_type": "markdown",
      "metadata": {
        "id": "b1o5IhvFEhdq"
      },
      "source": [
        "## Combine all mails for a4s2_combined_i2b score\n",
        "\n"
      ]
    },
    {
      "cell_type": "code",
      "metadata": {
        "id": "2fY2PLulBOQ6"
      },
      "source": [
        "#Create new dataframe\n",
        "azubi_df_mails_and_scored_combined = pd.DataFrame(columns=[\"Mails_Combined\", \"a4s_combined_i2b\"])\n",
        "#Use cleanup function to select the correct data from the dataframe\n",
        "azubi_df_mail1 = cleanupDataframe(azubi_df, 'S1_mail', 'a4s1i2b')\n",
        "azubi_df_mail2 = cleanupDataframe(azubi_df, 'S2_mail', 'a4s2i2b')\n",
        "azubi_df_mail3 = cleanupDataframe(azubi_df, 'S3_mail', 'a4s3i2b')"
      ],
      "execution_count": 1699,
      "outputs": []
    },
    {
      "cell_type": "code",
      "metadata": {
        "id": "W_3-vjNKCJTk"
      },
      "source": [
        "#Rename the columns\n",
        "azubi_df_mail1_renamed = azubi_df_mail1.rename(columns={\"S1_mail\": \"Mails_Combined\", \"a4s1i2b\": \"a4s_combined_i2b\"})\n",
        "azubi_df_mail2_renamed = azubi_df_mail2.rename(columns={\"S2_mail\": \"Mails_Combined\", \"a4s2i2b\": \"a4s_combined_i2b\"})\n",
        "azubi_df_mail3_renamed = azubi_df_mail3.rename(columns={\"S3_mail\": \"Mails_Combined\", \"a4s3i2b\": \"a4s_combined_i2b\"})"
      ],
      "execution_count": 1700,
      "outputs": []
    },
    {
      "cell_type": "code",
      "metadata": {
        "id": "4hdbd12mCv0f"
      },
      "source": [
        "#Append the renamed columns, ignore index so it is appended at the end\n",
        "azubi_df_mails_and_scored_combined = azubi_df_mails_and_scored_combined.append(azubi_df_mail1_renamed, ignore_index=True)\n",
        "azubi_df_mails_and_scored_combined = azubi_df_mails_and_scored_combined.append(azubi_df_mail2_renamed, ignore_index=True)\n",
        "azubi_df_mails_and_scored_combined = azubi_df_mails_and_scored_combined.append(azubi_df_mail3_renamed, ignore_index=True)"
      ],
      "execution_count": 1701,
      "outputs": []
    },
    {
      "cell_type": "code",
      "metadata": {
        "id": "78LqLIZjC5zb"
      },
      "source": [
        "azubi_df_mails_and_scored_combined = azubi_df_mails_and_scored_combined[azubi_df_mails_and_scored_combined.a4s_combined_i2b != 9.0]\n",
        "azubi_df_mails_and_scored_combined = azubi_df_mails_and_scored_combined[azubi_df_mails_and_scored_combined.a4s_combined_i2b != 2.0]\n",
        "azubi_df_mails_and_scored_combined = azubi_df_mails_and_scored_combined.reset_index()"
      ],
      "execution_count": 1702,
      "outputs": []
    },
    {
      "cell_type": "code",
      "metadata": {
        "id": "TAjvQ3lw3vif",
        "colab": {
          "base_uri": "https://localhost:8080/",
          "height": 36
        },
        "outputId": "f24623c9-33dd-4001-db42-3c0933e86546"
      },
      "source": [
        "azubi_df_mails_and_scored_combined['Mails_Combined'][2]"
      ],
      "execution_count": 1703,
      "outputs": [
        {
          "output_type": "execute_result",
          "data": {
            "application/vnd.google.colaboratory.intrinsic+json": {
              "type": "string"
            },
            "text/plain": [
              "'bitte kommen Sie rüber und erklären mir es selbst'"
            ]
          },
          "metadata": {
            "tags": []
          },
          "execution_count": 1703
        }
      ]
    },
    {
      "cell_type": "code",
      "metadata": {
        "id": "iaoTEgisESHp",
        "colab": {
          "base_uri": "https://localhost:8080/"
        },
        "outputId": "ba13894a-58ae-4f6b-e98f-4fd242116709"
      },
      "source": [
        "azubi_df_mails_and_scored_combined['a4s_combined_i2b']"
      ],
      "execution_count": 1704,
      "outputs": [
        {
          "output_type": "execute_result",
          "data": {
            "text/plain": [
              "0       1.0\n",
              "1       1.0\n",
              "2       0.0\n",
              "3       1.0\n",
              "4       1.0\n",
              "       ... \n",
              "2082    0.0\n",
              "2083    1.0\n",
              "2084    1.0\n",
              "2085    1.0\n",
              "2086    1.0\n",
              "Name: a4s_combined_i2b, Length: 2087, dtype: float64"
            ]
          },
          "metadata": {
            "tags": []
          },
          "execution_count": 1704
        }
      ]
    },
    {
      "cell_type": "code",
      "metadata": {
        "id": "BltN2QS78Tdc",
        "colab": {
          "base_uri": "https://localhost:8080/",
          "height": 424
        },
        "outputId": "28652f16-48c1-49c0-b16d-6526350cab18"
      },
      "source": [
        "azubi_df_mails_and_scored_combined"
      ],
      "execution_count": 1705,
      "outputs": [
        {
          "output_type": "execute_result",
          "data": {
            "text/html": [
              "<div>\n",
              "<style scoped>\n",
              "    .dataframe tbody tr th:only-of-type {\n",
              "        vertical-align: middle;\n",
              "    }\n",
              "\n",
              "    .dataframe tbody tr th {\n",
              "        vertical-align: top;\n",
              "    }\n",
              "\n",
              "    .dataframe thead th {\n",
              "        text-align: right;\n",
              "    }\n",
              "</style>\n",
              "<table border=\"1\" class=\"dataframe\">\n",
              "  <thead>\n",
              "    <tr style=\"text-align: right;\">\n",
              "      <th></th>\n",
              "      <th>index</th>\n",
              "      <th>Mails_Combined</th>\n",
              "      <th>a4s_combined_i2b</th>\n",
              "    </tr>\n",
              "  </thead>\n",
              "  <tbody>\n",
              "    <tr>\n",
              "      <th>0</th>\n",
              "      <td>0</td>\n",
              "      <td>Hallo Fr. Meier,  leider konnte ich die von Ih...</td>\n",
              "      <td>1.0</td>\n",
              "    </tr>\n",
              "    <tr>\n",
              "      <th>1</th>\n",
              "      <td>1</td>\n",
              "      <td>Ihre Antwort...   Der EP Plan weicht viel zuse...</td>\n",
              "      <td>1.0</td>\n",
              "    </tr>\n",
              "    <tr>\n",
              "      <th>2</th>\n",
              "      <td>2</td>\n",
              "      <td>bitte kommen Sie rüber und erklären mir es selbst</td>\n",
              "      <td>0.0</td>\n",
              "    </tr>\n",
              "    <tr>\n",
              "      <th>3</th>\n",
              "      <td>3</td>\n",
              "      <td>Sehr geehrte Frau Meier,  leider konnte Ich Ih...</td>\n",
              "      <td>1.0</td>\n",
              "    </tr>\n",
              "    <tr>\n",
              "      <th>4</th>\n",
              "      <td>5</td>\n",
              "      <td>Hallo Frau Meier,  das Controlling hat für das...</td>\n",
              "      <td>1.0</td>\n",
              "    </tr>\n",
              "    <tr>\n",
              "      <th>...</th>\n",
              "      <td>...</td>\n",
              "      <td>...</td>\n",
              "      <td>...</td>\n",
              "    </tr>\n",
              "    <tr>\n",
              "      <th>2082</th>\n",
              "      <td>2135</td>\n",
              "      <td>Hallo Herr Neumann,  gerne würde ich Ihnen mei...</td>\n",
              "      <td>0.0</td>\n",
              "    </tr>\n",
              "    <tr>\n",
              "      <th>2083</th>\n",
              "      <td>2136</td>\n",
              "      <td>Hallo Herr Neumann,  leider konnte ich aus der...</td>\n",
              "      <td>1.0</td>\n",
              "    </tr>\n",
              "    <tr>\n",
              "      <th>2084</th>\n",
              "      <td>2137</td>\n",
              "      <td>Ihre Antwort...  Guten Tag Herr Neumann,  leid...</td>\n",
              "      <td>1.0</td>\n",
              "    </tr>\n",
              "    <tr>\n",
              "      <th>2085</th>\n",
              "      <td>2138</td>\n",
              "      <td>Guten Tag Herr Neumann,  hier die beiden Liste...</td>\n",
              "      <td>1.0</td>\n",
              "    </tr>\n",
              "    <tr>\n",
              "      <th>2086</th>\n",
              "      <td>2139</td>\n",
              "      <td>Hallo Herr Neumann,  anbei die ausfüllten Tabe...</td>\n",
              "      <td>1.0</td>\n",
              "    </tr>\n",
              "  </tbody>\n",
              "</table>\n",
              "<p>2087 rows × 3 columns</p>\n",
              "</div>"
            ],
            "text/plain": [
              "      index  ... a4s_combined_i2b\n",
              "0         0  ...              1.0\n",
              "1         1  ...              1.0\n",
              "2         2  ...              0.0\n",
              "3         3  ...              1.0\n",
              "4         5  ...              1.0\n",
              "...     ...  ...              ...\n",
              "2082   2135  ...              0.0\n",
              "2083   2136  ...              1.0\n",
              "2084   2137  ...              1.0\n",
              "2085   2138  ...              1.0\n",
              "2086   2139  ...              1.0\n",
              "\n",
              "[2087 rows x 3 columns]"
            ]
          },
          "metadata": {
            "tags": []
          },
          "execution_count": 1705
        }
      ]
    },
    {
      "cell_type": "markdown",
      "metadata": {
        "id": "XW2NGDIXg9Zh"
      },
      "source": [
        "### Selected Columns Scores"
      ]
    },
    {
      "cell_type": "code",
      "metadata": {
        "id": "yvdbiU3MRJH-"
      },
      "source": [
        "def prepareDataSelectedColumns(azubi_df, mail, score, doCleanup, paddedOutput, word2vec): \n",
        "  #Prepare the data\n",
        "  if doCleanup == True:\n",
        "    azubi_df_cleaned = cleanupDataframe(azubi_df, mail, score)\n",
        "  else:\n",
        "    azubi_df_cleaned = azubi_df\n",
        "  #print(azubi_df_cleaned[score][9])\n",
        "\n",
        "  #Remove Stop words\n",
        "  #azubi_df_cleaned_no_stopwords = removeStopWordsSelectedColumns(azubi_df_cleaned, mail)\n",
        "  mailSentences, scoreLabels = makeListSelectedColumns(azubi_df_cleaned, mail, score)\n",
        "  print(len(mailSentences))\n",
        "  print(len(scoreLabels))\n",
        "\n",
        "  yTrainOneHot = oneHotEncodePreSplit(np.array(scoreLabels), True)\n",
        "\n",
        "  if paddedOutput == True and word2vec == False:\n",
        "    print(\"Padded Output True\")\n",
        "    padded = tokenizeData(vocab_size, oov_tok, mailSentences, max_length, padding_type, trunc_type)\n",
        "    xTrain, yTrain, xVal, yVal, xTest, yTest = trainDevTestSplit_sklearn(padded, yTrainOneHot, 0.1, 42, False)\n",
        "  elif word2vec == True and paddedOutput == False:\n",
        "    padded = word2vecTokenizer(mailSentences, glove_vectors)\n",
        "    print(padded)\n",
        "  else:\n",
        "    xTrain, yTrain, xVal, yVal, xTest, yTest = trainDevTestSplit_sklearn(mailSentences, yTrainOneHot, 0.4, 42, False)\n",
        "\n",
        "  xTrainArray = xTrain#np.array(xTrain)\n",
        "  yTrainArray = yTrain#np.array(yTrain)\n",
        "\n",
        "\n",
        "  xValArray = xVal#np.array(xVal)\n",
        "  yValArray = yVal#np.array(yVal)\n",
        "\n",
        "\n",
        "  xTestArray = xTest#np.array(xTest)\n",
        "  yTestArray = yTest#np.array(yTest)\n",
        "  print(len(xTrainArray))\n",
        "  print(len(yTrainArray))\n",
        "  print(len(xValArray))\n",
        "  print(len(yValArray))\n",
        "  print(len(xTestArray))\n",
        "  print(len(yTestArray))\n",
        "\n",
        "\n",
        "  return xTrainArray, yTrainArray, xValArray, yValArray, xTestArray, yTestArray, azubi_df_cleaned\n"
      ],
      "execution_count": 1706,
      "outputs": []
    },
    {
      "cell_type": "code",
      "metadata": {
        "id": "Cwbmv5MJ79OJ"
      },
      "source": [
        "#xTrainArray"
      ],
      "execution_count": 1707,
      "outputs": []
    },
    {
      "cell_type": "code",
      "metadata": {
        "colab": {
          "base_uri": "https://localhost:8080/"
        },
        "id": "AB1YDw5ZS83B",
        "outputId": "df4096ba-26d3-4640-d4f5-a22120d396b3"
      },
      "source": [
        "xTrainArray, yTrainArray, xValArray, yValArray, xTestArray, yTestArray, azubi_df_cleaned_no_stopwords = prepareDataSelectedColumns(azubi_df_mails_and_scored_combined, 'Mails_Combined', 'a4s_combined_i2b', False, False, False)"
      ],
      "execution_count": 1708,
      "outputs": [
        {
          "output_type": "stream",
          "text": [
            "2087\n",
            "2087\n",
            "Unique Values:\n",
            "[0. 1.]\n",
            "\n",
            "\n",
            "Classes before removing zeros:\n",
            "[[0. 1.]\n",
            " [0. 1.]\n",
            " [1. 0.]\n",
            " ...\n",
            " [0. 1.]\n",
            " [0. 1.]\n",
            " [0. 1.]]\n",
            "[ 146. 1941.]\n",
            "\n",
            "\n",
            "Classes after removing zeros:\n",
            "[[0. 1.]\n",
            " [0. 1.]\n",
            " [1. 0.]\n",
            " ...\n",
            " [0. 1.]\n",
            " [0. 1.]\n",
            " [0. 1.]]\n",
            "[ 146. 1941.]\n",
            "\n",
            "\n",
            "1252\n",
            "1252\n",
            "418\n",
            "418\n",
            "417\n",
            "417\n"
          ],
          "name": "stdout"
        }
      ]
    },
    {
      "cell_type": "code",
      "metadata": {
        "colab": {
          "base_uri": "https://localhost:8080/"
        },
        "id": "ZrP4YZ4mw2bp",
        "outputId": "0b830679-21bc-4f1e-f6d8-7ff82174cb0e"
      },
      "source": [
        "xTrainArray2, yTrainArray2, xValArray2, yValArray2, xTestArray2, yTestArray2, azubi_df_cleaned_no_stopwords2 = prepareDataSelectedColumns(azubi_df, 'S2_mail', 'a4s2i2b', True,  False, False)"
      ],
      "execution_count": 1709,
      "outputs": [
        {
          "output_type": "stream",
          "text": [
            "725\n",
            "725\n",
            "Unique Values:\n",
            "[0. 1. 2. 9.]\n",
            "\n",
            "\n",
            "Classes before removing zeros:\n",
            "[[1. 0. 0. ... 0. 0. 0.]\n",
            " [0. 1. 0. ... 0. 0. 0.]\n",
            " [0. 1. 0. ... 0. 0. 0.]\n",
            " ...\n",
            " [0. 1. 0. ... 0. 0. 0.]\n",
            " [0. 1. 0. ... 0. 0. 0.]\n",
            " [0. 1. 0. ... 0. 0. 0.]]\n",
            "[ 38. 666.   1.   0.   0.   0.   0.   0.   0.  20.]\n",
            "\n",
            "\n",
            "Classes after removing zeros:\n",
            "[[1. 0. 0. 0.]\n",
            " [0. 1. 0. 0.]\n",
            " [0. 1. 0. 0.]\n",
            " ...\n",
            " [0. 1. 0. 0.]\n",
            " [0. 1. 0. 0.]\n",
            " [0. 1. 0. 0.]]\n",
            "[ 38. 666.   1.  20.]\n",
            "\n",
            "\n",
            "435\n",
            "435\n",
            "145\n",
            "145\n",
            "145\n",
            "145\n"
          ],
          "name": "stdout"
        }
      ]
    },
    {
      "cell_type": "code",
      "metadata": {
        "id": "E-G6cvVenIvA"
      },
      "source": [
        "#only for a4s2i2b\n",
        "#yTrainArray = np.delete(yTrainArray, 2, 1)\n",
        "#yTrainArray = np.delete(yTrainArray, 2, 1)\n",
        "\n",
        "#yValArray = np.delete(yValArray, 2, 1)\n",
        "#yValArray = np.delete(yValArray, 2, 1)\n",
        "\n",
        "#yTestArray = np.delete(yTestArray, 2, 1)\n",
        "#yTestArray = np.delete(yTestArray, 2, 1)"
      ],
      "execution_count": 1710,
      "outputs": []
    },
    {
      "cell_type": "code",
      "metadata": {
        "colab": {
          "base_uri": "https://localhost:8080/"
        },
        "id": "fIuVyHM6dswP",
        "outputId": "b973f8fc-4877-406e-cc0c-f0274d823825"
      },
      "source": [
        "yTrainArray.sum(axis=0)"
      ],
      "execution_count": 1711,
      "outputs": [
        {
          "output_type": "execute_result",
          "data": {
            "text/plain": [
              "array([  87., 1165.], dtype=float32)"
            ]
          },
          "metadata": {
            "tags": []
          },
          "execution_count": 1711
        }
      ]
    },
    {
      "cell_type": "code",
      "metadata": {
        "colab": {
          "base_uri": "https://localhost:8080/"
        },
        "id": "LJlA2Rm1d4Gt",
        "outputId": "d857b89f-dc3d-4bc1-f7b5-bee6f8854443"
      },
      "source": [
        "yValArray.sum(axis=0)"
      ],
      "execution_count": 1712,
      "outputs": [
        {
          "output_type": "execute_result",
          "data": {
            "text/plain": [
              "array([ 33., 385.], dtype=float32)"
            ]
          },
          "metadata": {
            "tags": []
          },
          "execution_count": 1712
        }
      ]
    },
    {
      "cell_type": "code",
      "metadata": {
        "colab": {
          "base_uri": "https://localhost:8080/"
        },
        "id": "CHNKE5odd4cC",
        "outputId": "77bf8c04-0274-4b89-ba7b-46c72a4d4d59"
      },
      "source": [
        "yTestArray.sum(axis=0)"
      ],
      "execution_count": 1713,
      "outputs": [
        {
          "output_type": "execute_result",
          "data": {
            "text/plain": [
              "array([ 26., 391.], dtype=float32)"
            ]
          },
          "metadata": {
            "tags": []
          },
          "execution_count": 1713
        }
      ]
    },
    {
      "cell_type": "code",
      "metadata": {
        "colab": {
          "base_uri": "https://localhost:8080/"
        },
        "id": "9CfS1_yCgi9U",
        "outputId": "993d561c-d25c-4345-9ce7-c4f67aeb9955"
      },
      "source": [
        "pd.set_option('display.max_rows', azubi_df.shape[0]+1)\n",
        "azubi_df['a4s1i2b'].unique()"
      ],
      "execution_count": 1714,
      "outputs": [
        {
          "output_type": "execute_result",
          "data": {
            "text/plain": [
              "array([ 1.,  0.,  9., nan])"
            ]
          },
          "metadata": {
            "tags": []
          },
          "execution_count": 1714
        }
      ]
    },
    {
      "cell_type": "markdown",
      "metadata": {
        "id": "zc-W0br9St45"
      },
      "source": [
        "### Sum Scores Data"
      ]
    },
    {
      "cell_type": "code",
      "metadata": {
        "id": "GwSqeUqH2MFL"
      },
      "source": [
        "def prepareDataSumScores(azubi_df, mail, score, paddedOutput): \n",
        "  #Prepare the data\n",
        "  azubi_df_cleaned = cleanupDataframe(azubi_df)\n",
        "  print(azubi_df_cleaned['S1_mail'][5])\n",
        "\n",
        "  #Remove Stop words\n",
        "  azubi_df_cleaned_no_stopwords = removeStopWords(azubi_df_cleaned)\n",
        "\n",
        "  azubi_df_list , s1MailSentences, s1MailA3Labels, s1MailA4Labels, s2MailSentences, s2MailA3Labels, s2MailA4Labels, s3MailSentences, s3MailA3Labels, s3MailA4Labels = makeList(azubi_df_cleaned_no_stopwords)\n",
        "\n",
        "  if (mail == 'S1'):\n",
        "    if (score == 'A3'):\n",
        "      yTrainOneHot,yTrainOneHotNoZeros = oneHotEncodePreSplit(np.array(s1MailA3Labels), False)\n",
        "    elif (score == 'A4'):\n",
        "      yTrainOneHot,yTrainOneHotNoZeros = oneHotEncodePreSplit(np.array(s1MailA4Labels), False)\n",
        "    \n",
        "    if (paddedOutput == True):\n",
        "      padded = tokenizeData(vocab_size, oov_tok, s1MailSentences, max_length, padding_type, trunc_type)\n",
        "      xTrain, yTrain, xVal, yVal, xTest, yTest = trainDevTestSplit_sklearn(padded, yTrainOneHot, 0.1, 42, False)\n",
        "    elif (paddedOutput == False):\n",
        "      xTrain, yTrain, xVal, yVal, xTest, yTest = trainDevTestSplit_sklearn(s1MailSentences, yTrainOneHot, 0.4, 42, False)\n",
        "  elif (mail == 'S2'):\n",
        "    if (score == 'A3'):\n",
        "      yTrainOneHot,yTrainOneHotNoZeros = oneHotEncodePreSplit(np.array(s2MailA3Labels), False)\n",
        "    elif (score == 'A4'):\n",
        "      yTrainOneHot,yTrainOneHotNoZeros = oneHotEncodePreSplit(np.array(s2MailA4Labels), False)\n",
        "    \n",
        "    if (paddedOutput == True):\n",
        "      padded = tokenizeData(vocab_size, oov_tok, s2MailSentences, max_length, padding_type, trunc_type)\n",
        "      xTrain, yTrain, xVal, yVal, xTest, yTest = trainDevTestSplit_sklearn(padded, yTrainOneHot, 0.1, 42, False)\n",
        "    elif (paddedOutput == False):\n",
        "      xTrain, yTrain, xVal, yVal, xTest, yTest = trainDevTestSplit_sklearn(s2MailSentences, yTrainOneHot, 0.4, 42, False)\n",
        "    \n",
        "  elif (mail == 'S3'):\n",
        "    if (score == 'A3'):\n",
        "      yTrainOneHot,yTrainOneHotNoZeros = oneHotEncodePreSplit(np.array(s3MailA3Labels), False)\n",
        "    elif (score == 'A4'):\n",
        "      yTrainOneHot,yTrainOneHotNoZeros = oneHotEncodePreSplit(np.array(s3MailA4Labels), False)\n",
        "\n",
        "    if (paddedOutput == True):\n",
        "      padded = tokenizeData(vocab_size, oov_tok, s3MailSentences, max_length, padding_type, trunc_type)\n",
        "      xTrain, yTrain, xVal, yVal, xTest, yTest = trainDevTestSplit_sklearn(padded, yTrainOneHot, 0.1, 42, False)\n",
        "    elif (paddedOutput == False):\n",
        "      xTrain, yTrain, xVal, yVal, xTest, yTest = trainDevTestSplit_sklearn(s3MailSentences, yTrainOneHot, 0.4, 42, False)\n",
        "\n",
        "  else:\n",
        "    print('Select S1, S2 or S3 as mail and A3 or A4 as score')\n",
        "\n",
        "    \n",
        "  \n",
        "\n",
        "\n",
        "  #train_padded = tokenizeData(vocab_size, oov_tok, xTrain, max_length, padding_type, trunc_type)\n",
        "  #validation_padded = tokenizeData_val(xVal, max_length, padding_type)\n",
        "  #test_padded = tokenizeData_val(xTest, max_length, padding_type)\n",
        "\n",
        "  train_padded = np.array(xTrain)\n",
        "  yTrain = np.array(yTrain)\n",
        "  #yTrainOneHot = yTrain\n",
        "  #yTrain = np.reshape(yTrain, (yTrain.shape[0], 1))\n",
        "\n",
        "  validation_padded = np.array(xVal)\n",
        "  yVal = np.array(yVal)\n",
        "  #yValOneHot = yVal\n",
        "  #yVal = np.reshape(yVal, (yVal.shape[0], 1))\n",
        "\n",
        "  test_padded = np.array(xTest)\n",
        "  yTest = np.array(yTest)\n",
        "  #yTestOneHot = yTest\n",
        "\n",
        "  return train_padded, validation_padded, test_padded, yTrain, yVal, yTest\n",
        "\n",
        "  #yTest = np.reshape(yTest, (yTest.shape[0], 1))\n",
        "\n",
        "  #yTrainOneHot, yValOneHot, yTestOneHot, yTrainOneHotNoZeros, yValOneHotNoZeros, yTestOneHotNoZeros = oneHotEncodeAlternative(yTrain, yVal, yTest, False)"
      ],
      "execution_count": 1715,
      "outputs": []
    },
    {
      "cell_type": "code",
      "metadata": {
        "id": "zMwsseDWjNQz"
      },
      "source": [
        "#train_padded_sum, validation_padded_sum, test_padded_sum, yTrain_padded_sum, yVal_padded_sum, yTest_padded_sum = prepareDataSumScores(azubi_df, 'S1', 'A4', True)"
      ],
      "execution_count": 1716,
      "outputs": []
    },
    {
      "cell_type": "code",
      "metadata": {
        "id": "zI2IakehAEoo"
      },
      "source": [
        "#train_sum, validation_sum, test_sum, yTrain_sum, yVal_sum, yTest_sum = prepareDataSumScores(azubi_df, 'S1', 'A4', False)"
      ],
      "execution_count": 1717,
      "outputs": []
    },
    {
      "cell_type": "markdown",
      "metadata": {
        "id": "zUs3UIAtjF40"
      },
      "source": [
        "### Currently not needed"
      ]
    },
    {
      "cell_type": "code",
      "metadata": {
        "id": "WV0p4MkcFrC5"
      },
      "source": [
        "if (executionType == 2):    \n",
        "  #Prepare the data\n",
        "  azubi_df_cleaned = cleanupDataframeGetSingleClass(azubi_df, 0, 'a3s1')\n",
        "\n",
        "  #Remove Stop words\n",
        "  azubi_df_cleaned_no_stopwords = removeStopWords(azubi_df_cleaned)\n",
        "\n",
        "  azubi_df_list , s1MailSentences, s1MailA3Labels, s1MailA4Labels, s2MailSentences, s2MailA3Labels, s2MailA4Labels, s3MailSentences, s3MailA3Labels, s3MailA4Labels = makeList(azubi_df_cleaned_no_stopwords)\n",
        "  xTrain, yTrain, xVal, yVal, xTest, yTest = trainDevTestSplit_sklearn(s1MailSentences, s1MailA3Labels, 0.4, 42, True)\n",
        "\n",
        "  train_padded = tokenizeData(vocab_size, oov_tok, xTrain, max_length, padding_type, trunc_type)\n",
        "  validation_padded = tokenizeData_val(xVal, max_length, padding_type)\n",
        "  test_padded = tokenizeData_val(xTest, max_length, padding_type)\n",
        "\n",
        "  train_padded = np.array(train_padded)\n",
        "  yTrain = np.array(yTrain)\n",
        "  yTrain = np.reshape(yTrain, (yTrain.shape[0], 1))\n",
        "\n",
        "  validation_padded = np.array(validation_padded)\n",
        "  yVal = np.array(yVal)\n",
        "  yVal = np.reshape(yVal, (yVal.shape[0], 1))\n",
        "\n",
        "  test_padded = np.array(test_padded)\n",
        "  yTest = np.array(yTest)\n",
        "  yTest = np.reshape(yTest, (yTest.shape[0], 1))\n",
        "\n",
        "  yTrainOneHot,yValOneHot,yTestOneHot = oneHotEncode(yTrain, yVal, yTest, True)"
      ],
      "execution_count": 1718,
      "outputs": []
    },
    {
      "cell_type": "markdown",
      "metadata": {
        "id": "fKXx615VjItY"
      },
      "source": [
        "### Single scores data"
      ]
    },
    {
      "cell_type": "code",
      "metadata": {
        "id": "FZy46pqjndUS"
      },
      "source": [
        "def prepareDataSingleScores(azubi_df, mail, score):\n",
        "  #Prepare the data\n",
        "  azubi_df_cleaned = cleanupDataframe(azubi_df)\n",
        "\n",
        "  #Remove Stop words\n",
        "  azubi_df_cleaned_no_stopwords = removeStopWords(azubi_df_cleaned)\n",
        "\n",
        "  azubi_df_list , s1MailSentences, s1Maila3s1i1a, s1Maila3s1i1b, s1Maila3s1i2a, s1Maila3s1i2b, s1Maila3s1i2c = makeListSubscores(azubi_df_cleaned_no_stopwords)\n",
        "  xTrain, yTrain, xVal, yVal, xTest, yTest = trainDevTestSplit_sklearn(s1MailSentences, s1Maila3s1i1a, 0.4, 42, False)\n",
        "\n",
        "  if (mail == 'S1'):\n",
        "    if (score == 'a3s1i1a'):\n",
        "      yTrainOneHot,yTrainOneHotNoZeros = oneHotEncodePreSplit(np.array(s1Maila3s1i1a), True)\n",
        "    elif (score == 'a3s1i1b'):\n",
        "      yTrainOneHot,yTrainOneHotNoZeros = oneHotEncodePreSplit(np.array(s1Maila3s1i1b), True)\n",
        "    elif (score == 'a3s1i2a'):\n",
        "      yTrainOneHot,yTrainOneHotNoZeros = oneHotEncodePreSplit(np.array(s1Maila3s1i2a), True)\n",
        "    elif (score == 'a3s1i2b'):\n",
        "      yTrainOneHot,yTrainOneHotNoZeros = oneHotEncodePreSplit(np.array(s1Maila3s1i2b), True)\n",
        "    elif (score == 'a3s1i2c'):\n",
        "      yTrainOneHot,yTrainOneHotNoZeros = oneHotEncodePreSplit(np.array(s1Maila3s1i2c), True)\n",
        "  \n",
        "    xTrain, yTrain, xVal, yVal, xTest, yTest = trainDevTestSplit_sklearn(s1MailSentences, yTrainOneHotNoZeros, 0.4, 42, False)\n",
        "\n",
        "  train_padded = tokenizeData(vocab_size, oov_tok, xTrain, max_length, padding_type, trunc_type)\n",
        "  validation_padded = tokenizeData_val(xVal, max_length, padding_type)\n",
        "  test_padded = tokenizeData_val(xTest, max_length, padding_type)\n",
        "\n",
        "  train_padded = np.array(train_padded)\n",
        "  yTrain = np.array(yTrain)\n",
        "  #yTrain = np.reshape(yTrain, (yTrain.shape[0], 1))\n",
        "\n",
        "  validation_padded = np.array(validation_padded)\n",
        "  yVal = np.array(yVal)\n",
        "  #yVal = np.reshape(yVal, (yVal.shape[0], 1))\n",
        "\n",
        "  test_padded = np.array(test_padded)\n",
        "  yTest = np.array(yTest)\n",
        "  #yTest = np.reshape(yTest, (yTest.shape[0], 1))\n",
        "\n",
        "  #yTrainOneHot, yValOneHot, yTestOneHot, yTrainOneHotNoZeros, yValOneHotNoZeros, yTestOneHotNoZeros = oneHotEncodeAlternative(yTrain, yVal, yTest)\n",
        "\n",
        "  return train_padded, validation_padded, test_padded, yTrain, yVal, yTest, xTrain, yTrain, xVal"
      ],
      "execution_count": 1719,
      "outputs": []
    },
    {
      "cell_type": "code",
      "metadata": {
        "id": "YGE2DHkdseCj"
      },
      "source": [
        "#train_padded_single, validation_padded_single, test_padded_single, yTrain_single, yVal_single, yTest_single, xTrain_single, yTrain_single, xVal_single = prepareDataSingleScores(azubi_df, 'S1', 'a3s1i1b')"
      ],
      "execution_count": 1720,
      "outputs": []
    },
    {
      "cell_type": "code",
      "metadata": {
        "id": "GhviE7NGmq45"
      },
      "source": [
        ""
      ],
      "execution_count": 1720,
      "outputs": []
    },
    {
      "cell_type": "markdown",
      "metadata": {
        "id": "tWc73CUEbB3O"
      },
      "source": [
        "# Transfer Learning\n"
      ]
    },
    {
      "cell_type": "markdown",
      "metadata": {
        "id": "EhQ_iEeMDQdH"
      },
      "source": [
        "# preparation"
      ]
    },
    {
      "cell_type": "markdown",
      "metadata": {
        "id": "PRxc1PdRvJCZ"
      },
      "source": [
        "Sources and tutorials i used to create word2vec embeddings:\n"
      ]
    },
    {
      "cell_type": "code",
      "metadata": {
        "id": "B_Xk8HYm8viJ"
      },
      "source": [
        "#Word2vec approach. We followed a mix out of several turoials:\n",
        "#    https://radimrehurek.com/gensim/auto_examples/tutorials/run_word2vec.html\n",
        "#    https://discuss.huggingface.co/t/generate-raw-word-embeddings-using-transformer-models-like-bert-for-downstream-process/2958\n",
        "#    https://towardsdatascience.com/text-classification-with-nlp-tf-idf-vs-word2vec-vs-bert-41ff868d1794\n",
        "#    https://phdstatsphys.wordpress.com/2018/12/27/word2vec-how-to-train-and-update-it/"
      ],
      "execution_count": 1721,
      "outputs": []
    },
    {
      "cell_type": "markdown",
      "metadata": {
        "id": "NBWZEgbwvbPT"
      },
      "source": [
        "Import, especially gensim and gensim.downloader for word2vec if you like to use a pretrained word2vec"
      ]
    },
    {
      "cell_type": "code",
      "metadata": {
        "id": "Lz9tCOQo9CCk",
        "colab": {
          "base_uri": "https://localhost:8080/"
        },
        "outputId": "e15b0cf4-6732-4d33-831f-e936bb9a24f0"
      },
      "source": [
        "## for data\n",
        "import json\n",
        "import pandas as pd\n",
        "import numpy as np\n",
        "## for plotting\n",
        "import matplotlib.pyplot as plt\n",
        "import seaborn as sns\n",
        "## for processing\n",
        "import re\n",
        "import nltk\n",
        "## for bag-of-words\n",
        "#from sklearn import feature_extraction, model_selection, naive_bayes, pipeline, manifold, preprocessing\n",
        "## for explainer\n",
        "!pip install lime\n",
        "from lime import lime_text\n",
        "## for word embedding\n",
        "import gensim\n",
        "import gensim.downloader as gensim_api\n",
        "## for deep learning\n",
        "from tensorflow.keras import models, layers, preprocessing as kprocessing\n",
        "from tensorflow.keras import backend as K\n",
        "## for bert language model\n",
        "#!pip install transformer\n",
        "#from transformer"
      ],
      "execution_count": 1722,
      "outputs": [
        {
          "output_type": "stream",
          "text": [
            "Requirement already satisfied: lime in /usr/local/lib/python3.7/dist-packages (0.2.0.1)\n",
            "Requirement already satisfied: numpy in /usr/local/lib/python3.7/dist-packages (from lime) (1.19.5)\n",
            "Requirement already satisfied: scikit-learn>=0.18 in /usr/local/lib/python3.7/dist-packages (from lime) (0.22.2.post1)\n",
            "Requirement already satisfied: scipy in /usr/local/lib/python3.7/dist-packages (from lime) (1.4.1)\n",
            "Requirement already satisfied: tqdm in /usr/local/lib/python3.7/dist-packages (from lime) (4.41.1)\n",
            "Requirement already satisfied: matplotlib in /usr/local/lib/python3.7/dist-packages (from lime) (3.2.2)\n",
            "Requirement already satisfied: scikit-image>=0.12 in /usr/local/lib/python3.7/dist-packages (from lime) (0.16.2)\n",
            "Requirement already satisfied: joblib>=0.11 in /usr/local/lib/python3.7/dist-packages (from scikit-learn>=0.18->lime) (1.0.1)\n",
            "Requirement already satisfied: kiwisolver>=1.0.1 in /usr/local/lib/python3.7/dist-packages (from matplotlib->lime) (1.3.1)\n",
            "Requirement already satisfied: pyparsing!=2.0.4,!=2.1.2,!=2.1.6,>=2.0.1 in /usr/local/lib/python3.7/dist-packages (from matplotlib->lime) (2.4.7)\n",
            "Requirement already satisfied: python-dateutil>=2.1 in /usr/local/lib/python3.7/dist-packages (from matplotlib->lime) (2.8.1)\n",
            "Requirement already satisfied: cycler>=0.10 in /usr/local/lib/python3.7/dist-packages (from matplotlib->lime) (0.10.0)\n",
            "Requirement already satisfied: pillow>=4.3.0 in /usr/local/lib/python3.7/dist-packages (from scikit-image>=0.12->lime) (7.1.2)\n",
            "Requirement already satisfied: networkx>=2.0 in /usr/local/lib/python3.7/dist-packages (from scikit-image>=0.12->lime) (2.5.1)\n",
            "Requirement already satisfied: imageio>=2.3.0 in /usr/local/lib/python3.7/dist-packages (from scikit-image>=0.12->lime) (2.4.1)\n",
            "Requirement already satisfied: PyWavelets>=0.4.0 in /usr/local/lib/python3.7/dist-packages (from scikit-image>=0.12->lime) (1.1.1)\n",
            "Requirement already satisfied: six>=1.5 in /usr/local/lib/python3.7/dist-packages (from python-dateutil>=2.1->matplotlib->lime) (1.15.0)\n",
            "Requirement already satisfied: decorator<5,>=4.3 in /usr/local/lib/python3.7/dist-packages (from networkx>=2.0->scikit-image>=0.12->lime) (4.4.2)\n"
          ],
          "name": "stdout"
        }
      ]
    },
    {
      "cell_type": "markdown",
      "metadata": {
        "id": "iDR33jzfvipv"
      },
      "source": [
        "Take a look into the dataframe to ensure everything is okay"
      ]
    },
    {
      "cell_type": "code",
      "metadata": {
        "colab": {
          "base_uri": "https://localhost:8080/",
          "height": 424
        },
        "id": "YWuFMm9RIHjZ",
        "outputId": "825af033-6d96-4d9a-f029-e5d7f0f491f4"
      },
      "source": [
        "azubi_df_mails_and_scored_combined"
      ],
      "execution_count": 1723,
      "outputs": [
        {
          "output_type": "execute_result",
          "data": {
            "text/html": [
              "<div>\n",
              "<style scoped>\n",
              "    .dataframe tbody tr th:only-of-type {\n",
              "        vertical-align: middle;\n",
              "    }\n",
              "\n",
              "    .dataframe tbody tr th {\n",
              "        vertical-align: top;\n",
              "    }\n",
              "\n",
              "    .dataframe thead th {\n",
              "        text-align: right;\n",
              "    }\n",
              "</style>\n",
              "<table border=\"1\" class=\"dataframe\">\n",
              "  <thead>\n",
              "    <tr style=\"text-align: right;\">\n",
              "      <th></th>\n",
              "      <th>index</th>\n",
              "      <th>Mails_Combined</th>\n",
              "      <th>a4s_combined_i2b</th>\n",
              "    </tr>\n",
              "  </thead>\n",
              "  <tbody>\n",
              "    <tr>\n",
              "      <th>0</th>\n",
              "      <td>0</td>\n",
              "      <td>Hallo Fr. Meier,  leider konnte ich die von Ih...</td>\n",
              "      <td>1.0</td>\n",
              "    </tr>\n",
              "    <tr>\n",
              "      <th>1</th>\n",
              "      <td>1</td>\n",
              "      <td>Ihre Antwort...   Der EP Plan weicht viel zuse...</td>\n",
              "      <td>1.0</td>\n",
              "    </tr>\n",
              "    <tr>\n",
              "      <th>2</th>\n",
              "      <td>2</td>\n",
              "      <td>bitte kommen Sie rüber und erklären mir es selbst</td>\n",
              "      <td>0.0</td>\n",
              "    </tr>\n",
              "    <tr>\n",
              "      <th>3</th>\n",
              "      <td>3</td>\n",
              "      <td>Sehr geehrte Frau Meier,  leider konnte Ich Ih...</td>\n",
              "      <td>1.0</td>\n",
              "    </tr>\n",
              "    <tr>\n",
              "      <th>4</th>\n",
              "      <td>5</td>\n",
              "      <td>Hallo Frau Meier,  das Controlling hat für das...</td>\n",
              "      <td>1.0</td>\n",
              "    </tr>\n",
              "    <tr>\n",
              "      <th>...</th>\n",
              "      <td>...</td>\n",
              "      <td>...</td>\n",
              "      <td>...</td>\n",
              "    </tr>\n",
              "    <tr>\n",
              "      <th>2082</th>\n",
              "      <td>2135</td>\n",
              "      <td>Hallo Herr Neumann,  gerne würde ich Ihnen mei...</td>\n",
              "      <td>0.0</td>\n",
              "    </tr>\n",
              "    <tr>\n",
              "      <th>2083</th>\n",
              "      <td>2136</td>\n",
              "      <td>Hallo Herr Neumann,  leider konnte ich aus der...</td>\n",
              "      <td>1.0</td>\n",
              "    </tr>\n",
              "    <tr>\n",
              "      <th>2084</th>\n",
              "      <td>2137</td>\n",
              "      <td>Ihre Antwort...  Guten Tag Herr Neumann,  leid...</td>\n",
              "      <td>1.0</td>\n",
              "    </tr>\n",
              "    <tr>\n",
              "      <th>2085</th>\n",
              "      <td>2138</td>\n",
              "      <td>Guten Tag Herr Neumann,  hier die beiden Liste...</td>\n",
              "      <td>1.0</td>\n",
              "    </tr>\n",
              "    <tr>\n",
              "      <th>2086</th>\n",
              "      <td>2139</td>\n",
              "      <td>Hallo Herr Neumann,  anbei die ausfüllten Tabe...</td>\n",
              "      <td>1.0</td>\n",
              "    </tr>\n",
              "  </tbody>\n",
              "</table>\n",
              "<p>2087 rows × 3 columns</p>\n",
              "</div>"
            ],
            "text/plain": [
              "      index  ... a4s_combined_i2b\n",
              "0         0  ...              1.0\n",
              "1         1  ...              1.0\n",
              "2         2  ...              0.0\n",
              "3         3  ...              1.0\n",
              "4         5  ...              1.0\n",
              "...     ...  ...              ...\n",
              "2082   2135  ...              0.0\n",
              "2083   2136  ...              1.0\n",
              "2084   2137  ...              1.0\n",
              "2085   2138  ...              1.0\n",
              "2086   2139  ...              1.0\n",
              "\n",
              "[2087 rows x 3 columns]"
            ]
          },
          "metadata": {
            "tags": []
          },
          "execution_count": 1723
        }
      ]
    },
    {
      "cell_type": "code",
      "metadata": {
        "id": "iABfsxDK9SvI",
        "colab": {
          "base_uri": "https://localhost:8080/",
          "height": 206
        },
        "outputId": "dbb36864-94c0-42b4-fa34-f46df1fdb0c6"
      },
      "source": [
        "azubi_df_mails_and_scored_combined.sample(5)"
      ],
      "execution_count": 1724,
      "outputs": [
        {
          "output_type": "execute_result",
          "data": {
            "text/html": [
              "<div>\n",
              "<style scoped>\n",
              "    .dataframe tbody tr th:only-of-type {\n",
              "        vertical-align: middle;\n",
              "    }\n",
              "\n",
              "    .dataframe tbody tr th {\n",
              "        vertical-align: top;\n",
              "    }\n",
              "\n",
              "    .dataframe thead th {\n",
              "        text-align: right;\n",
              "    }\n",
              "</style>\n",
              "<table border=\"1\" class=\"dataframe\">\n",
              "  <thead>\n",
              "    <tr style=\"text-align: right;\">\n",
              "      <th></th>\n",
              "      <th>index</th>\n",
              "      <th>Mails_Combined</th>\n",
              "      <th>a4s_combined_i2b</th>\n",
              "    </tr>\n",
              "  </thead>\n",
              "  <tbody>\n",
              "    <tr>\n",
              "      <th>1583</th>\n",
              "      <td>1632</td>\n",
              "      <td>Hallo Herr Neumann,  da ich leider zum Arzt mu...</td>\n",
              "      <td>0.0</td>\n",
              "    </tr>\n",
              "    <tr>\n",
              "      <th>812</th>\n",
              "      <td>837</td>\n",
              "      <td>Hallo Herr Neumann,   ich habe die Lieferanten...</td>\n",
              "      <td>1.0</td>\n",
              "    </tr>\n",
              "    <tr>\n",
              "      <th>1182</th>\n",
              "      <td>1222</td>\n",
              "      <td>Hallo Herr Neumann,  vielen Dank für Ihre Mail...</td>\n",
              "      <td>1.0</td>\n",
              "    </tr>\n",
              "    <tr>\n",
              "      <th>877</th>\n",
              "      <td>904</td>\n",
              "      <td>Sehr geehrter Herr Neumann,  ich danke Ihnen f...</td>\n",
              "      <td>1.0</td>\n",
              "    </tr>\n",
              "    <tr>\n",
              "      <th>868</th>\n",
              "      <td>895</td>\n",
              "      <td>Guten Tag Herr Neumann,  im Anhang finden Sie ...</td>\n",
              "      <td>1.0</td>\n",
              "    </tr>\n",
              "  </tbody>\n",
              "</table>\n",
              "</div>"
            ],
            "text/plain": [
              "      index  ... a4s_combined_i2b\n",
              "1583   1632  ...              0.0\n",
              "812     837  ...              1.0\n",
              "1182   1222  ...              1.0\n",
              "877     904  ...              1.0\n",
              "868     895  ...              1.0\n",
              "\n",
              "[5 rows x 3 columns]"
            ]
          },
          "metadata": {
            "tags": []
          },
          "execution_count": 1724
        }
      ]
    },
    {
      "cell_type": "markdown",
      "metadata": {
        "id": "aUBHcFrbGtGd"
      },
      "source": [
        "And now we remove stopwords"
      ]
    },
    {
      "cell_type": "code",
      "metadata": {
        "colab": {
          "base_uri": "https://localhost:8080/"
        },
        "id": "YcSESeuVEkSH",
        "outputId": "a0eccb26-950c-480e-d28a-30c617169da9"
      },
      "source": [
        "azubi_df_mails_and_scored_combined = removeStopWordsSelectedColumns(azubi_df_mails_and_scored_combined,'Mails_Combined')"
      ],
      "execution_count": 1725,
      "outputs": [
        {
          "output_type": "stream",
          "text": [
            "[nltk_data] Downloading package punkt to /root/nltk_data...\n",
            "[nltk_data]   Package punkt is already up-to-date!\n",
            "[nltk_data] Downloading package stopwords to /root/nltk_data...\n",
            "[nltk_data]   Package stopwords is already up-to-date!\n"
          ],
          "name": "stdout"
        }
      ]
    },
    {
      "cell_type": "markdown",
      "metadata": {
        "id": "Y4lyNlujHU7B"
      },
      "source": [
        "and take a look into the cleaned dataframe again"
      ]
    },
    {
      "cell_type": "code",
      "metadata": {
        "colab": {
          "base_uri": "https://localhost:8080/",
          "height": 424
        },
        "id": "SQT0amgWIQPr",
        "outputId": "6e4bb691-9606-4254-8466-1a7823bb809b"
      },
      "source": [
        "azubi_df_mails_and_scored_combined"
      ],
      "execution_count": 1726,
      "outputs": [
        {
          "output_type": "execute_result",
          "data": {
            "text/html": [
              "<div>\n",
              "<style scoped>\n",
              "    .dataframe tbody tr th:only-of-type {\n",
              "        vertical-align: middle;\n",
              "    }\n",
              "\n",
              "    .dataframe tbody tr th {\n",
              "        vertical-align: top;\n",
              "    }\n",
              "\n",
              "    .dataframe thead th {\n",
              "        text-align: right;\n",
              "    }\n",
              "</style>\n",
              "<table border=\"1\" class=\"dataframe\">\n",
              "  <thead>\n",
              "    <tr style=\"text-align: right;\">\n",
              "      <th></th>\n",
              "      <th>index</th>\n",
              "      <th>Mails_Combined</th>\n",
              "      <th>a4s_combined_i2b</th>\n",
              "    </tr>\n",
              "  </thead>\n",
              "  <tbody>\n",
              "    <tr>\n",
              "      <th>0</th>\n",
              "      <td>0</td>\n",
              "      <td>Hallo Fr. Meier, leider konnte Ihnen gestellte...</td>\n",
              "      <td>1.0</td>\n",
              "    </tr>\n",
              "    <tr>\n",
              "      <th>1</th>\n",
              "      <td>1</td>\n",
              "      <td>Ihre Antwort... Der EP Plan weicht zusehr EP I...</td>\n",
              "      <td>1.0</td>\n",
              "    </tr>\n",
              "    <tr>\n",
              "      <th>2</th>\n",
              "      <td>2</td>\n",
              "      <td>bitte kommen Sie rüber erklären</td>\n",
              "      <td>0.0</td>\n",
              "    </tr>\n",
              "    <tr>\n",
              "      <th>3</th>\n",
              "      <td>3</td>\n",
              "      <td>Sehr geehrte Frau Meier, leider konnte Ich Ihr...</td>\n",
              "      <td>1.0</td>\n",
              "    </tr>\n",
              "    <tr>\n",
              "      <th>4</th>\n",
              "      <td>5</td>\n",
              "      <td>Hallo Frau Meier, Controlling Jahr 2012 Plan-,...</td>\n",
              "      <td>1.0</td>\n",
              "    </tr>\n",
              "    <tr>\n",
              "      <th>...</th>\n",
              "      <td>...</td>\n",
              "      <td>...</td>\n",
              "      <td>...</td>\n",
              "    </tr>\n",
              "    <tr>\n",
              "      <th>2082</th>\n",
              "      <td>2135</td>\n",
              "      <td>Hallo Herr Neumann, gerne Ihnen bearbeiteten T...</td>\n",
              "      <td>0.0</td>\n",
              "    </tr>\n",
              "    <tr>\n",
              "      <th>2083</th>\n",
              "      <td>2136</td>\n",
              "      <td>Hallo Herr Neumann, leider konnte Tabelle gena...</td>\n",
              "      <td>1.0</td>\n",
              "    </tr>\n",
              "    <tr>\n",
              "      <th>2084</th>\n",
              "      <td>2137</td>\n",
              "      <td>Ihre Antwort... Guten Tag Herr Neumann, leider...</td>\n",
              "      <td>1.0</td>\n",
              "    </tr>\n",
              "    <tr>\n",
              "      <th>2085</th>\n",
              "      <td>2138</td>\n",
              "      <td>Guten Tag Herr Neumann, beiden Listen. Nach be...</td>\n",
              "      <td>1.0</td>\n",
              "    </tr>\n",
              "    <tr>\n",
              "      <th>2086</th>\n",
              "      <td>2139</td>\n",
              "      <td>Hallo Herr Neumann, anbei ausfüllten Tabellen....</td>\n",
              "      <td>1.0</td>\n",
              "    </tr>\n",
              "  </tbody>\n",
              "</table>\n",
              "<p>2087 rows × 3 columns</p>\n",
              "</div>"
            ],
            "text/plain": [
              "      index  ... a4s_combined_i2b\n",
              "0         0  ...              1.0\n",
              "1         1  ...              1.0\n",
              "2         2  ...              0.0\n",
              "3         3  ...              1.0\n",
              "4         5  ...              1.0\n",
              "...     ...  ...              ...\n",
              "2082   2135  ...              0.0\n",
              "2083   2136  ...              1.0\n",
              "2084   2137  ...              1.0\n",
              "2085   2138  ...              1.0\n",
              "2086   2139  ...              1.0\n",
              "\n",
              "[2087 rows x 3 columns]"
            ]
          },
          "metadata": {
            "tags": []
          },
          "execution_count": 1726
        }
      ]
    },
    {
      "cell_type": "code",
      "metadata": {
        "colab": {
          "base_uri": "https://localhost:8080/",
          "height": 206
        },
        "id": "nQd69X_gD_QA",
        "outputId": "316fd553-cbd1-45f8-ae1a-d76a87ebbb12"
      },
      "source": [
        "azubi_df_mails_and_scored_combined.sample(5)"
      ],
      "execution_count": 1727,
      "outputs": [
        {
          "output_type": "execute_result",
          "data": {
            "text/html": [
              "<div>\n",
              "<style scoped>\n",
              "    .dataframe tbody tr th:only-of-type {\n",
              "        vertical-align: middle;\n",
              "    }\n",
              "\n",
              "    .dataframe tbody tr th {\n",
              "        vertical-align: top;\n",
              "    }\n",
              "\n",
              "    .dataframe thead th {\n",
              "        text-align: right;\n",
              "    }\n",
              "</style>\n",
              "<table border=\"1\" class=\"dataframe\">\n",
              "  <thead>\n",
              "    <tr style=\"text-align: right;\">\n",
              "      <th></th>\n",
              "      <th>index</th>\n",
              "      <th>Mails_Combined</th>\n",
              "      <th>a4s_combined_i2b</th>\n",
              "    </tr>\n",
              "  </thead>\n",
              "  <tbody>\n",
              "    <tr>\n",
              "      <th>404</th>\n",
              "      <td>416</td>\n",
              "      <td>Sehr geehrte Frau Meier, Bearbeitung Ihnen vor...</td>\n",
              "      <td>1.0</td>\n",
              "    </tr>\n",
              "    <tr>\n",
              "      <th>675</th>\n",
              "      <td>697</td>\n",
              "      <td>Hallo Frau Meier, Aufgabe leider ganz fertig g...</td>\n",
              "      <td>1.0</td>\n",
              "    </tr>\n",
              "    <tr>\n",
              "      <th>937</th>\n",
              "      <td>967</td>\n",
              "      <td>Sehr geehrter Herr Neumann, Analyse Angebote S...</td>\n",
              "      <td>1.0</td>\n",
              "    </tr>\n",
              "    <tr>\n",
              "      <th>79</th>\n",
              "      <td>80</td>\n",
              "      <td>Ihre Antwort...1 Positio 20 teurer Planung.Die...</td>\n",
              "      <td>0.0</td>\n",
              "    </tr>\n",
              "    <tr>\n",
              "      <th>1291</th>\n",
              "      <td>1333</td>\n",
              "      <td>Hallo Herr Neumann, Ich Lieferanten Beinen-Ste...</td>\n",
              "      <td>1.0</td>\n",
              "    </tr>\n",
              "  </tbody>\n",
              "</table>\n",
              "</div>"
            ],
            "text/plain": [
              "      index  ... a4s_combined_i2b\n",
              "404     416  ...              1.0\n",
              "675     697  ...              1.0\n",
              "937     967  ...              1.0\n",
              "79       80  ...              0.0\n",
              "1291   1333  ...              1.0\n",
              "\n",
              "[5 rows x 3 columns]"
            ]
          },
          "metadata": {
            "tags": []
          },
          "execution_count": 1727
        }
      ]
    },
    {
      "cell_type": "markdown",
      "metadata": {
        "id": "S2NdVFnuvnbA"
      },
      "source": [
        "We want to make sure our data set is balanced. Which is not the case. Thus, we include weights lateron in the model. Here you can see the inbalance for this variable clearly."
      ]
    },
    {
      "cell_type": "code",
      "metadata": {
        "id": "BevGZsl-9WXD",
        "colab": {
          "base_uri": "https://localhost:8080/",
          "height": 294
        },
        "outputId": "415b3391-083f-4817-ebd6-4a5dc9fb40f6"
      },
      "source": [
        "fig, ax = plt.subplots()\n",
        "fig.suptitle(\"count\", fontsize=12)\n",
        "azubi_df_mails_and_scored_combined[\"a4s_combined_i2b\"].reset_index().groupby(\"a4s_combined_i2b\").count().sort_values(by= \n",
        "       \"index\").plot(kind=\"barh\", legend=False, \n",
        "        ax=ax).grid(axis='x')\n",
        "plt.show()"
      ],
      "execution_count": 1728,
      "outputs": [
        {
          "output_type": "display_data",
          "data": {
            "image/png": "[encoded data removed]",
            "text/plain": [
              "<Figure size 432x288 with 1 Axes>"
            ]
          },
          "metadata": {
            "tags": [],
            "needs_background": "light"
          }
        }
      ]
    },
    {
      "cell_type": "markdown",
      "metadata": {
        "id": "TeI5OUUJv0Lk"
      },
      "source": [
        "Lets split the data into a train and test set."
      ]
    },
    {
      "cell_type": "code",
      "metadata": {
        "id": "ACP3DkQh9ay6"
      },
      "source": [
        "## split dataset\n",
        "dtf_train, dtf_test = model_selection.train_test_split(azubi_df_cleaned_no_stopwords, test_size=0.3)## get target\n",
        "y_train = dtf_train[\"a4s_combined_i2b\"].values\n",
        "y_test = dtf_test[\"a4s_combined_i2b\"].values"
      ],
      "execution_count": 1729,
      "outputs": []
    },
    {
      "cell_type": "markdown",
      "metadata": {
        "id": "o8PPmugt9-Ux"
      },
      "source": [
        "# word2vec"
      ]
    },
    {
      "cell_type": "markdown",
      "metadata": {
        "id": "v87T-zvAv3f7"
      },
      "source": [
        "Here we start with the word2vec after our data preprocessing. Download a already pretrained word2vc might take some time... if you like here are some facts about word2vec: \n",
        "\n",
        "*The word2vec tool takes a text corpus as input and produces the word vectors as output. It first constructs a vocabulary from the training text data and then learns vector representation of words. The resulting word vector file can be used as features in many natural language processing and machine learning applications.*\n",
        "\n",
        "(more info: https://code.google.com/archive/p/word2vec/)"
      ]
    },
    {
      "cell_type": "code",
      "metadata": {
        "id": "RrteU-xt-Cbm"
      },
      "source": [
        "# download word2vec takes 10 min\n",
        "#we could use this word2vec pretrained model by using this line of code, but instead we wanted to make a word2vec embedding with our own corpus, because word2vec wasn't trained with business mails\n",
        "# nlp = gensim_api.load(\"word2vec-google-news-300\") "
      ],
      "execution_count": 1730,
      "outputs": []
    },
    {
      "cell_type": "markdown",
      "metadata": {
        "id": "z9vQrKNOwPqx"
      },
      "source": [
        "Lets use word2vec with our dataframe and create our own embeddings. We define unigrams  to determine intersting (rather polite or inpolite) word vectors. The functions we use are part of gensim, so this is also super easy."
      ]
    },
    {
      "cell_type": "code",
      "metadata": {
        "id": "4J7iw1d8-HHF"
      },
      "source": [
        "corpus =  dtf_train[\"Mails_Combined\"]\n",
        "## create list of lists of unigrams (#Sehr)\n",
        "lst_corpus = []\n",
        "for string in corpus:\n",
        "   lst_words = string.split()\n",
        "   lst_grams = [\" \".join(lst_words[i:i+1]) \n",
        "               for i in range(0, len(lst_words), 1)]\n",
        "   lst_corpus.append(lst_grams)\n",
        "## detect bigrams (#Sehr geehrter) and trigrams (#Sehr geehrte:r Herr:Frau)\n",
        "bigrams_detector = gensim.models.phrases.Phrases(lst_corpus, \n",
        "                 delimiter=\" \".encode(), min_count=5, threshold=10)\n",
        "bigrams_detector = gensim.models.phrases.Phraser(bigrams_detector)\n",
        "trigrams_detector = gensim.models.phrases.Phrases(bigrams_detector[lst_corpus], \n",
        "            delimiter=\" \".encode(), min_count=5, threshold=10)\n",
        "trigrams_detector = gensim.models.phrases.Phraser(trigrams_detector)\n",
        "\n"
      ],
      "execution_count": 1731,
      "outputs": []
    },
    {
      "cell_type": "markdown",
      "metadata": {
        "id": "O2HC1uJbwgpT"
      },
      "source": [
        "This part is crucial. We determine the setup to create our word embeddings.\n",
        "- target size = size of the word vectors\n",
        "- window =  the maximum distance between a current and predicted word within a mail\n",
        "- sg = training algorithm. skip-grams (sg=1) is used as it was used in the tutorial and this should also in general lead to the best results in most cases\n",
        "- iter = number of iterations (10, 20, 30)"
      ]
    },
    {
      "cell_type": "code",
      "metadata": {
        "id": "0DeKTzAh-XU5"
      },
      "source": [
        "#word2vec setup\n",
        "#play with size=300, window = 8? mean lenght?\n",
        "# target size, mean length window of distance, and sgram 1: has proven robust \n",
        "nlp = gensim.models.word2vec.Word2Vec(lst_corpus, size=300,   \n",
        "            window=5, min_count=3, sg=1, iter=30)\n",
        "\n"
      ],
      "execution_count": 1732,
      "outputs": []
    },
    {
      "cell_type": "markdown",
      "metadata": {
        "id": "JGC_PGASzfqb"
      },
      "source": [
        "How is our vector shaped? It is a 1dim array. Lets take a closer look:"
      ]
    },
    {
      "cell_type": "code",
      "metadata": {
        "id": "tvgZ7UMH-oGC",
        "colab": {
          "base_uri": "https://localhost:8080/"
        },
        "outputId": "48452570-2344-4b6e-9748-107b10a13510"
      },
      "source": [
        "word = \"freundlichen\"\n",
        "nlp[word].shape"
      ],
      "execution_count": 1733,
      "outputs": [
        {
          "output_type": "stream",
          "text": [
            "/usr/local/lib/python3.7/dist-packages/ipykernel_launcher.py:2: DeprecationWarning: Call to deprecated `__getitem__` (Method will be removed in 4.0.0, use self.wv.__getitem__() instead).\n",
            "  \n"
          ],
          "name": "stderr"
        },
        {
          "output_type": "execute_result",
          "data": {
            "text/plain": [
              "(300,)"
            ]
          },
          "metadata": {
            "tags": []
          },
          "execution_count": 1733
        }
      ]
    },
    {
      "cell_type": "markdown",
      "metadata": {
        "id": "Zle-LzZCzpAA"
      },
      "source": [
        "This is the vector for [word]. Cool Hmm? Test it for yourself if you like to play with..."
      ]
    },
    {
      "cell_type": "code",
      "metadata": {
        "colab": {
          "base_uri": "https://localhost:8080/"
        },
        "id": "rR5dB8iRzL6O",
        "outputId": "47e6e3c1-292e-4602-bf1c-0ea9fa5de6b1"
      },
      "source": [
        "nlp[word]"
      ],
      "execution_count": 1734,
      "outputs": [
        {
          "output_type": "stream",
          "text": [
            "/usr/local/lib/python3.7/dist-packages/ipykernel_launcher.py:1: DeprecationWarning: Call to deprecated `__getitem__` (Method will be removed in 4.0.0, use self.wv.__getitem__() instead).\n",
            "  \"\"\"Entry point for launching an IPython kernel.\n"
          ],
          "name": "stderr"
        },
        {
          "output_type": "execute_result",
          "data": {
            "text/plain": [
              "array([-0.12904774,  0.0469168 ,  0.3216785 ,  0.42838135, -0.09397077,\n",
              "       -0.13679722,  0.09681819, -0.08159201,  0.2939906 , -0.01645964,\n",
              "        0.2976394 ,  0.25586468, -0.13321468, -0.01129626,  0.03246357,\n",
              "        0.02461389, -0.14562386,  0.02956326, -0.1351206 ,  0.28562889,\n",
              "        0.03753529, -0.03535603,  0.17109154,  0.1833382 , -0.2677102 ,\n",
              "        0.23461059,  0.21902667,  0.06747   , -0.12432899,  0.50128603,\n",
              "        0.14024185, -0.34731483, -0.30040747,  0.30151084, -0.22881114,\n",
              "        0.41635716,  0.02752911,  0.05818135, -0.27859795, -0.01514892,\n",
              "        0.02176044, -0.28914407,  0.06372417, -0.25946093,  0.11416457,\n",
              "       -0.00373108,  0.3499362 , -0.5050916 , -0.09839932,  0.11449822,\n",
              "       -0.12158185, -0.00745113,  0.14373599, -0.2798258 , -0.15129843,\n",
              "       -0.16552584,  0.00534569,  0.37637198, -0.14905857,  0.22607625,\n",
              "       -0.00524766,  0.28380156, -0.02936659,  0.47990456, -0.06398012,\n",
              "       -0.23596562,  0.2351762 , -0.10728899,  0.252601  , -0.29223084,\n",
              "       -0.13428351,  0.00532987, -0.29310784,  0.10173362, -0.02420486,\n",
              "       -0.00203977, -0.19968747,  0.0803249 ,  0.37922546,  0.20945717,\n",
              "        0.26165703, -0.06681362,  0.22155675,  0.01416945, -0.07916404,\n",
              "       -0.13161606,  0.22086693, -0.01934601,  0.02730087,  0.1079023 ,\n",
              "       -0.33203614,  0.16064452, -0.18731046, -0.15368341,  0.44143954,\n",
              "        0.10957722, -0.33562386, -0.01758992,  0.3515859 , -0.13762712,\n",
              "        0.18956676, -0.18245403,  0.40740514,  0.43082386, -0.09600046,\n",
              "       -0.0650697 , -0.32945165,  0.08872524, -0.07767683,  0.21492103,\n",
              "       -0.10722244,  0.09510787,  0.04980345, -0.49079946,  0.14561883,\n",
              "       -0.14275345, -0.2829577 ,  0.0560891 ,  0.05898083,  0.11122801,\n",
              "        0.08002483,  0.11331437,  0.1087352 , -0.04422634, -0.02897624,\n",
              "        0.04344203,  0.03578233, -0.48120597,  0.03330159,  0.06140064,\n",
              "       -0.02995765,  0.25625184,  0.3955109 , -0.10624211, -0.05866823,\n",
              "       -0.05052901,  0.11444432, -0.5605434 , -0.44378528,  0.24665609,\n",
              "       -0.23747697,  0.01038804,  0.01728408,  0.16769351,  0.11712738,\n",
              "        0.40175405, -0.06812876, -0.32940027,  0.04906915,  0.1968161 ,\n",
              "        0.10572366, -0.13343659, -0.01347949, -0.04005177, -0.0359254 ,\n",
              "       -0.09503625, -0.06114594,  0.07018375, -0.09521568, -0.03806775,\n",
              "        0.40637952, -0.03787317, -0.22258076, -0.37233567, -0.06206118,\n",
              "        0.2998993 ,  0.25341102,  0.19975631, -0.01390477,  0.03609418,\n",
              "       -0.18415827,  0.11739977,  0.4539942 ,  0.07878093, -0.13725996,\n",
              "       -0.20760484, -0.3270431 ,  0.08943702, -0.24067238, -0.25685647,\n",
              "       -0.19455555,  0.10937173,  0.06141278, -0.00122886, -0.44916615,\n",
              "        0.04436968, -0.3295329 , -0.08228765, -0.21415883,  0.19201444,\n",
              "       -0.19827454,  0.04763787,  0.11608952, -0.35063714, -0.33859423,\n",
              "       -0.09661156, -0.66538733,  0.33217773, -0.12146689,  0.14845052,\n",
              "        0.02269378,  0.07842986,  0.0167974 , -0.3559818 , -0.3152432 ,\n",
              "       -0.22112094,  0.10700668, -0.47724646, -0.09674062,  0.44219828,\n",
              "        0.13936414, -0.2353469 , -0.13669592, -0.10954312, -0.4070929 ,\n",
              "       -0.15223345,  0.18765083,  0.02142657, -0.20865323,  0.02145091,\n",
              "        0.13504295, -0.21074155, -0.02637534, -0.20577793,  0.20874654,\n",
              "       -0.24408711, -0.23723206,  0.2145077 ,  0.27685967,  0.02685399,\n",
              "       -0.09183157,  0.47088447,  0.1985231 , -0.38499674,  0.02895597,\n",
              "        0.37840563, -0.15439986, -0.22941805, -0.38525397, -0.1359901 ,\n",
              "       -0.32369128,  0.3764512 , -0.2736317 ,  0.15355831, -0.35829782,\n",
              "        0.25760582,  0.06602796,  0.05111223,  0.45121187, -0.15187575,\n",
              "        0.05120691,  0.14230826,  0.06421332, -0.05304931, -0.06449761,\n",
              "        0.13894606,  0.10538702,  0.43330023,  0.20147681, -0.07676394,\n",
              "        0.07628968, -0.26631364, -0.20166928,  0.06864494, -0.25411087,\n",
              "        0.02946474,  0.00300149,  0.00423687,  0.19471468, -0.00886496,\n",
              "       -0.04223872, -0.01384591,  0.09591354, -0.44341284, -0.13201198,\n",
              "        0.23620489, -0.11690873, -0.00370243, -0.12234749,  0.3136608 ,\n",
              "        0.13677289,  0.00658819,  0.08356305,  0.2118192 ,  0.01070194,\n",
              "        0.11911682,  0.09314857, -0.347415  ,  0.23241735,  0.33042538,\n",
              "        0.13122526,  0.4329805 , -0.22052601, -0.05506055,  0.02249576,\n",
              "       -0.03979493,  0.03962824,  0.06532149, -0.18298826, -0.1940774 ],\n",
              "      dtype=float32)"
            ]
          },
          "metadata": {
            "tags": []
          },
          "execution_count": 1734
        }
      ]
    },
    {
      "cell_type": "markdown",
      "metadata": {
        "id": "9HtQcl3qzwcD"
      },
      "source": [
        "We can print this also in a *3d* space with related words..."
      ]
    },
    {
      "cell_type": "code",
      "metadata": {
        "colab": {
          "base_uri": "https://localhost:8080/",
          "height": 413
        },
        "id": "YRevGKcn00KO",
        "outputId": "6c7b7715-643f-40cc-cde7-1817d3c757c8"
      },
      "source": [
        "word = word\n",
        "fig = plt.figure()## word embedding\n",
        "tot_words = [word] + [tupla[0] for tupla in \n",
        "                 nlp.most_similar(word, topn=20)]\n",
        "X = nlp[tot_words]## pca to reduce dimensionality from 300 to 3\n",
        "pca = manifold.TSNE(perplexity=40, n_components=3, init='pca')\n",
        "X = pca.fit_transform(X)## create dtf\n",
        "dtf_ = pd.DataFrame(X, index=tot_words, columns=[\"x\",\"y\",\"z\"])\n",
        "dtf_[\"input\"] = 0\n",
        "dtf_[\"input\"].iloc[0:1] = 1## plot 3d\n",
        "from mpl_toolkits.mplot3d import Axes3D\n",
        "ax = fig.add_subplot(111, projection='3d')\n",
        "ax.scatter(dtf_[dtf_[\"input\"]==0]['x'], \n",
        "           dtf_[dtf_[\"input\"]==0]['y'], \n",
        "           dtf_[dtf_[\"input\"]==0]['z'], c=\"black\")\n",
        "ax.scatter(dtf_[dtf_[\"input\"]==1]['x'], \n",
        "           dtf_[dtf_[\"input\"]==1]['y'], \n",
        "           dtf_[dtf_[\"input\"]==1]['z'], c=\"red\")\n",
        "ax.set(xlabel=None, ylabel=None, zlabel=None, xticklabels=[], \n",
        "       yticklabels=[], zticklabels=[])\n",
        "for label, row in dtf_[[\"x\",\"y\",\"z\"]].iterrows():\n",
        "    x, y, z = row\n",
        "    ax.text(x, y, z, s=label)"
      ],
      "execution_count": 1735,
      "outputs": [
        {
          "output_type": "stream",
          "text": [
            "/usr/local/lib/python3.7/dist-packages/ipykernel_launcher.py:4: DeprecationWarning: Call to deprecated `most_similar` (Method will be removed in 4.0.0, use self.wv.most_similar() instead).\n",
            "  after removing the cwd from sys.path.\n",
            "/usr/local/lib/python3.7/dist-packages/ipykernel_launcher.py:5: DeprecationWarning: Call to deprecated `__getitem__` (Method will be removed in 4.0.0, use self.wv.__getitem__() instead).\n",
            "  \"\"\"\n",
            "/usr/local/lib/python3.7/dist-packages/pandas/core/indexing.py:670: SettingWithCopyWarning: \n",
            "A value is trying to be set on a copy of a slice from a DataFrame\n",
            "\n",
            "See the caveats in the documentation: https://pandas.pydata.org/pandas-docs/stable/user_guide/indexing.html#returning-a-view-versus-a-copy\n",
            "  iloc._setitem_with_indexer(indexer, value)\n"
          ],
          "name": "stderr"
        },
        {
          "output_type": "display_data",
          "data": {
            "image/png": "[encoded data removed]",
            "text/plain": [
              "<Figure size 432x288 with 1 Axes>"
            ]
          },
          "metadata": {
            "tags": [],
            "needs_background": "light"
          }
        }
      ]
    },
    {
      "cell_type": "markdown",
      "metadata": {
        "id": "qn3wMYrp-u5r"
      },
      "source": [
        "*note: maybe we can add here a download buttom to upload these files in this cool tensorflow showcase for word embeddings\n",
        "shortcoming: need to be lowercased, thus might not be appropriate to measure politeness in german, e.g. Sie vs. sie / Ihre vs ihre*"
      ]
    },
    {
      "cell_type": "markdown",
      "metadata": {
        "id": "DBaTS7m91h-8"
      },
      "source": [
        "Ok, lets use our embeddings by tokenizing, sequencing and padding our mails.\n"
      ]
    },
    {
      "cell_type": "code",
      "metadata": {
        "id": "ixp_Jlmn-6_P"
      },
      "source": [
        "## tokenize text\n",
        "tokenizer = kprocessing.text.Tokenizer(lower=False, split=' ', \n",
        "                     oov_token=\"NaN\", \n",
        "                     filters='!\"#$%&()*+,-./:;<=>?@[\\\\]^_`{|}~\\t\\n')\n",
        "tokenizer.fit_on_texts(lst_corpus)\n",
        "dic_vocabulary = tokenizer.word_index\n",
        "\n",
        "## create sequence\n",
        "lst_text2seq= tokenizer.texts_to_sequences(lst_corpus)\n",
        "\n",
        "## padding sequence\n",
        "X_train = kprocessing.sequence.pad_sequences(lst_text2seq, \n",
        "                    maxlen=150, padding=\"post\", truncating=\"post\") #need to think about maxlen"
      ],
      "execution_count": 1736,
      "outputs": []
    },
    {
      "cell_type": "markdown",
      "metadata": {
        "id": "3iH87Hb31_nX"
      },
      "source": [
        "How does our features look like? We see here a feature map where we see that some mails contains more features (black) than others."
      ]
    },
    {
      "cell_type": "code",
      "metadata": {
        "id": "LIIO2aPi-9nY",
        "colab": {
          "base_uri": "https://localhost:8080/",
          "height": 278
        },
        "outputId": "655f33d6-4d8f-47dd-f348-f59fa815bab6"
      },
      "source": [
        "sns.heatmap(X_train==0, vmin=0, vmax=1, cbar=False)\n",
        "plt.show()\n",
        "#feature matrixy visual x * 120"
      ],
      "execution_count": 1737,
      "outputs": [
        {
          "output_type": "display_data",
          "data": {
            "image/png": "[encoded data removed]",
            "text/plain": [
              "<Figure size 432x288 with 1 Axes>"
            ]
          },
          "metadata": {
            "tags": [],
            "needs_background": "light"
          }
        }
      ]
    },
    {
      "cell_type": "markdown",
      "metadata": {
        "id": "Mgp0iiC228Az"
      },
      "source": [
        "Lets see if this worked... you can again change the i value to whatever u like"
      ]
    },
    {
      "cell_type": "code",
      "metadata": {
        "id": "tG5mpsFK_Ast",
        "colab": {
          "base_uri": "https://localhost:8080/"
        },
        "outputId": "d5afe48b-c8de-400c-8f87-8b9088208653"
      },
      "source": [
        "i = 10\n",
        "\n",
        "# list of text: [\"I like this\", ...]\n",
        "len_txt = len(dtf_train[\"Mails_Combined\"].iloc[i].split())\n",
        "print(\"from: \", dtf_train[\"Mails_Combined\"].iloc[i], \"| len:\", len_txt)\n",
        "\n",
        "# sequence of token ids: [[1, 2, 3], ...]\n",
        "len_tokens = len(X_train[i])\n",
        "print(\"to: \", X_train[i], \"| len:\", len(X_train[i]))\n",
        "\n",
        "# vocabulary: {\"I\":1, \"like\":2, \"this\":3, ...}\n",
        "print(\"check: \", dtf_train[\"Mails_Combined\"].iloc[i].split()[0], \n",
        "      \" -- idx in vocabulary -->\",  \n",
        "      dic_vocabulary[dtf_train[\"Mails_Combined\"].iloc[i].split()[0]])\n",
        "\n",
        "print(\"vocabulary: \", dict(list(dic_vocabulary.items())[0:10]), \"... (padding element, 0)\")"
      ],
      "execution_count": 1738,
      "outputs": [
        {
          "output_type": "stream",
          "text": [
            "from:  Sehr geehrter Herr Neumann, Ihre Nutzwertanalyse aktualisiert. Mein Wunschlieferant Deutschland Qualität Lieferzeit überzeugend . Tschechien weißt leider schlechte Qualität vr genauso Taiwan überzeugt . Dehat meisten Punkten überzeugt. Trotz teueren Preises. Mit freundlichen Grüßen Baumann | len: 35\n",
            "to:  [  26   42    4    6   50   69 2136  529 4426   45   17   96 2858    2\n",
            "   30 2859   15  276   17 4427 2860   31  568    2 4428  474  569 1721\n",
            "  475 4429 4430    7    9   12   44    0    0    0    0    0    0    0\n",
            "    0    0    0    0    0    0    0    0    0    0    0    0    0    0\n",
            "    0    0    0    0    0    0    0    0    0    0    0    0    0    0\n",
            "    0    0    0    0    0    0    0    0    0    0    0    0    0    0\n",
            "    0    0    0    0    0    0    0    0    0    0    0    0    0    0\n",
            "    0    0    0    0    0    0    0    0    0    0    0    0    0    0\n",
            "    0    0    0    0    0    0    0    0    0    0    0    0    0    0\n",
            "    0    0    0    0    0    0    0    0    0    0    0    0    0    0\n",
            "    0    0    0    0    0    0    0    0    0    0] | len: 150\n",
            "check:  Sehr  -- idx in vocabulary --> 26\n",
            "vocabulary:  {'NaN': 1, '.': 2, 'Hallo': 3, 'Herr': 4, 'Ich': 5, 'Neumann,': 6, 'Mit': 7, 'Ihnen': 8, 'freundlichen': 9, 'Sie': 10} ... (padding element, 0)\n"
          ],
          "name": "stdout"
        }
      ]
    },
    {
      "cell_type": "markdown",
      "metadata": {
        "id": "S9V4DZcK4574"
      },
      "source": [
        "We need to \"engineer\" the same features on the test set too!"
      ]
    },
    {
      "cell_type": "code",
      "metadata": {
        "id": "I6b_H1Lh_FOY"
      },
      "source": [
        "### do some engineering\n",
        "corpus = dtf_test[\"Mails_Combined\"]\n",
        "## create list of n-grams\n",
        "lst_corpus = []\n",
        "for string in corpus:\n",
        "    lst_words = string.split()\n",
        "    lst_grams = [\" \".join(lst_words[i:i+1]) for i in range(0, \n",
        "                 len(lst_words), 1)]\n",
        "    lst_corpus.append(lst_grams)\n",
        "    ## detect common bigrams and trigrams using the fitted detectors\n",
        "lst_corpus = list(bigrams_detector[lst_corpus])\n",
        "lst_corpus = list(trigrams_detector[lst_corpus])\n",
        "## text to sequence with the fitted tokenizer\n",
        "lst_text2seq = tokenizer.texts_to_sequences(lst_corpus)\n",
        "## padding sequence\n",
        "X_test = kprocessing.sequence.pad_sequences(lst_text2seq, \n",
        "                                            maxlen=150,\n",
        "             padding=\"post\", truncating=\"post\")"
      ],
      "execution_count": 1739,
      "outputs": []
    },
    {
      "cell_type": "markdown",
      "metadata": {
        "id": "OxSJvtn25XvA"
      },
      "source": [
        "And now we create the matrix of embeddings that will be used as a weight matrix in the neural network classifier."
      ]
    },
    {
      "cell_type": "code",
      "metadata": {
        "id": "-lj7yHfD_Hvx",
        "colab": {
          "base_uri": "https://localhost:8080/"
        },
        "outputId": "8585062b-9845-49c5-9771-c6c4520a16fb"
      },
      "source": [
        "## start the matrix (length of vocabulary x vector size) with all 0s\n",
        "embeddings = np.zeros((len(dic_vocabulary)+1, 300))\n",
        "\n",
        "for word,idx in dic_vocabulary.items():\n",
        "    ## update the row with vector\n",
        "    try:\n",
        "        embeddings[idx] =  nlp[word]\n",
        "    ## if word not in model then skip and the row stays all 0s\n",
        "    except:\n",
        "        pass"
      ],
      "execution_count": 1740,
      "outputs": [
        {
          "output_type": "stream",
          "text": [
            "/usr/local/lib/python3.7/dist-packages/ipykernel_launcher.py:7: DeprecationWarning: Call to deprecated `__getitem__` (Method will be removed in 4.0.0, use self.wv.__getitem__() instead).\n",
            "  import sys\n"
          ],
          "name": "stderr"
        }
      ]
    },
    {
      "cell_type": "markdown",
      "metadata": {
        "id": "RX-n5b3W5u75"
      },
      "source": [
        "Just a final check to see if everything is all right"
      ]
    },
    {
      "cell_type": "code",
      "metadata": {
        "id": "N336OJ9B_K0K",
        "colab": {
          "base_uri": "https://localhost:8080/"
        },
        "outputId": "efd131ca-e163-4e05-8551-ec3cc398f54a"
      },
      "source": [
        "word = \"freundlichen\"\n",
        "print(\"dic[word]:\", dic_vocabulary[word], \"|idx\")\n",
        "print(\"embeddings[idx]:\", embeddings[dic_vocabulary[word]].shape, \n",
        "      \"|vector\")"
      ],
      "execution_count": 1741,
      "outputs": [
        {
          "output_type": "stream",
          "text": [
            "dic[word]: 9 |idx\n",
            "embeddings[idx]: (300,) |vector\n"
          ],
          "name": "stdout"
        }
      ]
    },
    {
      "cell_type": "markdown",
      "metadata": {
        "id": "VYrBu14c5_zB"
      },
      "source": [
        "Lets quickly measure the inbalance to get some class_weights"
      ]
    },
    {
      "cell_type": "code",
      "metadata": {
        "colab": {
          "base_uri": "https://localhost:8080/"
        },
        "id": "jiQM9hi4Imw5",
        "outputId": "36f71834-6bfa-405f-a342-06cab3383286"
      },
      "source": [
        "# we need to fix our inbalanced dataset by using a balance function by sklearn\n",
        "from sklearn.utils import class_weight\n",
        "class_weights = class_weight.compute_class_weight('balanced',\n",
        "                                                 np.unique(y_train),\n",
        "                                                 y_train)\n",
        "class_weights"
      ],
      "execution_count": 1742,
      "outputs": [
        {
          "output_type": "execute_result",
          "data": {
            "text/plain": [
              "array([7.3       , 0.53676471])"
            ]
          },
          "metadata": {
            "tags": []
          },
          "execution_count": 1742
        }
      ]
    },
    {
      "cell_type": "markdown",
      "metadata": {
        "id": "EUuehNOG55UJ"
      },
      "source": [
        "And now we define our model without an attention but an embedding layer. We use an embedding layer to include our embeddings as untrainable weights, and a small RNN with two bidirectional LSTM layers, a dense layer and an output layer with 2 neurons, and a softmax as activation function. (we use this model design, as it was sucessfully used in a similar task)."
      ]
    },
    {
      "cell_type": "code",
      "metadata": {
        "id": "X2pkOoLX_O-R",
        "colab": {
          "base_uri": "https://localhost:8080/"
        },
        "outputId": "a3c3d6f1-bcbf-4b52-f3fc-f7389ad4891a"
      },
      "source": [
        "from tensorflow import keras\n",
        "\n",
        "## input\n",
        "x_in = layers.Input(shape=(150,))## embedding\n",
        "x = layers.Embedding(input_dim=embeddings.shape[0],  \n",
        "                     output_dim=embeddings.shape[1], \n",
        "                     weights=[embeddings],\n",
        "                     input_length=150, trainable=False)(x_in)\n",
        "## apply attention\n",
        "#x = attention_layer(x, neurons=150)\n",
        "## 2 layers of bidirectional lstm\n",
        "x = layers.Bidirectional(layers.LSTM(units=200, dropout=0.2, \n",
        "                         return_sequences=True))(x)\n",
        "x = layers.Bidirectional(layers.LSTM(units=200, dropout=0.2,\n",
        "                          return_sequences=False))(x)\n",
        "#x = layers.LSTM(units=100, dropout=0.2)(x)\n",
        "## final dense layers\n",
        "x = layers.Dense(64, activation='relu')(x)\n",
        "y_out = layers.Dense(2, activation='softmax')(x)\n",
        "#y_out = layers.Dense(1, activation='sigmoid')(x)## compile\n",
        "model = models.Model(x_in, y_out)\n",
        "\n",
        "opt = keras.optimizers.Adam(lr=1e-6)\n",
        "model.compile(loss='sparse_categorical_crossentropy',  # #binary_crossentropy \n",
        "              optimizer=opt, metrics=['accuracy'])\n",
        "\n",
        "model.summary()"
      ],
      "execution_count": 1743,
      "outputs": [
        {
          "output_type": "stream",
          "text": [
            "Model: \"model_57\"\n",
            "_________________________________________________________________\n",
            "Layer (type)                 Output Shape              Param #   \n",
            "=================================================================\n",
            "input_64 (InputLayer)        [(None, 150)]             0         \n",
            "_________________________________________________________________\n",
            "embedding_63 (Embedding)     (None, 150, 300)          3474600   \n",
            "_________________________________________________________________\n",
            "bidirectional_126 (Bidirecti (None, 150, 400)          801600    \n",
            "_________________________________________________________________\n",
            "bidirectional_127 (Bidirecti (None, 400)               961600    \n",
            "_________________________________________________________________\n",
            "dense_115 (Dense)            (None, 64)                25664     \n",
            "_________________________________________________________________\n",
            "dense_116 (Dense)            (None, 2)                 130       \n",
            "=================================================================\n",
            "Total params: 5,263,594\n",
            "Trainable params: 1,788,994\n",
            "Non-trainable params: 3,474,600\n",
            "_________________________________________________________________\n"
          ],
          "name": "stdout"
        },
        {
          "output_type": "stream",
          "text": [
            "/usr/local/lib/python3.7/dist-packages/tensorflow/python/keras/optimizer_v2/optimizer_v2.py:375: UserWarning: The `lr` argument is deprecated, use `learning_rate` instead.\n",
            "  \"The `lr` argument is deprecated, use `learning_rate` instead.\")\n"
          ],
          "name": "stderr"
        }
      ]
    },
    {
      "cell_type": "code",
      "metadata": {
        "id": "Tgt2sVYW_S_W",
        "colab": {
          "base_uri": "https://localhost:8080/",
          "height": 1000
        },
        "outputId": "3c9a15ab-efb2-456a-c5f9-ad7db9840c22"
      },
      "source": [
        "## encode y\n",
        "dic_y_mapping = {n:label for n,label in \n",
        "                 enumerate(np.unique(y_train))}\n",
        "inverse_dic = {v:k for k,v in dic_y_mapping.items()}\n",
        "y_train = np.array([inverse_dic[y] for y in y_train])\n",
        "\n",
        "## train\n",
        "training = model.fit(x=X_train, y=y_train, batch_size=64, \n",
        "                     epochs=50, shuffle=True, verbose=2, \n",
        "                     validation_split=0.2, class_weight={0:7, 1:0.5}) #0:14, 1:1\n",
        "\n",
        "## plot loss and accuracy\n",
        "metrics = [k for k in training.history.keys() if (\"loss\" not in k) and (\"val\" not in k)]\n",
        "fig, ax = plt.subplots(nrows=1, ncols=2, sharey=True)\n",
        "\n",
        "ax[0].set(title=\"Training\")\n",
        "ax11 = ax[0].twinx()\n",
        "ax[0].plot(training.history['loss'], color='black')\n",
        "ax[0].set_xlabel('Epochs')\n",
        "ax[0].set_ylabel('Loss', color='black')\n",
        "for metric in metrics:\n",
        "    ax11.plot(training.history[metric], label=metric)\n",
        "ax11.set_ylabel(\"Score\", color='steelblue')\n",
        "ax11.legend()\n",
        "ax[1].set(title=\"Validation\")\n",
        "ax22 = ax[1].twinx()\n",
        "\n",
        "ax[1].plot(training.history['val_loss'], color='black')\n",
        "ax[1].set_xlabel('Epochs')\n",
        "ax[1].set_ylabel('Loss', color='black')\n",
        "for metric in metrics:\n",
        "     ax22.plot(training.history['val_'+metric], label=metric)\n",
        "ax22.set_ylabel(\"Score\", color=\"steelblue\")\n",
        "plt.show()\n",
        "\n"
      ],
      "execution_count": 1744,
      "outputs": [
        {
          "output_type": "stream",
          "text": [
            "Epoch 1/50\n",
            "19/19 - 7s - loss: 0.6501 - accuracy: 0.2800 - val_loss: 0.7004 - val_accuracy: 0.3185\n",
            "Epoch 2/50\n",
            "19/19 - 1s - loss: 0.6496 - accuracy: 0.3562 - val_loss: 0.6970 - val_accuracy: 0.4144\n",
            "Epoch 3/50\n",
            "19/19 - 1s - loss: 0.6488 - accuracy: 0.4050 - val_loss: 0.6938 - val_accuracy: 0.4863\n",
            "Epoch 4/50\n",
            "19/19 - 1s - loss: 0.6483 - accuracy: 0.4795 - val_loss: 0.6900 - val_accuracy: 0.5616\n",
            "Epoch 5/50\n",
            "19/19 - 1s - loss: 0.6478 - accuracy: 0.5599 - val_loss: 0.6873 - val_accuracy: 0.6438\n",
            "Epoch 6/50\n",
            "19/19 - 1s - loss: 0.6462 - accuracy: 0.6241 - val_loss: 0.6838 - val_accuracy: 0.7329\n",
            "Epoch 7/50\n",
            "19/19 - 1s - loss: 0.6458 - accuracy: 0.6884 - val_loss: 0.6811 - val_accuracy: 0.7842\n",
            "Epoch 8/50\n",
            "19/19 - 1s - loss: 0.6450 - accuracy: 0.7209 - val_loss: 0.6780 - val_accuracy: 0.8185\n",
            "Epoch 9/50\n",
            "19/19 - 1s - loss: 0.6443 - accuracy: 0.7783 - val_loss: 0.6754 - val_accuracy: 0.8459\n",
            "Epoch 10/50\n",
            "19/19 - 1s - loss: 0.6432 - accuracy: 0.8151 - val_loss: 0.6725 - val_accuracy: 0.8664\n",
            "Epoch 11/50\n",
            "19/19 - 1s - loss: 0.6435 - accuracy: 0.8322 - val_loss: 0.6707 - val_accuracy: 0.8870\n",
            "Epoch 12/50\n",
            "19/19 - 1s - loss: 0.6434 - accuracy: 0.8579 - val_loss: 0.6677 - val_accuracy: 0.8904\n",
            "Epoch 13/50\n",
            "19/19 - 1s - loss: 0.6425 - accuracy: 0.8767 - val_loss: 0.6657 - val_accuracy: 0.9041\n",
            "Epoch 14/50\n",
            "19/19 - 1s - loss: 0.6416 - accuracy: 0.8904 - val_loss: 0.6630 - val_accuracy: 0.9075\n",
            "Epoch 15/50\n",
            "19/19 - 1s - loss: 0.6415 - accuracy: 0.9101 - val_loss: 0.6609 - val_accuracy: 0.9110\n",
            "Epoch 16/50\n",
            "19/19 - 1s - loss: 0.6407 - accuracy: 0.9144 - val_loss: 0.6589 - val_accuracy: 0.9178\n",
            "Epoch 17/50\n",
            "19/19 - 1s - loss: 0.6404 - accuracy: 0.9229 - val_loss: 0.6564 - val_accuracy: 0.9247\n",
            "Epoch 18/50\n",
            "19/19 - 1s - loss: 0.6403 - accuracy: 0.9144 - val_loss: 0.6542 - val_accuracy: 0.9281\n",
            "Epoch 19/50\n",
            "19/19 - 1s - loss: 0.6392 - accuracy: 0.9349 - val_loss: 0.6514 - val_accuracy: 0.9281\n",
            "Epoch 20/50\n",
            "19/19 - 1s - loss: 0.6377 - accuracy: 0.9358 - val_loss: 0.6498 - val_accuracy: 0.9281\n",
            "Epoch 21/50\n",
            "19/19 - 1s - loss: 0.6387 - accuracy: 0.9315 - val_loss: 0.6472 - val_accuracy: 0.9281\n",
            "Epoch 22/50\n",
            "19/19 - 1s - loss: 0.6380 - accuracy: 0.9375 - val_loss: 0.6455 - val_accuracy: 0.9281\n",
            "Epoch 23/50\n",
            "19/19 - 1s - loss: 0.6371 - accuracy: 0.9384 - val_loss: 0.6435 - val_accuracy: 0.9281\n",
            "Epoch 24/50\n",
            "19/19 - 1s - loss: 0.6363 - accuracy: 0.9409 - val_loss: 0.6410 - val_accuracy: 0.9281\n",
            "Epoch 25/50\n",
            "19/19 - 1s - loss: 0.6366 - accuracy: 0.9384 - val_loss: 0.6390 - val_accuracy: 0.9281\n",
            "Epoch 26/50\n",
            "19/19 - 1s - loss: 0.6349 - accuracy: 0.9435 - val_loss: 0.6374 - val_accuracy: 0.9281\n",
            "Epoch 27/50\n",
            "19/19 - 1s - loss: 0.6350 - accuracy: 0.9409 - val_loss: 0.6354 - val_accuracy: 0.9281\n",
            "Epoch 28/50\n",
            "19/19 - 1s - loss: 0.6334 - accuracy: 0.9418 - val_loss: 0.6335 - val_accuracy: 0.9281\n",
            "Epoch 29/50\n",
            "19/19 - 1s - loss: 0.6337 - accuracy: 0.9461 - val_loss: 0.6315 - val_accuracy: 0.9281\n",
            "Epoch 30/50\n",
            "19/19 - 1s - loss: 0.6329 - accuracy: 0.9435 - val_loss: 0.6299 - val_accuracy: 0.9281\n",
            "Epoch 31/50\n",
            "19/19 - 1s - loss: 0.6327 - accuracy: 0.9401 - val_loss: 0.6283 - val_accuracy: 0.9281\n",
            "Epoch 32/50\n",
            "19/19 - 1s - loss: 0.6319 - accuracy: 0.9418 - val_loss: 0.6267 - val_accuracy: 0.9281\n",
            "Epoch 33/50\n",
            "19/19 - 1s - loss: 0.6317 - accuracy: 0.9409 - val_loss: 0.6251 - val_accuracy: 0.9281\n",
            "Epoch 34/50\n",
            "19/19 - 1s - loss: 0.6311 - accuracy: 0.9452 - val_loss: 0.6227 - val_accuracy: 0.9281\n",
            "Epoch 35/50\n",
            "19/19 - 1s - loss: 0.6313 - accuracy: 0.9401 - val_loss: 0.6214 - val_accuracy: 0.9281\n",
            "Epoch 36/50\n",
            "19/19 - 1s - loss: 0.6294 - accuracy: 0.9452 - val_loss: 0.6194 - val_accuracy: 0.9281\n",
            "Epoch 37/50\n",
            "19/19 - 1s - loss: 0.6297 - accuracy: 0.9418 - val_loss: 0.6179 - val_accuracy: 0.9281\n",
            "Epoch 38/50\n",
            "19/19 - 1s - loss: 0.6291 - accuracy: 0.9452 - val_loss: 0.6151 - val_accuracy: 0.9281\n",
            "Epoch 39/50\n",
            "19/19 - 1s - loss: 0.6290 - accuracy: 0.9426 - val_loss: 0.6133 - val_accuracy: 0.9281\n",
            "Epoch 40/50\n",
            "19/19 - 1s - loss: 0.6284 - accuracy: 0.9478 - val_loss: 0.6112 - val_accuracy: 0.9281\n",
            "Epoch 41/50\n",
            "19/19 - 1s - loss: 0.6290 - accuracy: 0.9435 - val_loss: 0.6086 - val_accuracy: 0.9281\n",
            "Epoch 42/50\n",
            "19/19 - 1s - loss: 0.6267 - accuracy: 0.9435 - val_loss: 0.6071 - val_accuracy: 0.9281\n",
            "Epoch 43/50\n",
            "19/19 - 1s - loss: 0.6264 - accuracy: 0.9426 - val_loss: 0.6051 - val_accuracy: 0.9281\n",
            "Epoch 44/50\n",
            "19/19 - 1s - loss: 0.6259 - accuracy: 0.9452 - val_loss: 0.6033 - val_accuracy: 0.9281\n",
            "Epoch 45/50\n",
            "19/19 - 1s - loss: 0.6258 - accuracy: 0.9435 - val_loss: 0.6012 - val_accuracy: 0.9315\n",
            "Epoch 46/50\n",
            "19/19 - 1s - loss: 0.6253 - accuracy: 0.9426 - val_loss: 0.5994 - val_accuracy: 0.9315\n",
            "Epoch 47/50\n",
            "19/19 - 1s - loss: 0.6252 - accuracy: 0.9426 - val_loss: 0.5976 - val_accuracy: 0.9315\n",
            "Epoch 48/50\n",
            "19/19 - 1s - loss: 0.6228 - accuracy: 0.9443 - val_loss: 0.5961 - val_accuracy: 0.9315\n",
            "Epoch 49/50\n",
            "19/19 - 1s - loss: 0.6239 - accuracy: 0.9409 - val_loss: 0.5948 - val_accuracy: 0.9315\n",
            "Epoch 50/50\n",
            "19/19 - 1s - loss: 0.6225 - accuracy: 0.9461 - val_loss: 0.5938 - val_accuracy: 0.9281\n"
          ],
          "name": "stdout"
        },
        {
          "output_type": "display_data",
          "data": {
            "image/png": "[encoded data removed]",
            "text/plain": [
              "<Figure size 432x288 with 4 Axes>"
            ]
          },
          "metadata": {
            "tags": [],
            "needs_background": "light"
          }
        }
      ]
    },
    {
      "cell_type": "markdown",
      "metadata": {
        "id": "mqmrfGm9MVup"
      },
      "source": [
        "#NEED HELP HERE AT FRIDAY"
      ]
    },
    {
      "cell_type": "code",
      "metadata": {
        "id": "FHzIIZ8Iu1Zd"
      },
      "source": [
        "#insert chris predict model function here #need chris quick help\n",
        "# my guess: this sucks. i think there are only 1's predicted"
      ],
      "execution_count": 1745,
      "outputs": []
    },
    {
      "cell_type": "markdown",
      "metadata": {
        "id": "ok_lyYhAXsyN"
      },
      "source": [
        "def showModelPerformance(history, string):\n",
        "    plt.plot(history.history[string])\n",
        "    plt.plot(history.history['val_'+string])\n",
        "    plt.xlabel(\"Epochs\")\n",
        "    plt.ylabel(string)\n",
        "    plt.title('Random Forest Model')\n",
        "    plt.legend([string, 'val_'+string])\n",
        "    plt.show()\n",
        "    return"
      ]
    },
    {
      "cell_type": "markdown",
      "metadata": {
        "id": "E38ZIM50KJSC"
      },
      "source": [
        "Several problems might be implemented in this approach:\n",
        "- maybe our dataset is to small to create our own embeddings\n",
        "- maybe we made some major fails when creating embeddings or the model\n",
        "- its definitely overfitting ;-)\n",
        "\n",
        "anyways... lets continue with a pretrained model (BERT)"
      ]
    },
    {
      "cell_type": "code",
      "metadata": {
        "colab": {
          "base_uri": "https://localhost:8080/",
          "height": 135
        },
        "id": "KrBQWhIM389K",
        "outputId": "7e183d9a-ba63-4c65-8d0e-e5d3cdd8ab7c"
      },
      "source": [
        "this is an intentional error\n",
        "#it is also very crucial to restart all because the model is somehow saving its weights and does not start new"
      ],
      "execution_count": 1746,
      "outputs": [
        {
          "output_type": "error",
          "ename": "SyntaxError",
          "evalue": "ignored",
          "traceback": [
            "\u001b[0;36m  File \u001b[0;32m\"<ipython-input-1746-307341467b35>\"\u001b[0;36m, line \u001b[0;32m1\u001b[0m\n\u001b[0;31m    this is an intentional error\u001b[0m\n\u001b[0m                         ^\u001b[0m\n\u001b[0;31mSyntaxError\u001b[0m\u001b[0;31m:\u001b[0m invalid syntax\n"
          ]
        }
      ]
    },
    {
      "cell_type": "markdown",
      "metadata": {
        "id": "3U-2O6LU1-Sg"
      },
      "source": [
        "# Build Models"
      ]
    },
    {
      "cell_type": "markdown",
      "metadata": {
        "id": "YZHxdFUhQEjs"
      },
      "source": [
        "## Fit learning rate\n"
      ]
    },
    {
      "cell_type": "code",
      "metadata": {
        "id": "yEvAKhgRJ1XS"
      },
      "source": [
        "def fitLearningRate(training_padded, training_labels,validation_padded, validation_label, vocab_size, embedding_dim, max_length, num_epochs):\n",
        "  \n",
        "  model = tf.keras.Sequential([\n",
        "  #model design\n",
        "  #tf.keras.layers.Embedding(vocab_size, embedding_dim, input_length=max_length),\n",
        "  #tf.keras.layers.GlobalAveragePooling1D(), #fiddle #MaxPooling1D(pool_size=)\n",
        "  #tf.keras.layers.Dense(16, activation='relu'), #fiddle\n",
        "  #tf.keras.layers.Dense(5, activation='softmax')]) #5 scores, 5 outputs per scenario\n",
        "   \n",
        "  tf.keras.layers.Embedding(vocab_size+1, embedding_dim, input_length=max_length),\n",
        "  tf.keras.layers.Dropout(0.2),\n",
        "  #tf.keras.layers.Conv1D(32, 5, activation='sigmoid'),\n",
        "  #tf.keras.layers.MaxPooling1D(pool_size=4),\n",
        "  tf.keras.layers.LSTM(32),\n",
        "  tf.keras.layers.Dropout(0.3),\n",
        "  tf.keras.layers.Dense(16, activation='relu'),\n",
        "  tf.keras.layers.Dropout(0.2),\n",
        "  tf.keras.layers.Dense(7, activation='softmax')])\n",
        "  \n",
        "  #Fit the model\n",
        "  #Input: compiled Model, Train and Validation Data, Batch Size and trainingEpochs\n",
        "  #Return: history and model\n",
        "  optimizer = tf.keras.optimizers.RMSprop(lr=1e-6)\n",
        "  model.compile(optimizer = optimizer,\n",
        "                loss='categorical_crossentropy', metrics=['accuracy'])\n",
        "  lr_schedule = tf.keras.callbacks.LearningRateScheduler(\n",
        "    lambda epoch: 1e-6 * 10**(epoch / 20))\n",
        "  \n",
        "  #one hot encode\n",
        "  training_labels = np.array(training_labels)\n",
        "  validation_label = np.array(validation_label)\n",
        "  training_labels = np.concatenate((training_labels))\n",
        "  validation_label = np.concatenate((validation_label))\n",
        "  training_labels = to_categorical(training_labels, 7)\n",
        "  validation_label = to_categorical(validation_label, 7)\n",
        "\n",
        "  print(\"xtrain\")\n",
        "  print(training_padded.shape)\n",
        "  print(\"ytrain\")\n",
        "  print(training_labels.shape)\n",
        "  print(\"xval\")\n",
        "  print(validation_padded.shape)\n",
        "  print(\"yval\")\n",
        "  print(validation_label.shape)\n",
        "  \n",
        "\n",
        "  # fit network\n",
        "  history = model.fit(training_padded, training_labels, epochs=num_epochs, validation_data=(validation_padded, validation_label),callbacks=[lr_schedule], verbose=2)\n",
        "\n",
        "  # plot history\n",
        "  plt.semilogx(history.history[\"lr\"], history.history[\"loss\"])\n",
        "  plt.show()\n",
        "  #pyplot.legend()\n",
        "  #pyplot.show()\n",
        "  #history = compiledModel.fit(xTrain, yTrain,batch_size=512, epochs = trainingEpochs,callbacks=[lr_schedule])\n",
        "\n",
        "  return model, history"
      ],
      "execution_count": null,
      "outputs": []
    },
    {
      "cell_type": "markdown",
      "metadata": {
        "id": "IDQRA2vPQK1o"
      },
      "source": [
        "## First approach"
      ]
    },
    {
      "cell_type": "markdown",
      "metadata": {
        "id": "ufvoThLsrFGi"
      },
      "source": [
        "### Startermodel"
      ]
    },
    {
      "cell_type": "code",
      "metadata": {
        "id": "DnRvEIU1s9xa"
      },
      "source": [
        "def startermodel(training_padded, training_labels,validation_padded, validation_label, vocab_size, embedding_dim, max_length, num_epochs): #weights=[embeddings_matrix], trainable=False\n",
        "\n",
        "  model = tf.keras.Sequential([\n",
        "    #model design\n",
        "    #tf.keras.layers.Embedding(vocab_size, embedding_dim, input_length=max_length),\n",
        "    #tf.keras.layers.GlobalAveragePooling1D(), #fiddle #MaxPooling1D(pool_size=)\n",
        "    #tf.keras.layers.Dense(16, activation='relu'), #fiddle\n",
        "    #tf.keras.layers.Dense(5, activation='softmax')]) #5 scores, 5 outputs per scenario\n",
        "    \n",
        "    tf.keras.layers.Embedding(vocab_size+1, embedding_dim, input_length=max_length),\n",
        "    tf.keras.layers.Dropout(0.2),\n",
        "    #tf.keras.layers.Conv1D(32, 5, activation='sigmoid'),\n",
        "    #tf.keras.layers.MaxPooling1D(pool_size=4),\n",
        "    tf.keras.layers.LSTM(32),\n",
        "    tf.keras.layers.Dropout(0.3),\n",
        "    tf.keras.layers.Dense(16, activation='sigmoid'),\n",
        "    tf.keras.layers.Dropout(0.2),\n",
        "    tf.keras.layers.Dense(7, activation='softmax')])\n",
        "    \n",
        "  model.compile(loss='categorical_crossentropy',optimizer='adam',metrics=['accuracy'])\n",
        "  model.summary()\n",
        "  \n",
        "  #one hot encode\n",
        "  training_labels = np.array(training_labels)\n",
        "  validation_label = np.array(validation_label)\n",
        "  training_labels = np.concatenate((training_labels))\n",
        "  validation_label = np.concatenate((validation_label))\n",
        "  training_labels = to_categorical(training_labels, 7)\n",
        "  validation_label = to_categorical(validation_label, 7)\n",
        "\n",
        "  print(\"xtrain\")\n",
        "  print(training_padded.shape)\n",
        "  print(\"ytrain\")\n",
        "  print(training_labels.shape)\n",
        "  print(\"xval\")\n",
        "  print(validation_padded.shape)\n",
        "  print(\"yval\")\n",
        "  print(validation_label.shape)\n",
        "  \n",
        "\n",
        "  # fit network\n",
        "  history = model.fit(training_padded, training_labels, epochs=num_epochs, validation_data=(validation_padded, validation_label), verbose=2)\n",
        "  \n",
        "  # plot history\n",
        "  pyplot.plot(history.history['loss'], label='train')\n",
        "  pyplot.plot(history.history['val_loss'], label='test')\n",
        "  pyplot.legend()\n",
        "  pyplot.show()\n",
        " \n",
        "          \n",
        "  return model, history"
      ],
      "execution_count": null,
      "outputs": []
    },
    {
      "cell_type": "markdown",
      "metadata": {
        "id": "yaU4Gsx7rApw"
      },
      "source": [
        "### Bidirectional"
      ]
    },
    {
      "cell_type": "code",
      "metadata": {
        "id": "FBaAiHgm5Q5t"
      },
      "source": [
        "def startermodelBidirectional(training_padded, training_labels,validation_padded, validation_label, vocab_size, embedding_dim, max_length, num_epochs): #weights=[embeddings_matrix], trainable=False\n",
        "\n",
        "  model = tf.keras.Sequential([\n",
        "    #model design\n",
        "    #tf.keras.layers.Embedding(vocab_size, embedding_dim, input_length=max_length),\n",
        "    #tf.keras.layers.GlobalAveragePooling1D(), #fiddle #MaxPooling1D(pool_size=)\n",
        "    #tf.keras.layers.Dense(16, activation='relu'), #fiddle\n",
        "    #tf.keras.layers.Dense(5, activation='softmax')]) #5 scores, 5 outputs per scenario\n",
        "    \n",
        "    tf.keras.layers.Embedding(vocab_size+1, embedding_dim, input_length=max_length),\n",
        "    tf.keras.layers.Dropout(0.2),\n",
        "    #tf.keras.layers.Conv1D(32, 5, activation='sigmoid'),\n",
        "    #tf.keras.layers.MaxPooling1D(pool_size=4),\n",
        "    tf.keras.layers.Bidirectional(LSTM(32)),\n",
        "    tf.keras.layers.Dropout(0.3),\n",
        "    tf.keras.layers.Dense(16, activation='sigmoid'),\n",
        "    tf.keras.layers.Dropout(0.2),\n",
        "    tf.keras.layers.Dense(7, activation='softmax')])\n",
        "    \n",
        "  model.compile(loss='categorical_crossentropy',optimizer='adam',metrics=['accuracy'])\n",
        "  model.summary()\n",
        "  \n",
        "  #one hot encode\n",
        "  training_labels = np.array(training_labels)\n",
        "  validation_label = np.array(validation_label)\n",
        "  training_labels = np.concatenate((training_labels))\n",
        "  validation_label = np.concatenate((validation_label))\n",
        "  training_labels = to_categorical(training_labels, 7)\n",
        "  validation_label = to_categorical(validation_label, 7)\n",
        "\n",
        "  print(\"xtrain\")\n",
        "  print(training_padded.shape)\n",
        "  print(\"ytrain\")\n",
        "  print(training_labels.shape)\n",
        "  print(\"xval\")\n",
        "  print(validation_padded.shape)\n",
        "  print(\"yval\")\n",
        "  print(validation_label.shape)\n",
        "  \n",
        "\n",
        "  # fit network\n",
        "  history = model.fit(training_padded, training_labels, epochs=num_epochs, validation_data=(validation_padded, validation_label), verbose=2)\n",
        "\n",
        "  # plot history\n",
        "  pyplot.plot(history.history['loss'], label='train')\n",
        "  pyplot.plot(history.history['val_loss'], label='test')\n",
        "  pyplot.legend()\n",
        "  pyplot.show()\n",
        "          \n",
        "  return model, history"
      ],
      "execution_count": null,
      "outputs": []
    },
    {
      "cell_type": "markdown",
      "metadata": {
        "id": "PQzDyBkPQPU2"
      },
      "source": [
        "## Experimental approaches\n"
      ]
    },
    {
      "cell_type": "markdown",
      "metadata": {
        "id": "UHDSzirMs8dC"
      },
      "source": [
        "## Bert Model Multilingual"
      ]
    },
    {
      "cell_type": "code",
      "metadata": {
        "id": "fwcTbrw-uu8L"
      },
      "source": [
        "pip install transformers"
      ],
      "execution_count": null,
      "outputs": []
    },
    {
      "cell_type": "code",
      "metadata": {
        "id": "O9-fOnbttANM"
      },
      "source": [
        "from transformers import pipeline\n",
        "from transformers import BertTokenizer, TFBertModel\n",
        "tokenizer = BertTokenizer.from_pretrained('bert-base-multilingual-cased')\n",
        "model = TFBertModel.from_pretrained(\"bert-base-multilingual-cased\")\n",
        "text = \"Replace me by any text you'd like.\"\n",
        "encoded_input = tokenizer(text, return_tensors='tf')\n",
        "output = model(encoded_input)"
      ],
      "execution_count": null,
      "outputs": []
    },
    {
      "cell_type": "code",
      "metadata": {
        "id": "ScATUuBBvzwu"
      },
      "source": [
        "encoded_input"
      ],
      "execution_count": null,
      "outputs": []
    },
    {
      "cell_type": "code",
      "metadata": {
        "id": "KGC59WrNvE6N"
      },
      "source": [
        "pip install -q -U tensorflow-text\n"
      ],
      "execution_count": null,
      "outputs": []
    },
    {
      "cell_type": "code",
      "metadata": {
        "id": "00MgZvJZvIGZ"
      },
      "source": [
        "pip install -q tf-models-official\n"
      ],
      "execution_count": null,
      "outputs": []
    },
    {
      "cell_type": "code",
      "metadata": {
        "id": "veZT_-JjvCkp"
      },
      "source": [
        "import os\n",
        "import shutil\n",
        "\n",
        "import tensorflow as tf\n",
        "import tensorflow_hub as hub\n",
        "import tensorflow_text as text\n",
        "from official.nlp import optimization  # to create AdamW optimizer\n"
      ],
      "execution_count": null,
      "outputs": []
    },
    {
      "cell_type": "code",
      "metadata": {
        "id": "NztAzQgOt1MW"
      },
      "source": [
        "bert_preprocess_model = hub.KerasLayer(tfhub_handle_preprocess)\n"
      ],
      "execution_count": null,
      "outputs": []
    },
    {
      "cell_type": "code",
      "metadata": {
        "id": "uxXazU9Fzxt-"
      },
      "source": [
        "# install simpletransformers\n",
        "!pip install simpletransformers\n",
        "\n",
        "# check installed version\n",
        "!pip freeze | grep simpletransformers\n",
        "# simpletransformers==0.28.2"
      ],
      "execution_count": null,
      "outputs": []
    },
    {
      "cell_type": "code",
      "metadata": {
        "id": "ycPlyMPl01nP"
      },
      "source": [
        "azubi_df_mails_and_scored_combined"
      ],
      "execution_count": null,
      "outputs": []
    },
    {
      "cell_type": "code",
      "metadata": {
        "id": "fABPYNx_0Db4"
      },
      "source": [
        "import pandas as pd\n",
        "\n",
        "class_list = ['Impolite','Polite']\n",
        "\n",
        "#df1 = pd.read_csv('germeval2019GoldLabelsSubtask1_2.txt',sep='\\t', lineterminator='\\n',encoding='utf8',names=[\"tweet\", \"task1\", \"task2\"])\n",
        "#df2 = pd.read_csv('germeval2019.training_subtask1_2_korrigiert.txt',sep='\\t', lineterminator='\\n',encoding='utf8',names=[\"tweet\", \"task1\", \"task2\"])\n",
        "\n",
        "#df = pd.concat([df1,df2])\n",
        "#df['task2'] = df['task2'].str.replace('\\r', \"\")\n",
        "#df['pred_class'] = df.apply(lambda x:  class_list.index(x['task2']),axis=1)\n",
        "\n",
        "\n",
        "df =azubi_df_mails_and_scored_combined #df[['tweet','pred_class']]\n",
        "\n",
        "print(df.shape)\n",
        "df.head()"
      ],
      "execution_count": null,
      "outputs": []
    },
    {
      "cell_type": "code",
      "metadata": {
        "id": "eR6oANfO19SM"
      },
      "source": [
        "from sklearn.model_selection import train_test_split\n",
        "\n",
        "train_df, test_df = train_test_split(df, test_size=0.10)\n",
        "\n",
        "print('train shape: ',train_df.shape)\n",
        "print('test shape: ',test_df.shape)"
      ],
      "execution_count": null,
      "outputs": []
    },
    {
      "cell_type": "code",
      "metadata": {
        "id": "jguhRrS70ATj"
      },
      "source": [
        "from simpletransformers.classification import ClassificationModel\n",
        "\n",
        "# define hyperparameter\n",
        "train_args ={\"reprocess_input_data\": True,\n",
        "             \"overwrite_output_dir\": True,\n",
        "             \"fp16\":False,\n",
        "             \"num_train_epochs\": 10}\n",
        "\n",
        "# Create a ClassificationModel\n",
        "model = ClassificationModel(\n",
        "    \"bert\", \"distilbert-base-german-cased\",\n",
        "    #num_labels=1,\n",
        "    args=train_args\n",
        ")\n"
      ],
      "execution_count": null,
      "outputs": []
    },
    {
      "cell_type": "code",
      "metadata": {
        "id": "B6MZFIY4N6OK"
      },
      "source": [
        "model"
      ],
      "execution_count": null,
      "outputs": []
    },
    {
      "cell_type": "code",
      "metadata": {
        "id": "6XJ-B70W7Bro"
      },
      "source": [
        "xTrainArray, yTrainArray, xValArray, yValArray, xTestArray, yTestArray"
      ],
      "execution_count": null,
      "outputs": []
    },
    {
      "cell_type": "code",
      "metadata": {
        "id": "ga5PjPtT7jtF"
      },
      "source": [
        "type(yTrainArray)"
      ],
      "execution_count": null,
      "outputs": []
    },
    {
      "cell_type": "code",
      "metadata": {
        "id": "6Y2EvDEt65nx"
      },
      "source": [
        "# Creating pandas dataframe from numpy array\n",
        "train_data = pd.DataFrame({'Mails_Combined': xTrainArray, 'a4s_combined_i2b': yTrainArray[:,1]})\n",
        "val_data = pd.DataFrame({'Mails_Combined': xValArray, 'a4s_combined_i2b': yValArray[:,1]})\n",
        "test_data = pd.DataFrame({'Mails_Combined': xTestArray, 'a4s_combined_i2b': yTestArray[:,1]})\n"
      ],
      "execution_count": null,
      "outputs": []
    },
    {
      "cell_type": "code",
      "metadata": {
        "id": "J86qD4EA7Q1g"
      },
      "source": [
        "test_data.head()"
      ],
      "execution_count": null,
      "outputs": []
    },
    {
      "cell_type": "code",
      "metadata": {
        "id": "o8-R1F1U2LLu"
      },
      "source": [
        "# Train the model\n",
        "model.train_model(train_df=train_data, eval_df=val_data)\n"
      ],
      "execution_count": null,
      "outputs": []
    },
    {
      "cell_type": "code",
      "metadata": {
        "id": "fjLyvDN82yW2"
      },
      "source": [
        "from sklearn.metrics import f1_score, accuracy_score\n",
        "\n",
        "\n",
        "def f1_multiclass(labels, preds):\n",
        "    return f1_score(labels, preds, average='micro')\n",
        "    \n",
        "result, model_outputs, wrong_predictions = model.eval_model(val_data, f1=f1_score, acc=accuracy_score)\n",
        "\n",
        "result"
      ],
      "execution_count": null,
      "outputs": []
    },
    {
      "cell_type": "code",
      "metadata": {
        "id": "m4ZiCcCpU76m"
      },
      "source": [
        "model_outputs"
      ],
      "execution_count": null,
      "outputs": []
    },
    {
      "cell_type": "code",
      "metadata": {
        "id": "1dWMZJmq3Ej_"
      },
      "source": [
        "class_list = ['Impolite','Polite']\n",
        "\n",
        "for i in range(len(test_data)):\n",
        "\n",
        "  test_tweet = test_data['Mails_Combined'][i]\n",
        "  predictions, raw_outputs = model.predict([test_tweet])\n",
        "\n",
        "  if predictions[0] != 1:\n",
        "    print(i)\n",
        "    print(raw_outputs)\n",
        "    print(class_list[predictions[0]])"
      ],
      "execution_count": null,
      "outputs": []
    },
    {
      "cell_type": "code",
      "metadata": {
        "id": "-CpREvBAF1cl"
      },
      "source": [
        "test_data['Mails_Combined'][83]\n",
        "test_data['Mails_Combined'][92]\n",
        "test_data['Mails_Combined'][129]\n",
        "test_data['Mails_Combined'][149]\n",
        "test_data['Mails_Combined'][174]\n",
        "test_data['Mails_Combined'][210]\n",
        "test_data['Mails_Combined'][264]\n",
        "test_data['Mails_Combined'][283]\n",
        "test_data['Mails_Combined'][303]\n",
        "test_data['Mails_Combined'][308]\n",
        "test_data['Mails_Combined'][329]\n",
        "test_data['Mails_Combined'][338]\n",
        "test_data['Mails_Combined'][342]\n",
        "test_data['Mails_Combined'][344]\n",
        "test_data['Mails_Combined'][357]\n",
        "test_data['Mails_Combined'][391]\n",
        "\n",
        "test_data['a4s_combined_i2b'][83]\n",
        "test_data['a4s_combined_i2b'][92]\n",
        "test_data['a4s_combined_i2b'][129]\n",
        "test_data['a4s_combined_i2b'][149]\n",
        "test_data['a4s_combined_i2b'][174]\n",
        "test_data['a4s_combined_i2b'][210]\n",
        "test_data['a4s_combined_i2b'][264]\n",
        "test_data['a4s_combined_i2b'][283]\n",
        "test_data['a4s_combined_i2b'][303]\n",
        "test_data['a4s_combined_i2b'][308]\n",
        "test_data['a4s_combined_i2b'][329]\n",
        "test_data['a4s_combined_i2b'][338]\n",
        "test_data['a4s_combined_i2b'][342]\n",
        "test_data['a4s_combined_i2b'][344]\n",
        "test_data['a4s_combined_i2b'][357]\n",
        "test_data['a4s_combined_i2b'][391]\n",
        "\n"
      ],
      "execution_count": null,
      "outputs": []
    },
    {
      "cell_type": "code",
      "metadata": {
        "id": "7jt2z5V3dNNB"
      },
      "source": [
        "test_data['a4s_combined_i2b'][264]"
      ],
      "execution_count": null,
      "outputs": []
    },
    {
      "cell_type": "code",
      "metadata": {
        "id": "fN058AbudLy-"
      },
      "source": [
        "test_data['Mails_Combined'][264]"
      ],
      "execution_count": null,
      "outputs": []
    },
    {
      "cell_type": "code",
      "metadata": {
        "id": "esKYDxDbFvOa"
      },
      "source": [
        "test_data"
      ],
      "execution_count": null,
      "outputs": []
    },
    {
      "cell_type": "markdown",
      "metadata": {
        "id": "oemQjjz2k9JE"
      },
      "source": [
        "### Transfer model"
      ]
    },
    {
      "cell_type": "code",
      "metadata": {
        "id": "kHeKBFmdH0Am"
      },
      "source": [
        "def transferModelSimple(training_padded, training_labels,validation_padded, validation_label, vocab_size, embedding_dim, max_length,\n",
        "                        num_epochs, hub_layer, shape, oneHotEncode, outputClasses): #weights=[embeddings_matrix], trainable=False\n",
        "\n",
        "  model = tf.keras.Sequential()\n",
        "  \n",
        "  model.add(hub_layer)\n",
        "  #model.add(Dense(16, activation='relu'))\n",
        "  #model.add(Dense(20, activation = \"relu\"))\n",
        "  model.add(tf.keras.layers.Reshape((shape, 1)))\n",
        "  model.add(Bidirectional(LSTM(256, return_sequences=True))) #recurrent_dropout=0.2\n",
        "  model.add(Dropout(0.2))\n",
        "  model.add(Bidirectional(LSTM(128, return_sequences=True)))\n",
        "  model.add(Dropout(0.2))\n",
        "  model.add(Bidirectional(LSTM(64, return_sequences=True)))\n",
        "  model.add(Dropout(0.2))\n",
        "  model.add(Bidirectional(LSTM(32)))\n",
        "  model.add(Dropout(0.2))\n",
        "  #model.add(Dense(16, activation='relu')) #, kernel_regularizer='L2'\n",
        "  #model.add(Dropout(0.2))\n",
        "  model.add(Dense(training_labels.shape[1], activation='softmax'))\n",
        "\n",
        "  \n",
        "  metric = tf.keras.metrics.CategoricalAccuracy()\n",
        "  #metric = tf.keras.metrics.sparse_categorical_accuracy()\n",
        "  #metric = tf.keras.metrics.TopKCategoricalAccuracy(\n",
        "  #  k=3, name=\"top_k_categorical_accuracy\", dtype=None)\n",
        "\n",
        "  loss = tf.keras.losses.CategoricalCrossentropy(\n",
        "      from_logits=False,\n",
        "      label_smoothing=0,\n",
        "      reduction=\"auto\",\n",
        "      name=\"categorical_crossentropy\",\n",
        "  )\n",
        "\n",
        "\n",
        "  lr_schedule = tf.keras.optimizers.schedules.ExponentialDecay(\n",
        "    initial_learning_rate=1e-1,\n",
        "    decay_steps=20000,\n",
        "    decay_rate=0.99)\n",
        "  optimizer = tf.keras.optimizers.Adam(learning_rate=1e-2) \n",
        "  model.compile(loss='categorical_crossentropy',optimizer=optimizer ,metrics=metric)\n",
        "  model.summary()\n",
        "  model.save_weights('modelTrans.h5')\n",
        "  \n",
        "  if (oneHotEncode == True):\n",
        "    #one hot encode\n",
        "    training_labels = np.array(training_labels)\n",
        "    validation_label = np.array(validation_label)\n",
        "    training_labels = np.concatenate((training_labels))\n",
        "    validation_label = np.concatenate((validation_label))\n",
        "    training_labels = to_categorical(training_labels, 7)\n",
        "    validation_label = to_categorical(validation_label, 7)\n",
        "   \n",
        "\n",
        "  training_padded = np.array(training_padded)\n",
        "  validation_padded = np.array(validation_padded)\n",
        "  #print(\"xtrain\")\n",
        "  #print(training_padded.shape)\n",
        "  #print(\"ytrain\")\n",
        "  #print(training_labels.shape)\n",
        "  #print(\"xval\")\n",
        "  #print(validation_padded.shape)\n",
        "  #print(\"yval\")\n",
        "  #print(validation_label.shape)\n",
        "  \n",
        "  #training_padded = training_padded.reshape(training_padded.shape[0],training_padded.shape[1],1)\n",
        "  #validation_padded = validation_padded.reshape(validation_padded.shape[0],validation_padded.shape[1],1)\n",
        "  # fit network\n",
        "  history = model.fit(training_padded, training_labels, epochs=num_epochs,batch_size=128, validation_data=(validation_padded, validation_label), verbose=2)\n",
        "  returnmodel = model\n",
        "  model.load_weights('modelTrans.h5')\n",
        "  # plot history\n",
        "  pyplot.plot(history.history['loss'], label='train')\n",
        "  pyplot.plot(history.history['val_loss'], label='test')\n",
        "  pyplot.legend()\n",
        "  pyplot.show()\n",
        "\n",
        "  pyplot.plot(history.history['categorical_accuracy'], label='train')\n",
        "  pyplot.plot(history.history['val_categorical_accuracy'], label='test')\n",
        "  pyplot.legend()\n",
        "  pyplot.show()\n",
        "          \n",
        "  return returnmodel, history"
      ],
      "execution_count": null,
      "outputs": []
    },
    {
      "cell_type": "markdown",
      "metadata": {
        "id": "K71vNy_lk_ka"
      },
      "source": [
        "### Bidirectional "
      ]
    },
    {
      "cell_type": "code",
      "metadata": {
        "id": "5pbEIwCvI-yG"
      },
      "source": [
        "def startermodelBidirectionalExperimental(training_padded, training_labels,validation_padded, validation_label, vocab_size, embedding_dim, max_length, num_epochs): #weights=[embeddings_matrix], trainable=False\n",
        "\n",
        "  model = tf.keras.Sequential([\n",
        "    #model design\n",
        "    #tf.keras.layers.Embedding(vocab_size, embedding_dim, input_length=max_length),\n",
        "    #tf.keras.layers.GlobalAveragePooling1D(), #fiddle #MaxPooling1D(pool_size=)\n",
        "    #tf.keras.layers.Dense(16, activation='relu'), #fiddle\n",
        "    #tf.keras.layers.Dense(5, activation='softmax')]) #5 scores, 5 outputs per scenario\n",
        "    \n",
        "    tf.keras.layers.Embedding(input_dim = vocab_size+1, output_dim = embedding_dim, input_length=max_length, mask_zero=True),\n",
        "    \n",
        "    tf.keras.layers.Dropout(0.5),\n",
        "    #tf.keras.layers.Conv1D(64, 7, activation='sigmoid'),\n",
        "    #tf.keras.layers.MaxPooling1D(pool_size=4),\n",
        "    #tf.keras.layers.Bidirectional(LSTM(64, return_sequences=True, input_shape=training_padded.shape)), #recurrent_dropout=0.2\n",
        "    #tf.keras.layers.Dropout(0.5),\n",
        "    tf.keras.layers.LSTM(16),\n",
        "    #tf.keras.layers.Dense(16, activation='relu', kernel_regularizer='L2'), #kernel_regularizer='l2'\n",
        "    tf.keras.layers.Dropout(0.5),\n",
        "    tf.keras.layers.Dense(training_labels.shape[1], activation='softmax')])\n",
        "  \n",
        "  metric = tf.keras.metrics.CategoricalAccuracy()\n",
        "  lr_schedule = tf.keras.optimizers.schedules.ExponentialDecay(\n",
        "    initial_learning_rate=1e-2,\n",
        "    decay_steps=20000,\n",
        "    decay_rate=0.95)\n",
        "  optimizer = tf.keras.optimizers.Adam(learning_rate=lr_schedule) \n",
        "  model.compile(loss='categorical_crossentropy',optimizer=optimizer ,metrics=metric)\n",
        "  model.summary()\n",
        "  model.save_weights('model.h5')\n",
        "  \n",
        "\n",
        "  # fit network\n",
        "  history = model.fit(training_padded, training_labels, epochs=num_epochs,batch_size=32, validation_data=(validation_padded, validation_label), verbose=2)\n",
        "  returnmodel = model\n",
        "  model.load_weights('model.h5')\n",
        "  # plot history\n",
        "  showModelPerformance(history, \"loss\")\n",
        "  showModelPerformance(history, \"categorical_accuracy\")\n",
        "\n",
        "  #pyplot.plot(history.history['loss'], label='train')\n",
        "  #pyplot.plot(history.history['val_loss'], label='test')\n",
        "  #pyplot.legend()\n",
        "  #pyplot.show()\n",
        "\n",
        "  #pyplot.plot(history.history['categorical_accuracy'], label='train')\n",
        "  #pyplot.plot(history.history['val_categorical_accuracy'], label='test')\n",
        "  #pyplot.legend()\n",
        "  #pyplot.show()\n",
        "          \n",
        "  return returnmodel, history"
      ],
      "execution_count": null,
      "outputs": []
    },
    {
      "cell_type": "markdown",
      "metadata": {
        "id": "UkD1FcIslB3w"
      },
      "source": [
        "### Bidirectional Binary"
      ]
    },
    {
      "cell_type": "code",
      "metadata": {
        "id": "-JFQauRyNuud"
      },
      "source": [
        "def startermodelBidirectionalExperimentalBinary(training_padded, training_labels,validation_padded, validation_label, vocab_size, \n",
        "                                                embedding_dim, max_length, num_epochs): #weights=[embeddings_matrix], trainable=False\n",
        "\n",
        "  model = tf.keras.Sequential([\n",
        "   \n",
        "    tf.keras.layers.Embedding(input_dim = vocab_size+1, output_dim = embedding_dim, input_length=max_length, mask_zero=False), #eventuell mask_zero false \n",
        "    tf.keras.layers.Dropout(0.2),\n",
        "    tf.keras.layers.LSTM(16),\n",
        "    tf.keras.layers.Dropout(0.2),\n",
        "    #tf.keras.layers.Dense(8, activation='relu'),\n",
        "    #tf.keras.layers.Dropout(0.2),\n",
        "    tf.keras.layers.Dense(1, activation='sigmoid')])\n",
        "  \n",
        "  metric = tf.keras.metrics.BinaryAccuracy()\n",
        "  lr_schedule = tf.keras.optimizers.schedules.ExponentialDecay(\n",
        "    initial_learning_rate=1e-2,\n",
        "    decay_steps=10000,\n",
        "    decay_rate=0.8)\n",
        "  \n",
        "  optimizerAdam = tf.keras.optimizers.Adam(learning_rate=lr_schedule)\n",
        "  optimizerSGD = tf.keras.optimizers.SGD(learning_rate=lr_schedule)\n",
        "\n",
        "  model.compile(loss='binary_crossentropy',optimizer=optimizerAdam ,metrics=metric)\n",
        "  model.summary()\n",
        "  model.save_weights('model.h5')\n",
        "  \n",
        "  #one hot encode\n",
        "  #training_labels = np.array(training_labels)\n",
        "  #validation_label = np.array(validation_label)\n",
        "  #training_labels = np.concatenate((training_labels))\n",
        "  #validation_label = np.concatenate((validation_label))\n",
        "  #training_labels = to_categorical(training_labels, 7)\n",
        "  #validation_label = to_categorical(validation_label, 7)\n",
        "\n",
        "  #print(\"xtrain\")\n",
        "  #print(training_padded.shape)\n",
        "  #print(\"ytrain\")\n",
        "  #print(training_labels.shape)\n",
        "  #print(\"xval\")\n",
        "  #print(validation_padded.shape)\n",
        "  #print(\"yval\")\n",
        "  #print(validation_label.shape)\n",
        "\n",
        "  #training_labels = np.asarray(training_labels).astype('float32').reshape((-1,1))\n",
        "  #validation_label = np.asarray(validation_label).astype('float32').reshape((-1,1))\n",
        "  class_weights = {0: 1.,\n",
        "                1: 0.1}\n",
        "\n",
        "  # fit network\n",
        "  history = model.fit(training_padded, training_labels, epochs=num_epochs,batch_size=32, validation_data=(validation_padded, validation_label), verbose=2)\n",
        "  returnmodel = model\n",
        "  model.load_weights('model.h5')\n",
        "  # plot history\n",
        "  pyplot.plot(history.history['loss'], label='train')\n",
        "  pyplot.plot(history.history['val_loss'], label='test')\n",
        "  pyplot.legend()\n",
        "  pyplot.show()\n",
        "\n",
        "  pyplot.plot(history.history['binary_accuracy'], label='train')\n",
        "  pyplot.plot(history.history['val_binary_accuracy'], label='test')\n",
        "  pyplot.legend()\n",
        "  pyplot.show()\n",
        "          \n",
        "  return returnmodel, history"
      ],
      "execution_count": null,
      "outputs": []
    },
    {
      "cell_type": "markdown",
      "metadata": {
        "id": "kVX3KSFClDpR"
      },
      "source": [
        "### Predict Model"
      ]
    },
    {
      "cell_type": "code",
      "metadata": {
        "id": "w-qcn_d9tnPU"
      },
      "source": [
        "def predictModel(model, xTest, yTest):\n",
        "\n",
        "  predictions = model.predict(xTest)\n",
        "  print(predictions.size)\n",
        "  print(yTest.size)\n",
        "\n",
        "  class_labels = np.argmax(predictions, axis=1)\n",
        "  print(\"Class Labels:\\n\")\n",
        "  print(class_labels)\n",
        "  test_labels = np.argmax(yTest, axis=1)\n",
        "  print(\"Test Labels:\\n\")\n",
        "  print(test_labels)\n",
        "  #class_labels_reshaped = class_labels.reshape(yTest.shape[0],yTest.shape[1])\n",
        "  class_labels_diff = class_labels - test_labels\n",
        "  print(\"Class Labels Diff:\\n\")\n",
        "  print(class_labels_diff)\n",
        "  #label = [\"class1\", \"class2\", \"class3\", \"class4\", \"class5\", \"class6\"]\n",
        "  \n",
        "  print(len(xTest))\n",
        "  print(test_labels.shape)\n",
        "  print(class_labels.shape)\n",
        "\n",
        "  #plt.scatter(xTest, class_labels)\n",
        "  #plt.scatter(xTest, test_labels)\n",
        "\n",
        "  #plt.title('Test Set Predictions')\n",
        "  #plt.ylabel('class')\n",
        "\n",
        "  #plt.legend(loc=\"upper left\")\n",
        "  #plt.legend(['prediction', 'real test result'], loc='upper right')\n",
        "  #plt.show()\n",
        "\n",
        "  return predictions"
      ],
      "execution_count": null,
      "outputs": []
    },
    {
      "cell_type": "markdown",
      "metadata": {
        "id": "mVEDRS_19UIH"
      },
      "source": [
        "## Make and Run Models\n"
      ]
    },
    {
      "cell_type": "code",
      "metadata": {
        "id": "x4gSiW19zvuD"
      },
      "source": [
        "#history.history.keys()"
      ],
      "execution_count": null,
      "outputs": []
    },
    {
      "cell_type": "code",
      "metadata": {
        "id": "M5xcipzba5yC"
      },
      "source": [
        "xTrainArray, yTrainArray, xValArray, yValArray, xTestArray, yTestArray"
      ],
      "execution_count": null,
      "outputs": []
    },
    {
      "cell_type": "code",
      "metadata": {
        "id": "PPWQjLMcIEVb"
      },
      "source": [
        "from imblearn.under_sampling import RandomUnderSampler\n",
        "\n",
        "rus = RandomUnderSampler(random_state=0)\n",
        "rus.fit(xTrainArray, yTrainArray[:,0])\n",
        "X_resampled, y_resampled = rus.fit_sample(xTrainArray, yTrainArray[:,0])"
      ],
      "execution_count": null,
      "outputs": []
    },
    {
      "cell_type": "code",
      "metadata": {
        "id": "JdzMHQdXIW-h"
      },
      "source": [
        "y_resampled"
      ],
      "execution_count": null,
      "outputs": []
    },
    {
      "cell_type": "code",
      "metadata": {
        "id": "aFVBLLvOMkxP"
      },
      "source": [
        "model1234, history1234 = startermodelBidirectionalExperimentalBinary(X_resampled, y_resampled,xValArray, yValArray[:,0], vocab_size, embedding_dim, max_length, 100)"
      ],
      "execution_count": null,
      "outputs": []
    },
    {
      "cell_type": "code",
      "metadata": {
        "id": "-wSx_rZmm7zP"
      },
      "source": [
        "#model, history = startermodelBidirectionalExperimental(train_padded_single, yTrain_single,validation_padded_single, yVal_single, vocab_size, embedding_dim, max_length, 100)"
      ],
      "execution_count": null,
      "outputs": []
    },
    {
      "cell_type": "code",
      "metadata": {
        "id": "sb6_sBc62uoF"
      },
      "source": [
        "hub_layer = hub.KerasLayer(\"https://tfhub.dev/google/tf2-preview/nnlm-de-dim50-with-normalization/1\", output_shape=[50],\n",
        "                           input_shape=[], dtype=tf.string, trainable = False)"
      ],
      "execution_count": null,
      "outputs": []
    },
    {
      "cell_type": "code",
      "metadata": {
        "id": "39csXGKV4KEK"
      },
      "source": [
        "#hub_layer = hub.KerasLayer(\"https://tfhub.dev/google/tf2-preview/nnlm-de-dim128-with-normalization/1\", output_shape=[128],\n",
        "                           #input_shape=[], dtype=tf.string, trainable = False)"
      ],
      "execution_count": null,
      "outputs": []
    },
    {
      "cell_type": "code",
      "metadata": {
        "id": "Btbjoz8Bthu7"
      },
      "source": [
        "#Adjust x and y parameters to correct names\n",
        "#model3, history3 = transferModelSimple(train_sum, yTrain_sum,validation_sum, yVal_sum, vocab_size, embedding_dim, max_length, 100, hub_layer, 50, False, 7)"
      ],
      "execution_count": null,
      "outputs": []
    },
    {
      "cell_type": "code",
      "metadata": {
        "id": "X5oqSAK-LRYF"
      },
      "source": [
        "#model2, history2 = transferModelSimple(xTrain, yTrain_sum,xVal, yVal_sum, vocab_size, embedding_dim, max_length, 100, hub_layer, 50, False, 7)"
      ],
      "execution_count": null,
      "outputs": []
    },
    {
      "cell_type": "markdown",
      "metadata": {
        "id": "2Fnel83DGt17"
      },
      "source": [
        ""
      ]
    },
    {
      "cell_type": "code",
      "metadata": {
        "id": "6CA6ZKOk5G5y"
      },
      "source": [
        "predictions1234 = predictModel(model1234,xTestArray, yTestArray)"
      ],
      "execution_count": null,
      "outputs": []
    },
    {
      "cell_type": "markdown",
      "metadata": {
        "id": "R00YcxTIvoyG"
      },
      "source": [
        "# Primitive Models"
      ]
    },
    {
      "cell_type": "markdown",
      "metadata": {
        "id": "gyJDEoqRvqqa"
      },
      "source": [
        "## Naive Bayes"
      ]
    },
    {
      "cell_type": "code",
      "metadata": {
        "id": "acS1J9OttmR3"
      },
      "source": [
        "def NaiveBayesModel(X_train, y_train, X_test, y_test):\n",
        "  classifier = MultinomialNB()\n",
        "  nb = classifier.fit(X_train, y_train)\n",
        "  y_pred = classifier.predict(X_test)\n",
        "  return nb, y_pred"
      ],
      "execution_count": null,
      "outputs": []
    },
    {
      "cell_type": "markdown",
      "metadata": {
        "id": "OcyM88Hdvr8n"
      },
      "source": [
        "## SVM"
      ]
    },
    {
      "cell_type": "code",
      "metadata": {
        "id": "-Bngdx1yvoHP"
      },
      "source": [
        "## Linear Support Vector Machine\n",
        "def svmModel(X_train, y_train, X_test, y_test):\n",
        "  sgd = Pipeline([('vect', CountVectorizer()),\n",
        "                ('tfidf', TfidfTransformer()),\n",
        "                ('clf', SGDClassifier(loss='hinge', penalty='l2',alpha=1e-3, random_state=42, max_iter=5, tol=None)),\n",
        "               ])\n",
        "  sgd.fit(X_train, y_train)\n",
        "\n",
        "  #%%time\n",
        "  \n",
        "  y_pred = sgd.predict(X_test)\n",
        "  my_tags = ['class 0', 'class 1']\n",
        "\n",
        "  print('accuracy %s' % accuracy_score(y_pred, y_test))\n",
        "  print(classification_report(y_test, y_pred,target_names=my_tags))\n",
        "  return sgd, y_pred"
      ],
      "execution_count": null,
      "outputs": []
    },
    {
      "cell_type": "markdown",
      "metadata": {
        "id": "Mmjl7BDVyYCG"
      },
      "source": [
        "##Logistic Regression"
      ]
    },
    {
      "cell_type": "code",
      "metadata": {
        "id": "ZzQJqeUQyXlL"
      },
      "source": [
        "def lgModel(X_train, y_train, X_test, y_test):\n",
        "  logreg = Pipeline([('vect', CountVectorizer()),\n",
        "                ('tfidf', TfidfTransformer()),\n",
        "                ('clf', LogisticRegression(n_jobs=5, C=1e-1)), #C=1e5\n",
        "               ])\n",
        "  logreg.fit(X_train, y_train)\n",
        "\n",
        "  #%%time\n",
        "\n",
        "  y_pred = logreg.predict(X_test)\n",
        "  y_predProba = logreg.predict_proba(X_test)\n",
        "  my_tags = ['class 0', 'class 1']\n",
        "  print('accuracy %s' % accuracy_score(y_pred, y_test))\n",
        "  print(classification_report(y_test, y_pred,target_names=my_tags))\n",
        "  return logreg, y_pred, y_predProba"
      ],
      "execution_count": null,
      "outputs": []
    },
    {
      "cell_type": "markdown",
      "metadata": {
        "id": "5Vi-Wwg80pfn"
      },
      "source": [
        "## Random Forest"
      ]
    },
    {
      "cell_type": "code",
      "metadata": {
        "id": "01gAtqOY0orV"
      },
      "source": [
        "def randomtree_Model(n_estimators, X_train_sc, y_train, X_test_sc, y_test):\n",
        "    model = RandomForestClassifier(n_estimators = n_estimators, criterion  = 'entropy', random_state = 42)\n",
        "\n",
        "    history = model.fit(X_train_sc, y_train)\n",
        "\n",
        "    y_predict = model.predict(X_test_sc)\n",
        "\n",
        "    print(confusion_matrix(y_test,y_predict))\n",
        "    print(classification_report(y_test,y_predict))\n",
        "    print(accuracy_score(y_test, y_predict))\n",
        "    return model, history, y_predict"
      ],
      "execution_count": null,
      "outputs": []
    },
    {
      "cell_type": "markdown",
      "metadata": {
        "id": "we4aNM4I4bx_"
      },
      "source": [
        "# Execute Primitive Models"
      ]
    },
    {
      "cell_type": "code",
      "metadata": {
        "id": "9u3d-_bU0rT1"
      },
      "source": [
        "#Execute random forest model\n",
        "modelRandomForest,historyRandomForest, y_predictRandomForest = randomtree_Model(100, xTrainArray, yTrainArray[:,1], xValArray, yValArray[:,1])"
      ],
      "execution_count": null,
      "outputs": []
    },
    {
      "cell_type": "code",
      "metadata": {
        "id": "ntgXVPRGyc4z"
      },
      "source": [
        "#Execute lgModel\n",
        "logreg, y_predLg, y_predProbaLg = lgModel(xTrainArray2, yTrainArray2[:,1], xValArray2, yValArray2[:,1])"
      ],
      "execution_count": null,
      "outputs": []
    },
    {
      "cell_type": "code",
      "metadata": {
        "id": "sDjgLOWSvwwN"
      },
      "source": [
        "#Execute svmModel\n",
        "sgd, y_predSgd = svmModel(xTrainArray2, yTrainArray2[:,1], xValArray2, yValArray2[:,1])"
      ],
      "execution_count": null,
      "outputs": []
    },
    {
      "cell_type": "code",
      "metadata": {
        "id": "2T_IND4gtyaz"
      },
      "source": [
        "#Execute Naive Bayes Model\n",
        "nb, yPredictedNb = NaiveBayesModel(xTrainArray, yTrainArray[:,1], xValArray, yValArray[:,1])"
      ],
      "execution_count": null,
      "outputs": []
    },
    {
      "cell_type": "markdown",
      "metadata": {
        "id": "FJ0_TuUZ78gb"
      },
      "source": [
        "# Word2Vec"
      ]
    },
    {
      "cell_type": "code",
      "metadata": {
        "id": "0RFLGUmqWZrI"
      },
      "source": [
        "#note by CM: it seems like christopher is trying a pretrained word2vec - GLOVE (to make the difference more clear to the first word2vec approach)"
      ],
      "execution_count": null,
      "outputs": []
    },
    {
      "cell_type": "code",
      "metadata": {
        "id": "cWfP0aCk89xp"
      },
      "source": [
        "# average the two word vectors\n",
        "def word_averaging(wv, words):\n",
        "    all_words, mean = set(), []\n",
        "    \n",
        "    for word in words:\n",
        "        if isinstance(word, np.ndarray):\n",
        "            mean.append(word)\n",
        "        elif word in wv.vocab:\n",
        "            mean.append(wv.syn0norm[wv.vocab[word].index])\n",
        "            all_words.add(wv.vocab[word].index)\n",
        "\n",
        "    if not mean:\n",
        "        logging.warning(\"cannot compute similarity with no input %s\", words)\n",
        "        # FIXME: remove these examples in pre-processing\n",
        "        return np.zeros(wv.vector_size,)\n",
        "\n",
        "    mean = gensim.matutils.unitvec(np.array(mean).mean(axis=0)).astype(np.float32)\n",
        "    return mean"
      ],
      "execution_count": null,
      "outputs": []
    },
    {
      "cell_type": "code",
      "metadata": {
        "id": "vCXNg02_8_aS"
      },
      "source": [
        "def  word_averaging_list(wv, text_list):\n",
        "    return np.vstack([word_averaging(wv, post) for post in text_list ])\n"
      ],
      "execution_count": null,
      "outputs": []
    },
    {
      "cell_type": "code",
      "metadata": {
        "id": "PHeDjYs39BSS"
      },
      "source": [
        "# tokenize the text and apply the tokenization to \"post\" column, and apply word vector averaging to tokenized text\n",
        "def w2v_tokenize_text(text):\n",
        "    tokens = []\n",
        "    for sent in nltk.sent_tokenize(text, language='english'):\n",
        "        for word in nltk.word_tokenize(sent, language='english'):\n",
        "            if len(word) < 2:\n",
        "                continue\n",
        "            tokens.append(word)\n",
        "    return tokens"
      ],
      "execution_count": null,
      "outputs": []
    },
    {
      "cell_type": "code",
      "metadata": {
        "id": "gQ4wfsCu8vhN"
      },
      "source": [
        "def word2vecTokenizer(sentences):\n",
        "\n",
        "  wv = KeyedVectors.load_word2vec_format(\"GoogleNews-vectors-negative300.bin.gz\", binary=True) #gensim.models.\n",
        "  wv.init_sims(replace=True)\n",
        "\n",
        "  tokenized = sentences.apply(lambda r: w2v_tokenize_text(r['post']), axis=1).values\n",
        "\n",
        "  return tokenized"
      ],
      "execution_count": null,
      "outputs": []
    },
    {
      "cell_type": "code",
      "metadata": {
        "id": "mC-eUfCzBUBd"
      },
      "source": [
        "def word2vecTokenizer2(sentences, glove_vectors):\n",
        "\n",
        "  wv = glove_vectors\n",
        "  wv.init_sims(replace=True)\n",
        "\n",
        "  tokenized = sentences.apply(lambda r: w2v_tokenize_text(r['post']), axis=1).values\n",
        "\n",
        "  return tokenized"
      ],
      "execution_count": null,
      "outputs": []
    },
    {
      "cell_type": "code",
      "metadata": {
        "id": "hzdWYN9489bB"
      },
      "source": [
        "#import gensim.downloader\n",
        "#print(list(gensim.downloader.info()['models'].keys()))"
      ],
      "execution_count": null,
      "outputs": []
    },
    {
      "cell_type": "code",
      "metadata": {
        "id": "BYtF_PbVAgN7"
      },
      "source": [
        "#glove_vectors = gensim.downloader.load('glove-twitter-25')"
      ],
      "execution_count": null,
      "outputs": []
    }
  ]
}