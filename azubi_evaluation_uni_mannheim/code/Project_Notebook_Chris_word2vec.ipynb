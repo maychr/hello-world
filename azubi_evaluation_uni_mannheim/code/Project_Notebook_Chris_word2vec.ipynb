{
  "nbformat": 4,
  "nbformat_minor": 0,
  "metadata": {
    "kernelspec": {
      "display_name": "Python 3",
      "language": "python",
      "name": "python3"
    },
    "language_info": {
      "codemirror_mode": {
        "name": "ipython",
        "version": 3
      },
      "file_extension": ".py",
      "mimetype": "text/x-python",
      "name": "python",
      "nbconvert_exporter": "python",
      "pygments_lexer": "ipython3",
      "version": "3.8.5"
    },
    "colab": {
      "name": "Project_Notebook_Christopher.ipynb",
      "provenance": []
    },
    "accelerator": "GPU"
  },
  "cells": [
    {
      "cell_type": "markdown",
      "metadata": {
        "id": "wcK4xEzRs9xK"
      },
      "source": [
        "---\n",
        "## Note from the Teachers:\n",
        "We added a header with information about your project. \n",
        "This is useful since we want to keep a database of all the cool projects participants have made during the courses.\n",
        "We will save the code in our database and host on github a page to show all the projects. Therefore it is more practical to add some information in the header of each notebook.\n",
        "Thanks a lot for the understanding and for taking care of it.\n",
        "\n",
        "You can delete this cell if you want\n",
        "\n",
        "---"
      ]
    },
    {
      "cell_type": "markdown",
      "metadata": {
        "id": "dgD3XbPds9xQ"
      },
      "source": [
        "# Project Name (replace with your project name)\n",
        "Project description (replace with your project description, you can use the same from the `INFO.md` file."
      ]
    },
    {
      "cell_type": "markdown",
      "metadata": {
        "id": "v27TWYp_s9xR"
      },
      "source": [
        "### Project Repo \n",
        "link (replace if you have your own repo, otherwise delete)"
      ]
    },
    {
      "cell_type": "markdown",
      "metadata": {
        "id": "4Nbtlpq0s9xS"
      },
      "source": [
        "## Participants:\n",
        "Please list here all the participants alongside with any information you may want to be visible. This will be hosted on a opencampus.sh repository, so if you want to keep a connection to your github user include this information here. "
      ]
    },
    {
      "cell_type": "markdown",
      "metadata": {
        "id": "_OAz0ANbs9xS"
      },
      "source": [
        "### Course and Semester\n",
        "Add here in which course and in which semester it was done."
      ]
    },
    {
      "cell_type": "markdown",
      "metadata": {
        "id": "-0JN1ztBs9xT"
      },
      "source": [
        "### License\n",
        "If you are releasing the software under some certain license, you can mention it and also include the `LICENSE.md` file in the folder\n",
        "\n",
        "---"
      ]
    },
    {
      "cell_type": "code",
      "metadata": {
        "id": "EKuWTTVMs9xU"
      },
      "source": [
        "# Here you can start your code! Thanks"
      ],
      "execution_count": 444,
      "outputs": []
    },
    {
      "cell_type": "code",
      "metadata": {
        "id": "Mui49FlG0VA3"
      },
      "source": [
        "pip install -q tf-models-official\n"
      ],
      "execution_count": 445,
      "outputs": []
    },
    {
      "cell_type": "code",
      "metadata": {
        "id": "Yio7mvFl0jSZ"
      },
      "source": [
        "#!pip install bert-tensorflow"
      ],
      "execution_count": 446,
      "outputs": []
    },
    {
      "cell_type": "code",
      "metadata": {
        "colab": {
          "base_uri": "https://localhost:8080/"
        },
        "id": "9U9Scx8Q1jps",
        "outputId": "5f66fa94-720c-405a-8ea5-e8d8e0b8801f"
      },
      "source": [
        "!pip install tensorflow-text"
      ],
      "execution_count": 447,
      "outputs": [
        {
          "output_type": "stream",
          "text": [
            "Requirement already satisfied: tensorflow-text in /usr/local/lib/python3.7/dist-packages (2.5.0)\n",
            "Requirement already satisfied: tensorflow-hub>=0.8.0 in /usr/local/lib/python3.7/dist-packages (from tensorflow-text) (0.12.0)\n",
            "Requirement already satisfied: tensorflow<2.6,>=2.5.0 in /usr/local/lib/python3.7/dist-packages (from tensorflow-text) (2.5.0)\n",
            "Requirement already satisfied: protobuf>=3.8.0 in /usr/local/lib/python3.7/dist-packages (from tensorflow-hub>=0.8.0->tensorflow-text) (3.12.4)\n",
            "Requirement already satisfied: numpy>=1.12.0 in /usr/local/lib/python3.7/dist-packages (from tensorflow-hub>=0.8.0->tensorflow-text) (1.19.5)\n",
            "Requirement already satisfied: h5py~=3.1.0 in /usr/local/lib/python3.7/dist-packages (from tensorflow<2.6,>=2.5.0->tensorflow-text) (3.1.0)\n",
            "Requirement already satisfied: wrapt~=1.12.1 in /usr/local/lib/python3.7/dist-packages (from tensorflow<2.6,>=2.5.0->tensorflow-text) (1.12.1)\n",
            "Requirement already satisfied: typing-extensions~=3.7.4 in /usr/local/lib/python3.7/dist-packages (from tensorflow<2.6,>=2.5.0->tensorflow-text) (3.7.4.3)\n",
            "Requirement already satisfied: wheel~=0.35 in /usr/local/lib/python3.7/dist-packages (from tensorflow<2.6,>=2.5.0->tensorflow-text) (0.36.2)\n",
            "Requirement already satisfied: termcolor~=1.1.0 in /usr/local/lib/python3.7/dist-packages (from tensorflow<2.6,>=2.5.0->tensorflow-text) (1.1.0)\n",
            "Requirement already satisfied: absl-py~=0.10 in /usr/local/lib/python3.7/dist-packages (from tensorflow<2.6,>=2.5.0->tensorflow-text) (0.12.0)\n",
            "Requirement already satisfied: six~=1.15.0 in /usr/local/lib/python3.7/dist-packages (from tensorflow<2.6,>=2.5.0->tensorflow-text) (1.15.0)\n",
            "Requirement already satisfied: gast==0.4.0 in /usr/local/lib/python3.7/dist-packages (from tensorflow<2.6,>=2.5.0->tensorflow-text) (0.4.0)\n",
            "Requirement already satisfied: opt-einsum~=3.3.0 in /usr/local/lib/python3.7/dist-packages (from tensorflow<2.6,>=2.5.0->tensorflow-text) (3.3.0)\n",
            "Requirement already satisfied: google-pasta~=0.2 in /usr/local/lib/python3.7/dist-packages (from tensorflow<2.6,>=2.5.0->tensorflow-text) (0.2.0)\n",
            "Requirement already satisfied: astunparse~=1.6.3 in /usr/local/lib/python3.7/dist-packages (from tensorflow<2.6,>=2.5.0->tensorflow-text) (1.6.3)\n",
            "Requirement already satisfied: tensorflow-estimator<2.6.0,>=2.5.0rc0 in /usr/local/lib/python3.7/dist-packages (from tensorflow<2.6,>=2.5.0->tensorflow-text) (2.5.0)\n",
            "Requirement already satisfied: tensorboard~=2.5 in /usr/local/lib/python3.7/dist-packages (from tensorflow<2.6,>=2.5.0->tensorflow-text) (2.5.0)\n",
            "Requirement already satisfied: keras-nightly~=2.5.0.dev in /usr/local/lib/python3.7/dist-packages (from tensorflow<2.6,>=2.5.0->tensorflow-text) (2.5.0.dev2021032900)\n",
            "Requirement already satisfied: flatbuffers~=1.12.0 in /usr/local/lib/python3.7/dist-packages (from tensorflow<2.6,>=2.5.0->tensorflow-text) (1.12)\n",
            "Requirement already satisfied: keras-preprocessing~=1.1.2 in /usr/local/lib/python3.7/dist-packages (from tensorflow<2.6,>=2.5.0->tensorflow-text) (1.1.2)\n",
            "Requirement already satisfied: grpcio~=1.34.0 in /usr/local/lib/python3.7/dist-packages (from tensorflow<2.6,>=2.5.0->tensorflow-text) (1.34.1)\n",
            "Requirement already satisfied: setuptools in /usr/local/lib/python3.7/dist-packages (from protobuf>=3.8.0->tensorflow-hub>=0.8.0->tensorflow-text) (57.0.0)\n",
            "Requirement already satisfied: cached-property; python_version < \"3.8\" in /usr/local/lib/python3.7/dist-packages (from h5py~=3.1.0->tensorflow<2.6,>=2.5.0->tensorflow-text) (1.5.2)\n",
            "Requirement already satisfied: markdown>=2.6.8 in /usr/local/lib/python3.7/dist-packages (from tensorboard~=2.5->tensorflow<2.6,>=2.5.0->tensorflow-text) (3.3.4)\n",
            "Requirement already satisfied: google-auth<2,>=1.6.3 in /usr/local/lib/python3.7/dist-packages (from tensorboard~=2.5->tensorflow<2.6,>=2.5.0->tensorflow-text) (1.31.0)\n",
            "Requirement already satisfied: google-auth-oauthlib<0.5,>=0.4.1 in /usr/local/lib/python3.7/dist-packages (from tensorboard~=2.5->tensorflow<2.6,>=2.5.0->tensorflow-text) (0.4.4)\n",
            "Requirement already satisfied: requests<3,>=2.21.0 in /usr/local/lib/python3.7/dist-packages (from tensorboard~=2.5->tensorflow<2.6,>=2.5.0->tensorflow-text) (2.23.0)\n",
            "Requirement already satisfied: tensorboard-data-server<0.7.0,>=0.6.0 in /usr/local/lib/python3.7/dist-packages (from tensorboard~=2.5->tensorflow<2.6,>=2.5.0->tensorflow-text) (0.6.1)\n",
            "Requirement already satisfied: tensorboard-plugin-wit>=1.6.0 in /usr/local/lib/python3.7/dist-packages (from tensorboard~=2.5->tensorflow<2.6,>=2.5.0->tensorflow-text) (1.8.0)\n",
            "Requirement already satisfied: werkzeug>=0.11.15 in /usr/local/lib/python3.7/dist-packages (from tensorboard~=2.5->tensorflow<2.6,>=2.5.0->tensorflow-text) (1.0.1)\n",
            "Requirement already satisfied: importlib-metadata; python_version < \"3.8\" in /usr/local/lib/python3.7/dist-packages (from markdown>=2.6.8->tensorboard~=2.5->tensorflow<2.6,>=2.5.0->tensorflow-text) (4.5.0)\n",
            "Requirement already satisfied: cachetools<5.0,>=2.0.0 in /usr/local/lib/python3.7/dist-packages (from google-auth<2,>=1.6.3->tensorboard~=2.5->tensorflow<2.6,>=2.5.0->tensorflow-text) (4.2.2)\n",
            "Requirement already satisfied: pyasn1-modules>=0.2.1 in /usr/local/lib/python3.7/dist-packages (from google-auth<2,>=1.6.3->tensorboard~=2.5->tensorflow<2.6,>=2.5.0->tensorflow-text) (0.2.8)\n",
            "Requirement already satisfied: rsa<5,>=3.1.4; python_version >= \"3.6\" in /usr/local/lib/python3.7/dist-packages (from google-auth<2,>=1.6.3->tensorboard~=2.5->tensorflow<2.6,>=2.5.0->tensorflow-text) (4.7.2)\n",
            "Requirement already satisfied: requests-oauthlib>=0.7.0 in /usr/local/lib/python3.7/dist-packages (from google-auth-oauthlib<0.5,>=0.4.1->tensorboard~=2.5->tensorflow<2.6,>=2.5.0->tensorflow-text) (1.3.0)\n",
            "Requirement already satisfied: chardet<4,>=3.0.2 in /usr/local/lib/python3.7/dist-packages (from requests<3,>=2.21.0->tensorboard~=2.5->tensorflow<2.6,>=2.5.0->tensorflow-text) (3.0.4)\n",
            "Requirement already satisfied: certifi>=2017.4.17 in /usr/local/lib/python3.7/dist-packages (from requests<3,>=2.21.0->tensorboard~=2.5->tensorflow<2.6,>=2.5.0->tensorflow-text) (2021.5.30)\n",
            "Requirement already satisfied: urllib3!=1.25.0,!=1.25.1,<1.26,>=1.21.1 in /usr/local/lib/python3.7/dist-packages (from requests<3,>=2.21.0->tensorboard~=2.5->tensorflow<2.6,>=2.5.0->tensorflow-text) (1.24.3)\n",
            "Requirement already satisfied: idna<3,>=2.5 in /usr/local/lib/python3.7/dist-packages (from requests<3,>=2.21.0->tensorboard~=2.5->tensorflow<2.6,>=2.5.0->tensorflow-text) (2.10)\n",
            "Requirement already satisfied: zipp>=0.5 in /usr/local/lib/python3.7/dist-packages (from importlib-metadata; python_version < \"3.8\"->markdown>=2.6.8->tensorboard~=2.5->tensorflow<2.6,>=2.5.0->tensorflow-text) (3.4.1)\n",
            "Requirement already satisfied: pyasn1<0.5.0,>=0.4.6 in /usr/local/lib/python3.7/dist-packages (from pyasn1-modules>=0.2.1->google-auth<2,>=1.6.3->tensorboard~=2.5->tensorflow<2.6,>=2.5.0->tensorflow-text) (0.4.8)\n",
            "Requirement already satisfied: oauthlib>=3.0.0 in /usr/local/lib/python3.7/dist-packages (from requests-oauthlib>=0.7.0->google-auth-oauthlib<0.5,>=0.4.1->tensorboard~=2.5->tensorflow<2.6,>=2.5.0->tensorflow-text) (3.1.1)\n"
          ],
          "name": "stdout"
        }
      ]
    },
    {
      "cell_type": "code",
      "metadata": {
        "id": "dGobds8gs9xV"
      },
      "source": [
        "import numpy as np\n",
        "import matplotlib.pyplot as plt\n",
        "from matplotlib import pyplot\n",
        "import seaborn as sns\n",
        "import csv\n",
        "import os\n",
        "import pandas as pd\n",
        "from sklearn.model_selection import train_test_split\n",
        "\n",
        "from tensorflow.keras.preprocessing.sequence import pad_sequences\n",
        "from tensorflow.keras.layers import Embedding, LSTM, Dense, Dropout, Bidirectional\n",
        "from tensorflow.keras.preprocessing.text import Tokenizer\n",
        "from tensorflow.keras.models import Sequential\n",
        "from tensorflow.keras.optimizers import Adam\n",
        "from tensorflow.keras import regularizers\n",
        "from keras import regularizers\n",
        "import tensorflow.keras.utils as ku\n",
        "from tensorflow.keras.utils import to_categorical\n",
        "import tensorflow_hub as hub\n",
        "\n",
        "from sklearn.naive_bayes import MultinomialNB\n",
        "from sklearn.pipeline import Pipeline\n",
        "from sklearn.feature_extraction.text import TfidfTransformer\n",
        "from sklearn.linear_model import SGDClassifier\n",
        "from sklearn.linear_model import LogisticRegression\n",
        "from sklearn.metrics import recall_score, precision_score, f1_score\n",
        "\n",
        "from sklearn.ensemble import RandomForestClassifier\n",
        "from sklearn.preprocessing import StandardScaler\n",
        "from sklearn.metrics import classification_report, confusion_matrix, accuracy_score\n",
        "\n",
        "from sklearn.datasets import make_classification\n",
        "from sklearn.model_selection import cross_val_score\n",
        "from sklearn.model_selection import RepeatedStratifiedKFold\n",
        "from sklearn.ensemble import RandomForestClassifier\n",
        "import matplotlib.pyplot as plt\n",
        "import matplotlib.image as mpimg\n",
        "from sklearn.naive_bayes import MultinomialNB\n",
        "from sklearn.pipeline import Pipeline\n",
        "\n",
        "from sklearn.feature_extraction.text import CountVectorizer\n",
        "\n",
        "#import tensorflow_text as text\n",
        "from official.nlp import optimization  # to create AdamW optimizer\n",
        "\n",
        "from gensim.models import Word2Vec\n",
        "from gensim.models import KeyedVectors\n",
        "\n",
        "\n",
        "import nltk \n",
        "from nltk.corpus import stopwords\n",
        "from nltk.stem.snowball import SnowballStemmer\n",
        "from nltk.tokenize import word_tokenize \n",
        "\n",
        "import tensorflow as tf\n",
        "import random\n",
        "\n",
        "import tensorflow_text as text \n",
        "\n",
        "from official.modeling import tf_utils\n",
        "from official import nlp\n",
        "from official.nlp import bert\n",
        "\n",
        "# Load the required submodules\n",
        "import official.nlp.optimization\n",
        "import official.nlp.bert.bert_models\n",
        "import official.nlp.bert.configs\n",
        "import official.nlp.bert.run_classifier\n",
        "import official.nlp.bert.tokenization\n",
        "import official.nlp.data.classifier_data_lib\n",
        "import official.nlp.modeling.losses\n",
        "import official.nlp.modeling.models\n",
        "import official.nlp.modeling.networks"
      ],
      "execution_count": 448,
      "outputs": []
    },
    {
      "cell_type": "code",
      "metadata": {
        "id": "vR3fbbyfs9xV"
      },
      "source": [
        "#In case of Google Colab run this:\n",
        "#from google.colab import files\n",
        "#uploaded = files.upload()"
      ],
      "execution_count": 449,
      "outputs": []
    },
    {
      "cell_type": "code",
      "metadata": {
        "id": "-tqN0yUK8O5E"
      },
      "source": [
        "import pandas as pd\n",
        "url = 'https://nc.rootnix.de/s/KS7Hkn8Cw4mdCMm/download/data_MailsAndPC_UPDATE.csv'\n",
        "azubi_df = pd.read_csv(url,index_col=0,parse_dates=[0])"
      ],
      "execution_count": 450,
      "outputs": []
    },
    {
      "cell_type": "code",
      "metadata": {
        "id": "1qU6uzHys9xW"
      },
      "source": [
        "#import io\n",
        "#azubi_df = pd.read_csv(io.BytesIO(uploaded['data_MailsAndPC.csv']))"
      ],
      "execution_count": 451,
      "outputs": []
    },
    {
      "cell_type": "code",
      "metadata": {
        "id": "FFzncW_Ouehq"
      },
      "source": [
        "#Global Hyperparameters\n",
        "vocab_size = 3000\n",
        "embedding_dim = 32\n",
        "max_length = 200\n",
        "trunc_type='post'\n",
        "padding_type='post'\n",
        "oov_tok = \"<OOV>\"\n",
        "\n"
      ],
      "execution_count": 452,
      "outputs": []
    },
    {
      "cell_type": "code",
      "metadata": {
        "id": "4NHHGH37vnVz"
      },
      "source": [
        "executionType = 1"
      ],
      "execution_count": 453,
      "outputs": []
    },
    {
      "cell_type": "code",
      "metadata": {
        "id": "HM2nxJkJs9xW"
      },
      "source": [
        "#In case of local github export run this:\n",
        "#DATA_FOLDER = './../data'\n",
        "#AZUBI_DATA = 'data_MailsAndPC.csv'\n",
        "#AZUBI_DATA_CLEANED = 'data_MailsAndPC_cleaned.csv'\n",
        "#azubi_df = pd.read_csv(os.path.join(DATA_FOLDER, AZUBI_DATA))"
      ],
      "execution_count": 454,
      "outputs": []
    },
    {
      "cell_type": "code",
      "metadata": {
        "id": "IfeGAqr4s9xX"
      },
      "source": [
        ""
      ],
      "execution_count": 454,
      "outputs": []
    },
    {
      "cell_type": "markdown",
      "metadata": {
        "id": "lm2kVe3jz61A"
      },
      "source": [
        "# Data Preparation\n"
      ]
    },
    {
      "cell_type": "markdown",
      "metadata": {
        "id": "dCvEwcJz-daw"
      },
      "source": [
        "## Data Preparation Functions"
      ]
    },
    {
      "cell_type": "code",
      "metadata": {
        "id": "7Zm-nnaJQqWN"
      },
      "source": [
        "def selectColumns(azubi_df, mail, item):\n",
        "\n",
        "  azubi_df_selected_columns = azubi_df[[mail,item]]\n",
        "\n",
        "  return azubi_df_selected_columns"
      ],
      "execution_count": 455,
      "outputs": []
    },
    {
      "cell_type": "code",
      "metadata": {
        "id": "253GubJ5s9xZ"
      },
      "source": [
        "def cleanupDataframe(azubi_df, mail, item):\n",
        "    #Remove unneccesary columns\n",
        "    #azubi_df = azubi_df.drop(columns=['Unnamed: 0', 'id'])\n",
        "    #Remove \"cr\". Assumption made, that there are no real words containing cr in the mails.\n",
        "    azubi_df[\"S1_mail\"] = azubi_df[\"S1_mail\"].str.replace(\"cr\", \" \")\n",
        "    azubi_df[\"S2_mail\"] = azubi_df[\"S2_mail\"].str.replace(\"cr\", \" \")\n",
        "    azubi_df[\"S3_mail\"] = azubi_df[\"S3_mail\"].str.replace(\"cr\", \" \")\n",
        "    \n",
        "    azubi_df = selectColumns(azubi_df, mail, item)\n",
        "    #Drop NA rows to only have full datasets\n",
        "    azubi_df = azubi_df.dropna()\n",
        "    #Select all rows without '99' | ~ inverts the operator\n",
        "    dropThisNumber = 99\n",
        "    azubi_df = azubi_df[~azubi_df.eq(dropThisNumber).any(1)]\n",
        "    #Select all rows without '6' | ~ inverts the operator\n",
        "    #dropThisNumber = 6\n",
        "    #azubi_df = azubi_df[~azubi_df.eq(dropThisNumber).any(1)]\n",
        "    #Reset the index of the Dataframe\n",
        "    azubi_df = azubi_df.reset_index(drop=True)\n",
        "    return azubi_df"
      ],
      "execution_count": 456,
      "outputs": []
    },
    {
      "cell_type": "code",
      "metadata": {
        "id": "iNwHseQc2pCV"
      },
      "source": [
        "def trainDevTestSplit_sklearn(X, Y, testSize, randomSeed, stratify):\n",
        "  #Splits by test size into Train / Dev\n",
        "  #Splits dev then 50/50 into dev and Test\n",
        "\n",
        "  if (stratify == True):\n",
        "    xTrain, xDev, yTrain, yDev = train_test_split(X, Y, test_size=testSize,stratify = Y, random_state=randomSeed)\n",
        "  else:\n",
        "    xTrain, xDev, yTrain, yDev = train_test_split(X, Y, test_size=testSize, random_state=randomSeed)\n",
        "\n",
        "  xTest = xDev[:len(xDev)//2]\n",
        "  yTest = yDev[:len(yDev)//2]\n",
        "  \n",
        "  xDev = xDev[len(xDev)//2:]\n",
        "  yDev = yDev[len(yDev)//2:]\n",
        "  #xDev, yDev, xTest, yTest = train_test_split(xDev, yDev, test_size =0.5, random_state = randomSeed)\n",
        "\n",
        "  return xTrain, yTrain, xDev, yDev, xTest, yTest"
      ],
      "execution_count": 457,
      "outputs": []
    },
    {
      "cell_type": "code",
      "metadata": {
        "id": "aLjrs8Ql3ZsB"
      },
      "source": [
        "def tokenizeData(vocab_size, oov_tok, train_sentences, max_length, padding_type, trunc_type):\n",
        "    tokenizer = Tokenizer(num_words = vocab_size, oov_token=oov_tok)\n",
        "    tokenizer.fit_on_texts(train_sentences)\n",
        "   \n",
        "    word_index = tokenizer.word_index\n",
        "    vocab_size=len(word_index)\n",
        "\n",
        "    print(\"Word Index: \\n\")\n",
        "    print(word_index)\n",
        "    \n",
        "    sequences = tokenizer.texts_to_sequences(train_sentences)\n",
        "\n",
        "    print(\"Sequences: \\n\")\n",
        "    print(sequences)\n",
        "    padded = pad_sequences(sequences, maxlen=max_length, padding=padding_type, truncating=trunc_type)\n",
        "\n",
        "    return padded"
      ],
      "execution_count": 458,
      "outputs": []
    },
    {
      "cell_type": "code",
      "metadata": {
        "id": "B_XrQiWFyR3D"
      },
      "source": [
        "def oneHotEncodePreSplit(yTrain, removeZeros):\n",
        "  #a = np.array([1, 0, 3])\n",
        "  #yTrain = yTrain.astype(int)\n",
        "  \n",
        "  print(\"Unique Values:\")\n",
        "  print(np.unique(yTrain))\n",
        "  print(\"\\n\")\n",
        "  yTrainOneHot = tf.keras.utils.to_categorical(yTrain)\n",
        "  print(\"Classes before removing zeros:\")\n",
        "  print(yTrainOneHot)\n",
        "  print(yTrainOneHot.sum(axis=0))\n",
        "  print(\"\\n\")\n",
        "\n",
        "  if (removeZeros == True):\n",
        "    yTrainOneHot = yTrainOneHot[:,~np.all(yTrainOneHot == 0, axis = 0)]\n",
        "  print(\"Classes after removing zeros:\")\n",
        "  print(yTrainOneHot)\n",
        "  print(yTrainOneHot.sum(axis=0))\n",
        "  print(\"\\n\")\n",
        "\n",
        "  return yTrainOneHot"
      ],
      "execution_count": 459,
      "outputs": []
    },
    {
      "cell_type": "code",
      "metadata": {
        "id": "lXudDjuNRXo1"
      },
      "source": [
        "def makeListSelectedColumns(azubi_df, mail, score):\n",
        "  #Sentence S1\n",
        "  mailSentences = azubi_df[mail].tolist()\n",
        "  #Labels S1\n",
        "  scoreLabels = azubi_df[score].tolist()\n",
        "\n",
        "  return mailSentences, scoreLabels"
      ],
      "execution_count": 460,
      "outputs": []
    },
    {
      "cell_type": "markdown",
      "metadata": {
        "id": "RkFz6t2qQUOn"
      },
      "source": [
        "## Stop Words\n"
      ]
    },
    {
      "cell_type": "code",
      "metadata": {
        "id": "VMlPtbzIUoTH"
      },
      "source": [
        "#stopwords\n",
        "def removeStopWordsSelectedColumns(azubi_df_cleaned, mail):\n",
        "\n",
        "  nltk.download('punkt')\n",
        "  nltk.download('stopwords')\n",
        "\n",
        "  stemmer = SnowballStemmer(\"german\")\n",
        "  stop_words = set(stopwords.words(\"german\"))\n",
        "  #stop_words.add('Meier')\n",
        "  #stop_words.add('Neumann')\n",
        "\n",
        "  azubi_df_cleaned_no_stopwords = pd.DataFrame()\n",
        "\n",
        "  pat = r'\\b(?:{})\\b'.format('|'.join(stop_words))\n",
        "  azubi_df_cleaned[mail] = azubi_df_cleaned[mail].str.replace(pat, '')\n",
        "  azubi_df_cleaned[mail] = azubi_df_cleaned[mail].str.replace(r'\\s+', ' ')\n",
        "\n",
        "  return azubi_df_cleaned\n",
        "\n",
        "#allerdings Wörter wie \"nicht\" enthalten"
      ],
      "execution_count": 461,
      "outputs": []
    },
    {
      "cell_type": "markdown",
      "metadata": {
        "id": "GqY5lr_m28HI"
      },
      "source": [
        "## Show Model Performance"
      ]
    },
    {
      "cell_type": "code",
      "metadata": {
        "id": "p5nwd0d726iw"
      },
      "source": [
        "def showModelPerformance(history, string):\n",
        "    plt.plot(history.history[string])\n",
        "    plt.plot(history.history['val_'+string])\n",
        "    plt.xlabel(\"Epochs\")\n",
        "    plt.ylabel(string)\n",
        "    plt.title('Random Forest Model')\n",
        "    plt.legend([string, 'val_'+string])\n",
        "    plt.show()\n",
        "\n",
        "    return"
      ],
      "execution_count": 462,
      "outputs": []
    },
    {
      "cell_type": "markdown",
      "metadata": {
        "id": "wT2uSeoc2JfL"
      },
      "source": [
        "## Execute Data Preparation\n",
        "\n"
      ]
    },
    {
      "cell_type": "markdown",
      "metadata": {
        "id": "b1o5IhvFEhdq"
      },
      "source": [
        "## Combine all mails for a4s2_combined_i2b score\n",
        "\n"
      ]
    },
    {
      "cell_type": "code",
      "metadata": {
        "id": "2fY2PLulBOQ6"
      },
      "source": [
        "#Create new dataframe\n",
        "azubi_df_mails_and_scored_combined = pd.DataFrame(columns=[\"Mails_Combined\", \"a4s_combined_i2b\"])\n",
        "#Use cleanup function to select the correct data from the dataframe\n",
        "azubi_df_mail1 = cleanupDataframe(azubi_df, 'S1_mail', 'a4s1i2b')\n",
        "azubi_df_mail2 = cleanupDataframe(azubi_df, 'S2_mail', 'a4s2i2b')\n",
        "azubi_df_mail3 = cleanupDataframe(azubi_df, 'S3_mail', 'a4s3i2b')"
      ],
      "execution_count": 463,
      "outputs": []
    },
    {
      "cell_type": "code",
      "metadata": {
        "id": "W_3-vjNKCJTk"
      },
      "source": [
        "#Rename the columns\n",
        "azubi_df_mail1_renamed = azubi_df_mail1.rename(columns={\"S1_mail\": \"Mails_Combined\", \"a4s1i2b\": \"a4s_combined_i2b\"})\n",
        "azubi_df_mail2_renamed = azubi_df_mail2.rename(columns={\"S2_mail\": \"Mails_Combined\", \"a4s2i2b\": \"a4s_combined_i2b\"})\n",
        "azubi_df_mail3_renamed = azubi_df_mail3.rename(columns={\"S3_mail\": \"Mails_Combined\", \"a4s3i2b\": \"a4s_combined_i2b\"})"
      ],
      "execution_count": 464,
      "outputs": []
    },
    {
      "cell_type": "code",
      "metadata": {
        "id": "4hdbd12mCv0f"
      },
      "source": [
        "#Append the renamed columns, ignore index so it is appended at the end\n",
        "azubi_df_mails_and_scored_combined = azubi_df_mails_and_scored_combined.append(azubi_df_mail1_renamed, ignore_index=True)\n",
        "azubi_df_mails_and_scored_combined = azubi_df_mails_and_scored_combined.append(azubi_df_mail2_renamed, ignore_index=True)\n",
        "azubi_df_mails_and_scored_combined = azubi_df_mails_and_scored_combined.append(azubi_df_mail3_renamed, ignore_index=True)"
      ],
      "execution_count": 465,
      "outputs": []
    },
    {
      "cell_type": "code",
      "metadata": {
        "id": "78LqLIZjC5zb"
      },
      "source": [
        "azubi_df_mails_and_scored_combined = azubi_df_mails_and_scored_combined[azubi_df_mails_and_scored_combined.a4s_combined_i2b != 9.0]\n",
        "azubi_df_mails_and_scored_combined = azubi_df_mails_and_scored_combined[azubi_df_mails_and_scored_combined.a4s_combined_i2b != 2.0]\n",
        "azubi_df_mails_and_scored_combined = azubi_df_mails_and_scored_combined.reset_index()"
      ],
      "execution_count": 466,
      "outputs": []
    },
    {
      "cell_type": "code",
      "metadata": {
        "id": "TAjvQ3lw3vif",
        "colab": {
          "base_uri": "https://localhost:8080/",
          "height": 36
        },
        "outputId": "7fa01f11-40c2-4302-d267-f196682df375"
      },
      "source": [
        "azubi_df_mails_and_scored_combined['Mails_Combined'][2]"
      ],
      "execution_count": 467,
      "outputs": [
        {
          "output_type": "execute_result",
          "data": {
            "application/vnd.google.colaboratory.intrinsic+json": {
              "type": "string"
            },
            "text/plain": [
              "'bitte kommen Sie rüber und erklären mir es selbst'"
            ]
          },
          "metadata": {
            "tags": []
          },
          "execution_count": 467
        }
      ]
    },
    {
      "cell_type": "code",
      "metadata": {
        "id": "iaoTEgisESHp",
        "colab": {
          "base_uri": "https://localhost:8080/"
        },
        "outputId": "7487a2d8-ed17-4298-b5b9-5f1e04921534"
      },
      "source": [
        "azubi_df_mails_and_scored_combined['a4s_combined_i2b']"
      ],
      "execution_count": 468,
      "outputs": [
        {
          "output_type": "execute_result",
          "data": {
            "text/plain": [
              "0       1.0\n",
              "1       1.0\n",
              "2       0.0\n",
              "3       1.0\n",
              "4       1.0\n",
              "       ... \n",
              "2082    0.0\n",
              "2083    1.0\n",
              "2084    1.0\n",
              "2085    1.0\n",
              "2086    1.0\n",
              "Name: a4s_combined_i2b, Length: 2087, dtype: float64"
            ]
          },
          "metadata": {
            "tags": []
          },
          "execution_count": 468
        }
      ]
    },
    {
      "cell_type": "code",
      "metadata": {
        "id": "BltN2QS78Tdc",
        "colab": {
          "base_uri": "https://localhost:8080/",
          "height": 424
        },
        "outputId": "35d18e39-b704-4159-fe40-d30c0025fd6c"
      },
      "source": [
        "azubi_df_mails_and_scored_combined"
      ],
      "execution_count": 469,
      "outputs": [
        {
          "output_type": "execute_result",
          "data": {
            "text/html": [
              "<div>\n",
              "<style scoped>\n",
              "    .dataframe tbody tr th:only-of-type {\n",
              "        vertical-align: middle;\n",
              "    }\n",
              "\n",
              "    .dataframe tbody tr th {\n",
              "        vertical-align: top;\n",
              "    }\n",
              "\n",
              "    .dataframe thead th {\n",
              "        text-align: right;\n",
              "    }\n",
              "</style>\n",
              "<table border=\"1\" class=\"dataframe\">\n",
              "  <thead>\n",
              "    <tr style=\"text-align: right;\">\n",
              "      <th></th>\n",
              "      <th>index</th>\n",
              "      <th>Mails_Combined</th>\n",
              "      <th>a4s_combined_i2b</th>\n",
              "    </tr>\n",
              "  </thead>\n",
              "  <tbody>\n",
              "    <tr>\n",
              "      <th>0</th>\n",
              "      <td>0</td>\n",
              "      <td>Hallo Fr. Meier,  leider konnte ich die von Ih...</td>\n",
              "      <td>1.0</td>\n",
              "    </tr>\n",
              "    <tr>\n",
              "      <th>1</th>\n",
              "      <td>1</td>\n",
              "      <td>Ihre Antwort...   Der EP Plan weicht viel zuse...</td>\n",
              "      <td>1.0</td>\n",
              "    </tr>\n",
              "    <tr>\n",
              "      <th>2</th>\n",
              "      <td>2</td>\n",
              "      <td>bitte kommen Sie rüber und erklären mir es selbst</td>\n",
              "      <td>0.0</td>\n",
              "    </tr>\n",
              "    <tr>\n",
              "      <th>3</th>\n",
              "      <td>3</td>\n",
              "      <td>Sehr geehrte Frau Meier,  leider konnte Ich Ih...</td>\n",
              "      <td>1.0</td>\n",
              "    </tr>\n",
              "    <tr>\n",
              "      <th>4</th>\n",
              "      <td>5</td>\n",
              "      <td>Hallo Frau Meier,  das Controlling hat für das...</td>\n",
              "      <td>1.0</td>\n",
              "    </tr>\n",
              "    <tr>\n",
              "      <th>...</th>\n",
              "      <td>...</td>\n",
              "      <td>...</td>\n",
              "      <td>...</td>\n",
              "    </tr>\n",
              "    <tr>\n",
              "      <th>2082</th>\n",
              "      <td>2135</td>\n",
              "      <td>Hallo Herr Neumann,  gerne würde ich Ihnen mei...</td>\n",
              "      <td>0.0</td>\n",
              "    </tr>\n",
              "    <tr>\n",
              "      <th>2083</th>\n",
              "      <td>2136</td>\n",
              "      <td>Hallo Herr Neumann,  leider konnte ich aus der...</td>\n",
              "      <td>1.0</td>\n",
              "    </tr>\n",
              "    <tr>\n",
              "      <th>2084</th>\n",
              "      <td>2137</td>\n",
              "      <td>Ihre Antwort...  Guten Tag Herr Neumann,  leid...</td>\n",
              "      <td>1.0</td>\n",
              "    </tr>\n",
              "    <tr>\n",
              "      <th>2085</th>\n",
              "      <td>2138</td>\n",
              "      <td>Guten Tag Herr Neumann,  hier die beiden Liste...</td>\n",
              "      <td>1.0</td>\n",
              "    </tr>\n",
              "    <tr>\n",
              "      <th>2086</th>\n",
              "      <td>2139</td>\n",
              "      <td>Hallo Herr Neumann,  anbei die ausfüllten Tabe...</td>\n",
              "      <td>1.0</td>\n",
              "    </tr>\n",
              "  </tbody>\n",
              "</table>\n",
              "<p>2087 rows × 3 columns</p>\n",
              "</div>"
            ],
            "text/plain": [
              "      index  ... a4s_combined_i2b\n",
              "0         0  ...              1.0\n",
              "1         1  ...              1.0\n",
              "2         2  ...              0.0\n",
              "3         3  ...              1.0\n",
              "4         5  ...              1.0\n",
              "...     ...  ...              ...\n",
              "2082   2135  ...              0.0\n",
              "2083   2136  ...              1.0\n",
              "2084   2137  ...              1.0\n",
              "2085   2138  ...              1.0\n",
              "2086   2139  ...              1.0\n",
              "\n",
              "[2087 rows x 3 columns]"
            ]
          },
          "metadata": {
            "tags": []
          },
          "execution_count": 469
        }
      ]
    },
    {
      "cell_type": "markdown",
      "metadata": {
        "id": "XW2NGDIXg9Zh"
      },
      "source": [
        "### Selected Columns Scores"
      ]
    },
    {
      "cell_type": "code",
      "metadata": {
        "id": "yvdbiU3MRJH-"
      },
      "source": [
        "def prepareDataSelectedColumns(azubi_df, mail, score, doCleanup, paddedOutput, word2vec): \n",
        "  #Prepare the data\n",
        "  if doCleanup == True:\n",
        "    azubi_df_cleaned = cleanupDataframe(azubi_df, mail, score)\n",
        "  else:\n",
        "    azubi_df_cleaned = azubi_df\n",
        "  #print(azubi_df_cleaned[score][9])\n",
        "\n",
        "  #Remove Stop words\n",
        "  #azubi_df_cleaned_no_stopwords = removeStopWordsSelectedColumns(azubi_df_cleaned, mail)\n",
        "  mailSentences, scoreLabels = makeListSelectedColumns(azubi_df_cleaned, mail, score)\n",
        "  print(len(mailSentences))\n",
        "  print(len(scoreLabels))\n",
        "\n",
        "  yTrainOneHot = oneHotEncodePreSplit(np.array(scoreLabels), True)\n",
        "\n",
        "  if paddedOutput == True and word2vec == False:\n",
        "    print(\"Padded Output True\")\n",
        "    padded = tokenizeData(vocab_size, oov_tok, mailSentences, max_length, padding_type, trunc_type)\n",
        "    xTrain, yTrain, xVal, yVal, xTest, yTest = trainDevTestSplit_sklearn(padded, yTrainOneHot, 0.1, 42, False)\n",
        "  elif word2vec == True and paddedOutput == False:\n",
        "    padded = word2vecTokenizer(mailSentences, glove_vectors)\n",
        "    print(padded)\n",
        "  else:\n",
        "    xTrain, yTrain, xVal, yVal, xTest, yTest = trainDevTestSplit_sklearn(mailSentences, yTrainOneHot, 0.4, 42, False)\n",
        "\n",
        "  xTrainArray = xTrain#np.array(xTrain)\n",
        "  yTrainArray = yTrain#np.array(yTrain)\n",
        "\n",
        "\n",
        "  xValArray = xVal#np.array(xVal)\n",
        "  yValArray = yVal#np.array(yVal)\n",
        "\n",
        "\n",
        "  xTestArray = xTest#np.array(xTest)\n",
        "  yTestArray = yTest#np.array(yTest)\n",
        "  print(len(xTrainArray))\n",
        "  print(len(yTrainArray))\n",
        "  print(len(xValArray))\n",
        "  print(len(yValArray))\n",
        "  print(len(xTestArray))\n",
        "  print(len(yTestArray))\n",
        "\n",
        "\n",
        "  return xTrainArray, yTrainArray, xValArray, yValArray, xTestArray, yTestArray, azubi_df_cleaned\n"
      ],
      "execution_count": 470,
      "outputs": []
    },
    {
      "cell_type": "code",
      "metadata": {
        "id": "Cwbmv5MJ79OJ"
      },
      "source": [
        "#xTrainArray"
      ],
      "execution_count": 471,
      "outputs": []
    },
    {
      "cell_type": "code",
      "metadata": {
        "colab": {
          "base_uri": "https://localhost:8080/"
        },
        "id": "AB1YDw5ZS83B",
        "outputId": "0ca40177-1388-4748-9bb7-37523f2ffa30"
      },
      "source": [
        "xTrainArray, yTrainArray, xValArray, yValArray, xTestArray, yTestArray, azubi_df_cleaned_no_stopwords = prepareDataSelectedColumns(azubi_df_mails_and_scored_combined, 'Mails_Combined', 'a4s_combined_i2b', False, False, False)"
      ],
      "execution_count": 472,
      "outputs": [
        {
          "output_type": "stream",
          "text": [
            "2087\n",
            "2087\n",
            "Unique Values:\n",
            "[0. 1.]\n",
            "\n",
            "\n",
            "Classes before removing zeros:\n",
            "[[0. 1.]\n",
            " [0. 1.]\n",
            " [1. 0.]\n",
            " ...\n",
            " [0. 1.]\n",
            " [0. 1.]\n",
            " [0. 1.]]\n",
            "[ 146. 1941.]\n",
            "\n",
            "\n",
            "Classes after removing zeros:\n",
            "[[0. 1.]\n",
            " [0. 1.]\n",
            " [1. 0.]\n",
            " ...\n",
            " [0. 1.]\n",
            " [0. 1.]\n",
            " [0. 1.]]\n",
            "[ 146. 1941.]\n",
            "\n",
            "\n",
            "1252\n",
            "1252\n",
            "418\n",
            "418\n",
            "417\n",
            "417\n"
          ],
          "name": "stdout"
        }
      ]
    },
    {
      "cell_type": "code",
      "metadata": {
        "colab": {
          "base_uri": "https://localhost:8080/"
        },
        "id": "ZrP4YZ4mw2bp",
        "outputId": "7b6afd37-375b-42cd-8dbe-3a8402ba1334"
      },
      "source": [
        "xTrainArray2, yTrainArray2, xValArray2, yValArray2, xTestArray2, yTestArray2, azubi_df_cleaned_no_stopwords2 = prepareDataSelectedColumns(azubi_df, 'S2_mail', 'a4s2i2b', True,  False, False)"
      ],
      "execution_count": 473,
      "outputs": [
        {
          "output_type": "stream",
          "text": [
            "725\n",
            "725\n",
            "Unique Values:\n",
            "[0. 1. 2. 9.]\n",
            "\n",
            "\n",
            "Classes before removing zeros:\n",
            "[[1. 0. 0. ... 0. 0. 0.]\n",
            " [0. 1. 0. ... 0. 0. 0.]\n",
            " [0. 1. 0. ... 0. 0. 0.]\n",
            " ...\n",
            " [0. 1. 0. ... 0. 0. 0.]\n",
            " [0. 1. 0. ... 0. 0. 0.]\n",
            " [0. 1. 0. ... 0. 0. 0.]]\n",
            "[ 38. 666.   1.   0.   0.   0.   0.   0.   0.  20.]\n",
            "\n",
            "\n",
            "Classes after removing zeros:\n",
            "[[1. 0. 0. 0.]\n",
            " [0. 1. 0. 0.]\n",
            " [0. 1. 0. 0.]\n",
            " ...\n",
            " [0. 1. 0. 0.]\n",
            " [0. 1. 0. 0.]\n",
            " [0. 1. 0. 0.]]\n",
            "[ 38. 666.   1.  20.]\n",
            "\n",
            "\n",
            "435\n",
            "435\n",
            "145\n",
            "145\n",
            "145\n",
            "145\n"
          ],
          "name": "stdout"
        }
      ]
    },
    {
      "cell_type": "code",
      "metadata": {
        "id": "E-G6cvVenIvA"
      },
      "source": [
        "#only for a4s2i2b\n",
        "#yTrainArray = np.delete(yTrainArray, 2, 1)\n",
        "#yTrainArray = np.delete(yTrainArray, 2, 1)\n",
        "\n",
        "#yValArray = np.delete(yValArray, 2, 1)\n",
        "#yValArray = np.delete(yValArray, 2, 1)\n",
        "\n",
        "#yTestArray = np.delete(yTestArray, 2, 1)\n",
        "#yTestArray = np.delete(yTestArray, 2, 1)"
      ],
      "execution_count": 474,
      "outputs": []
    },
    {
      "cell_type": "code",
      "metadata": {
        "colab": {
          "base_uri": "https://localhost:8080/"
        },
        "id": "fIuVyHM6dswP",
        "outputId": "b0f3c4db-1a9b-41b9-8202-756bc7312436"
      },
      "source": [
        "yTrainArray.sum(axis=0)"
      ],
      "execution_count": 475,
      "outputs": [
        {
          "output_type": "execute_result",
          "data": {
            "text/plain": [
              "array([  87., 1165.], dtype=float32)"
            ]
          },
          "metadata": {
            "tags": []
          },
          "execution_count": 475
        }
      ]
    },
    {
      "cell_type": "code",
      "metadata": {
        "colab": {
          "base_uri": "https://localhost:8080/"
        },
        "id": "LJlA2Rm1d4Gt",
        "outputId": "bb183dbc-e2dc-4144-9ad2-2455c9519376"
      },
      "source": [
        "yValArray.sum(axis=0)"
      ],
      "execution_count": 476,
      "outputs": [
        {
          "output_type": "execute_result",
          "data": {
            "text/plain": [
              "array([ 33., 385.], dtype=float32)"
            ]
          },
          "metadata": {
            "tags": []
          },
          "execution_count": 476
        }
      ]
    },
    {
      "cell_type": "code",
      "metadata": {
        "colab": {
          "base_uri": "https://localhost:8080/"
        },
        "id": "CHNKE5odd4cC",
        "outputId": "2513ad16-8766-4da7-ed00-84eb2bf59c8d"
      },
      "source": [
        "yTestArray.sum(axis=0)"
      ],
      "execution_count": 477,
      "outputs": [
        {
          "output_type": "execute_result",
          "data": {
            "text/plain": [
              "array([ 26., 391.], dtype=float32)"
            ]
          },
          "metadata": {
            "tags": []
          },
          "execution_count": 477
        }
      ]
    },
    {
      "cell_type": "code",
      "metadata": {
        "colab": {
          "base_uri": "https://localhost:8080/"
        },
        "id": "9CfS1_yCgi9U",
        "outputId": "7d50647e-ab49-4ab9-eeb5-09bfc5fafd1b"
      },
      "source": [
        "pd.set_option('display.max_rows', azubi_df.shape[0]+1)\n",
        "azubi_df['a4s1i2b'].unique()"
      ],
      "execution_count": 478,
      "outputs": [
        {
          "output_type": "execute_result",
          "data": {
            "text/plain": [
              "array([ 1.,  0.,  9., nan])"
            ]
          },
          "metadata": {
            "tags": []
          },
          "execution_count": 478
        }
      ]
    },
    {
      "cell_type": "markdown",
      "metadata": {
        "id": "zc-W0br9St45"
      },
      "source": [
        "### Sum Scores Data"
      ]
    },
    {
      "cell_type": "code",
      "metadata": {
        "id": "GwSqeUqH2MFL"
      },
      "source": [
        "def prepareDataSumScores(azubi_df, mail, score, paddedOutput): \n",
        "  #Prepare the data\n",
        "  azubi_df_cleaned = cleanupDataframe(azubi_df)\n",
        "  print(azubi_df_cleaned['S1_mail'][5])\n",
        "\n",
        "  #Remove Stop words\n",
        "  azubi_df_cleaned_no_stopwords = removeStopWords(azubi_df_cleaned)\n",
        "\n",
        "  azubi_df_list , s1MailSentences, s1MailA3Labels, s1MailA4Labels, s2MailSentences, s2MailA3Labels, s2MailA4Labels, s3MailSentences, s3MailA3Labels, s3MailA4Labels = makeList(azubi_df_cleaned_no_stopwords)\n",
        "\n",
        "  if (mail == 'S1'):\n",
        "    if (score == 'A3'):\n",
        "      yTrainOneHot,yTrainOneHotNoZeros = oneHotEncodePreSplit(np.array(s1MailA3Labels), False)\n",
        "    elif (score == 'A4'):\n",
        "      yTrainOneHot,yTrainOneHotNoZeros = oneHotEncodePreSplit(np.array(s1MailA4Labels), False)\n",
        "    \n",
        "    if (paddedOutput == True):\n",
        "      padded = tokenizeData(vocab_size, oov_tok, s1MailSentences, max_length, padding_type, trunc_type)\n",
        "      xTrain, yTrain, xVal, yVal, xTest, yTest = trainDevTestSplit_sklearn(padded, yTrainOneHot, 0.1, 42, False)\n",
        "    elif (paddedOutput == False):\n",
        "      xTrain, yTrain, xVal, yVal, xTest, yTest = trainDevTestSplit_sklearn(s1MailSentences, yTrainOneHot, 0.4, 42, False)\n",
        "  elif (mail == 'S2'):\n",
        "    if (score == 'A3'):\n",
        "      yTrainOneHot,yTrainOneHotNoZeros = oneHotEncodePreSplit(np.array(s2MailA3Labels), False)\n",
        "    elif (score == 'A4'):\n",
        "      yTrainOneHot,yTrainOneHotNoZeros = oneHotEncodePreSplit(np.array(s2MailA4Labels), False)\n",
        "    \n",
        "    if (paddedOutput == True):\n",
        "      padded = tokenizeData(vocab_size, oov_tok, s2MailSentences, max_length, padding_type, trunc_type)\n",
        "      xTrain, yTrain, xVal, yVal, xTest, yTest = trainDevTestSplit_sklearn(padded, yTrainOneHot, 0.1, 42, False)\n",
        "    elif (paddedOutput == False):\n",
        "      xTrain, yTrain, xVal, yVal, xTest, yTest = trainDevTestSplit_sklearn(s2MailSentences, yTrainOneHot, 0.4, 42, False)\n",
        "    \n",
        "  elif (mail == 'S3'):\n",
        "    if (score == 'A3'):\n",
        "      yTrainOneHot,yTrainOneHotNoZeros = oneHotEncodePreSplit(np.array(s3MailA3Labels), False)\n",
        "    elif (score == 'A4'):\n",
        "      yTrainOneHot,yTrainOneHotNoZeros = oneHotEncodePreSplit(np.array(s3MailA4Labels), False)\n",
        "\n",
        "    if (paddedOutput == True):\n",
        "      padded = tokenizeData(vocab_size, oov_tok, s3MailSentences, max_length, padding_type, trunc_type)\n",
        "      xTrain, yTrain, xVal, yVal, xTest, yTest = trainDevTestSplit_sklearn(padded, yTrainOneHot, 0.1, 42, False)\n",
        "    elif (paddedOutput == False):\n",
        "      xTrain, yTrain, xVal, yVal, xTest, yTest = trainDevTestSplit_sklearn(s3MailSentences, yTrainOneHot, 0.4, 42, False)\n",
        "\n",
        "  else:\n",
        "    print('Select S1, S2 or S3 as mail and A3 or A4 as score')\n",
        "\n",
        "    \n",
        "  \n",
        "\n",
        "\n",
        "  #train_padded = tokenizeData(vocab_size, oov_tok, xTrain, max_length, padding_type, trunc_type)\n",
        "  #validation_padded = tokenizeData_val(xVal, max_length, padding_type)\n",
        "  #test_padded = tokenizeData_val(xTest, max_length, padding_type)\n",
        "\n",
        "  train_padded = np.array(xTrain)\n",
        "  yTrain = np.array(yTrain)\n",
        "  #yTrainOneHot = yTrain\n",
        "  #yTrain = np.reshape(yTrain, (yTrain.shape[0], 1))\n",
        "\n",
        "  validation_padded = np.array(xVal)\n",
        "  yVal = np.array(yVal)\n",
        "  #yValOneHot = yVal\n",
        "  #yVal = np.reshape(yVal, (yVal.shape[0], 1))\n",
        "\n",
        "  test_padded = np.array(xTest)\n",
        "  yTest = np.array(yTest)\n",
        "  #yTestOneHot = yTest\n",
        "\n",
        "  return train_padded, validation_padded, test_padded, yTrain, yVal, yTest\n",
        "\n",
        "  #yTest = np.reshape(yTest, (yTest.shape[0], 1))\n",
        "\n",
        "  #yTrainOneHot, yValOneHot, yTestOneHot, yTrainOneHotNoZeros, yValOneHotNoZeros, yTestOneHotNoZeros = oneHotEncodeAlternative(yTrain, yVal, yTest, False)"
      ],
      "execution_count": 479,
      "outputs": []
    },
    {
      "cell_type": "code",
      "metadata": {
        "id": "zMwsseDWjNQz"
      },
      "source": [
        "#train_padded_sum, validation_padded_sum, test_padded_sum, yTrain_padded_sum, yVal_padded_sum, yTest_padded_sum = prepareDataSumScores(azubi_df, 'S1', 'A4', True)"
      ],
      "execution_count": 480,
      "outputs": []
    },
    {
      "cell_type": "code",
      "metadata": {
        "id": "zI2IakehAEoo"
      },
      "source": [
        "#train_sum, validation_sum, test_sum, yTrain_sum, yVal_sum, yTest_sum = prepareDataSumScores(azubi_df, 'S1', 'A4', False)"
      ],
      "execution_count": 481,
      "outputs": []
    },
    {
      "cell_type": "markdown",
      "metadata": {
        "id": "zUs3UIAtjF40"
      },
      "source": [
        "### Currently not needed"
      ]
    },
    {
      "cell_type": "code",
      "metadata": {
        "id": "WV0p4MkcFrC5"
      },
      "source": [
        "if (executionType == 2):    \n",
        "  #Prepare the data\n",
        "  azubi_df_cleaned = cleanupDataframeGetSingleClass(azubi_df, 0, 'a3s1')\n",
        "\n",
        "  #Remove Stop words\n",
        "  azubi_df_cleaned_no_stopwords = removeStopWords(azubi_df_cleaned)\n",
        "\n",
        "  azubi_df_list , s1MailSentences, s1MailA3Labels, s1MailA4Labels, s2MailSentences, s2MailA3Labels, s2MailA4Labels, s3MailSentences, s3MailA3Labels, s3MailA4Labels = makeList(azubi_df_cleaned_no_stopwords)\n",
        "  xTrain, yTrain, xVal, yVal, xTest, yTest = trainDevTestSplit_sklearn(s1MailSentences, s1MailA3Labels, 0.4, 42, True)\n",
        "\n",
        "  train_padded = tokenizeData(vocab_size, oov_tok, xTrain, max_length, padding_type, trunc_type)\n",
        "  validation_padded = tokenizeData_val(xVal, max_length, padding_type)\n",
        "  test_padded = tokenizeData_val(xTest, max_length, padding_type)\n",
        "\n",
        "  train_padded = np.array(train_padded)\n",
        "  yTrain = np.array(yTrain)\n",
        "  yTrain = np.reshape(yTrain, (yTrain.shape[0], 1))\n",
        "\n",
        "  validation_padded = np.array(validation_padded)\n",
        "  yVal = np.array(yVal)\n",
        "  yVal = np.reshape(yVal, (yVal.shape[0], 1))\n",
        "\n",
        "  test_padded = np.array(test_padded)\n",
        "  yTest = np.array(yTest)\n",
        "  yTest = np.reshape(yTest, (yTest.shape[0], 1))\n",
        "\n",
        "  yTrainOneHot,yValOneHot,yTestOneHot = oneHotEncode(yTrain, yVal, yTest, True)"
      ],
      "execution_count": 482,
      "outputs": []
    },
    {
      "cell_type": "markdown",
      "metadata": {
        "id": "fKXx615VjItY"
      },
      "source": [
        "### Single scores data"
      ]
    },
    {
      "cell_type": "code",
      "metadata": {
        "id": "FZy46pqjndUS"
      },
      "source": [
        "def prepareDataSingleScores(azubi_df, mail, score):\n",
        "  #Prepare the data\n",
        "  azubi_df_cleaned = cleanupDataframe(azubi_df)\n",
        "\n",
        "  #Remove Stop words\n",
        "  azubi_df_cleaned_no_stopwords = removeStopWords(azubi_df_cleaned)\n",
        "\n",
        "  azubi_df_list , s1MailSentences, s1Maila3s1i1a, s1Maila3s1i1b, s1Maila3s1i2a, s1Maila3s1i2b, s1Maila3s1i2c = makeListSubscores(azubi_df_cleaned_no_stopwords)\n",
        "  xTrain, yTrain, xVal, yVal, xTest, yTest = trainDevTestSplit_sklearn(s1MailSentences, s1Maila3s1i1a, 0.4, 42, False)\n",
        "\n",
        "  if (mail == 'S1'):\n",
        "    if (score == 'a3s1i1a'):\n",
        "      yTrainOneHot,yTrainOneHotNoZeros = oneHotEncodePreSplit(np.array(s1Maila3s1i1a), True)\n",
        "    elif (score == 'a3s1i1b'):\n",
        "      yTrainOneHot,yTrainOneHotNoZeros = oneHotEncodePreSplit(np.array(s1Maila3s1i1b), True)\n",
        "    elif (score == 'a3s1i2a'):\n",
        "      yTrainOneHot,yTrainOneHotNoZeros = oneHotEncodePreSplit(np.array(s1Maila3s1i2a), True)\n",
        "    elif (score == 'a3s1i2b'):\n",
        "      yTrainOneHot,yTrainOneHotNoZeros = oneHotEncodePreSplit(np.array(s1Maila3s1i2b), True)\n",
        "    elif (score == 'a3s1i2c'):\n",
        "      yTrainOneHot,yTrainOneHotNoZeros = oneHotEncodePreSplit(np.array(s1Maila3s1i2c), True)\n",
        "  \n",
        "    xTrain, yTrain, xVal, yVal, xTest, yTest = trainDevTestSplit_sklearn(s1MailSentences, yTrainOneHotNoZeros, 0.4, 42, False)\n",
        "\n",
        "  train_padded = tokenizeData(vocab_size, oov_tok, xTrain, max_length, padding_type, trunc_type)\n",
        "  validation_padded = tokenizeData_val(xVal, max_length, padding_type)\n",
        "  test_padded = tokenizeData_val(xTest, max_length, padding_type)\n",
        "\n",
        "  train_padded = np.array(train_padded)\n",
        "  yTrain = np.array(yTrain)\n",
        "  #yTrain = np.reshape(yTrain, (yTrain.shape[0], 1))\n",
        "\n",
        "  validation_padded = np.array(validation_padded)\n",
        "  yVal = np.array(yVal)\n",
        "  #yVal = np.reshape(yVal, (yVal.shape[0], 1))\n",
        "\n",
        "  test_padded = np.array(test_padded)\n",
        "  yTest = np.array(yTest)\n",
        "  #yTest = np.reshape(yTest, (yTest.shape[0], 1))\n",
        "\n",
        "  #yTrainOneHot, yValOneHot, yTestOneHot, yTrainOneHotNoZeros, yValOneHotNoZeros, yTestOneHotNoZeros = oneHotEncodeAlternative(yTrain, yVal, yTest)\n",
        "\n",
        "  return train_padded, validation_padded, test_padded, yTrain, yVal, yTest, xTrain, yTrain, xVal"
      ],
      "execution_count": 483,
      "outputs": []
    },
    {
      "cell_type": "code",
      "metadata": {
        "id": "YGE2DHkdseCj"
      },
      "source": [
        "#train_padded_single, validation_padded_single, test_padded_single, yTrain_single, yVal_single, yTest_single, xTrain_single, yTrain_single, xVal_single = prepareDataSingleScores(azubi_df, 'S1', 'a3s1i1b')"
      ],
      "execution_count": 484,
      "outputs": []
    },
    {
      "cell_type": "code",
      "metadata": {
        "id": "GhviE7NGmq45"
      },
      "source": [
        ""
      ],
      "execution_count": 484,
      "outputs": []
    },
    {
      "cell_type": "markdown",
      "metadata": {
        "id": "tWc73CUEbB3O"
      },
      "source": [
        "# Transfer Learning\n"
      ]
    },
    {
      "cell_type": "markdown",
      "metadata": {
        "id": "EhQ_iEeMDQdH"
      },
      "source": [
        "# preparation"
      ]
    },
    {
      "cell_type": "markdown",
      "metadata": {
        "id": "PRxc1PdRvJCZ"
      },
      "source": [
        "Sources i used to create and understand word2vec:\n"
      ]
    },
    {
      "cell_type": "code",
      "metadata": {
        "id": "B_Xk8HYm8viJ"
      },
      "source": [
        "#Word2vec approach. We followed a mix out of several turoials:\n",
        "#    https://radimrehurek.com/gensim/auto_examples/tutorials/run_word2vec.html\n",
        "#    https://discuss.huggingface.co/t/generate-raw-word-embeddings-using-transformer-models-like-bert-for-downstream-process/2958\n",
        "#    https://towardsdatascience.com/text-classification-with-nlp-tf-idf-vs-word2vec-vs-bert-41ff868d1794\n",
        "#    https://phdstatsphys.wordpress.com/2018/12/27/word2vec-how-to-train-and-update-it/"
      ],
      "execution_count": 485,
      "outputs": []
    },
    {
      "cell_type": "markdown",
      "metadata": {
        "id": "NBWZEgbwvbPT"
      },
      "source": [
        "Import, especially gensin and gensim.downloader for word2vec"
      ]
    },
    {
      "cell_type": "code",
      "metadata": {
        "id": "Lz9tCOQo9CCk",
        "colab": {
          "base_uri": "https://localhost:8080/"
        },
        "outputId": "991a10af-4492-4642-bf22-ada9d258a98f"
      },
      "source": [
        "## for data\n",
        "import json\n",
        "import pandas as pd\n",
        "import numpy as np\n",
        "## for plotting\n",
        "import matplotlib.pyplot as plt\n",
        "import seaborn as sns\n",
        "## for processing\n",
        "import re\n",
        "import nltk\n",
        "## for bag-of-words\n",
        "from sklearn import feature_extraction, model_selection, naive_bayes, pipeline, manifold, preprocessing\n",
        "## for explainer\n",
        "!pip install lime\n",
        "from lime import lime_text\n",
        "## for word embedding\n",
        "import gensim\n",
        "import gensim.downloader as gensim_api\n",
        "## for deep learning\n",
        "from tensorflow.keras import models, layers, preprocessing as kprocessing\n",
        "from tensorflow.keras import backend as K\n",
        "## for bert language model\n",
        "#!pip install transformer\n",
        "#from transformer"
      ],
      "execution_count": 486,
      "outputs": [
        {
          "output_type": "stream",
          "text": [
            "Requirement already satisfied: lime in /usr/local/lib/python3.7/dist-packages (0.2.0.1)\n",
            "Requirement already satisfied: scikit-image>=0.12 in /usr/local/lib/python3.7/dist-packages (from lime) (0.16.2)\n",
            "Requirement already satisfied: matplotlib in /usr/local/lib/python3.7/dist-packages (from lime) (3.2.2)\n",
            "Requirement already satisfied: scikit-learn>=0.18 in /usr/local/lib/python3.7/dist-packages (from lime) (0.22.2.post1)\n",
            "Requirement already satisfied: numpy in /usr/local/lib/python3.7/dist-packages (from lime) (1.19.5)\n",
            "Requirement already satisfied: tqdm in /usr/local/lib/python3.7/dist-packages (from lime) (4.41.1)\n",
            "Requirement already satisfied: scipy in /usr/local/lib/python3.7/dist-packages (from lime) (1.4.1)\n",
            "Requirement already satisfied: pillow>=4.3.0 in /usr/local/lib/python3.7/dist-packages (from scikit-image>=0.12->lime) (7.1.2)\n",
            "Requirement already satisfied: PyWavelets>=0.4.0 in /usr/local/lib/python3.7/dist-packages (from scikit-image>=0.12->lime) (1.1.1)\n",
            "Requirement already satisfied: imageio>=2.3.0 in /usr/local/lib/python3.7/dist-packages (from scikit-image>=0.12->lime) (2.4.1)\n",
            "Requirement already satisfied: networkx>=2.0 in /usr/local/lib/python3.7/dist-packages (from scikit-image>=0.12->lime) (2.5.1)\n",
            "Requirement already satisfied: pyparsing!=2.0.4,!=2.1.2,!=2.1.6,>=2.0.1 in /usr/local/lib/python3.7/dist-packages (from matplotlib->lime) (2.4.7)\n",
            "Requirement already satisfied: python-dateutil>=2.1 in /usr/local/lib/python3.7/dist-packages (from matplotlib->lime) (2.8.1)\n",
            "Requirement already satisfied: cycler>=0.10 in /usr/local/lib/python3.7/dist-packages (from matplotlib->lime) (0.10.0)\n",
            "Requirement already satisfied: kiwisolver>=1.0.1 in /usr/local/lib/python3.7/dist-packages (from matplotlib->lime) (1.3.1)\n",
            "Requirement already satisfied: joblib>=0.11 in /usr/local/lib/python3.7/dist-packages (from scikit-learn>=0.18->lime) (1.0.1)\n",
            "Requirement already satisfied: decorator<5,>=4.3 in /usr/local/lib/python3.7/dist-packages (from networkx>=2.0->scikit-image>=0.12->lime) (4.4.2)\n",
            "Requirement already satisfied: six>=1.5 in /usr/local/lib/python3.7/dist-packages (from python-dateutil>=2.1->matplotlib->lime) (1.15.0)\n"
          ],
          "name": "stdout"
        }
      ]
    },
    {
      "cell_type": "markdown",
      "metadata": {
        "id": "iDR33jzfvipv"
      },
      "source": [
        "As always, take a look at the data first to ensure everything is all right"
      ]
    },
    {
      "cell_type": "code",
      "metadata": {
        "id": "iABfsxDK9SvI",
        "colab": {
          "base_uri": "https://localhost:8080/",
          "height": 363
        },
        "outputId": "e2b2533b-87d3-4a9b-b27f-eb26d88b8c50"
      },
      "source": [
        "azubi_df_mails_and_scored_combined.sample(10)"
      ],
      "execution_count": 487,
      "outputs": [
        {
          "output_type": "execute_result",
          "data": {
            "text/html": [
              "<div>\n",
              "<style scoped>\n",
              "    .dataframe tbody tr th:only-of-type {\n",
              "        vertical-align: middle;\n",
              "    }\n",
              "\n",
              "    .dataframe tbody tr th {\n",
              "        vertical-align: top;\n",
              "    }\n",
              "\n",
              "    .dataframe thead th {\n",
              "        text-align: right;\n",
              "    }\n",
              "</style>\n",
              "<table border=\"1\" class=\"dataframe\">\n",
              "  <thead>\n",
              "    <tr style=\"text-align: right;\">\n",
              "      <th></th>\n",
              "      <th>index</th>\n",
              "      <th>Mails_Combined</th>\n",
              "      <th>a4s_combined_i2b</th>\n",
              "    </tr>\n",
              "  </thead>\n",
              "  <tbody>\n",
              "    <tr>\n",
              "      <th>239</th>\n",
              "      <td>248</td>\n",
              "      <td>Sehr geehrter Frau Meier,   ich möchte Sie nic...</td>\n",
              "      <td>1.0</td>\n",
              "    </tr>\n",
              "    <tr>\n",
              "      <th>747</th>\n",
              "      <td>770</td>\n",
              "      <td>Hallo Herr Neumann,  die bearbeitete Datei ist...</td>\n",
              "      <td>1.0</td>\n",
              "    </tr>\n",
              "    <tr>\n",
              "      <th>1947</th>\n",
              "      <td>2000</td>\n",
              "      <td>Hallo Herr Neumann,  im Anhang befinden sich d...</td>\n",
              "      <td>1.0</td>\n",
              "    </tr>\n",
              "    <tr>\n",
              "      <th>586</th>\n",
              "      <td>604</td>\n",
              "      <td>Servus,  Hier die Tabelle.  Gruß der Boss</td>\n",
              "      <td>0.0</td>\n",
              "    </tr>\n",
              "    <tr>\n",
              "      <th>499</th>\n",
              "      <td>515</td>\n",
              "      <td>Hallo Frau Meier,  leider komme ich nicht weit...</td>\n",
              "      <td>1.0</td>\n",
              "    </tr>\n",
              "    <tr>\n",
              "      <th>773</th>\n",
              "      <td>796</td>\n",
              "      <td>Hallo Herr Neumann,  in Angang finden Sie die ...</td>\n",
              "      <td>1.0</td>\n",
              "    </tr>\n",
              "    <tr>\n",
              "      <th>426</th>\n",
              "      <td>439</td>\n",
              "      <td>Hallo Frau Meier,  anbei sende ich Ihnen die ü...</td>\n",
              "      <td>1.0</td>\n",
              "    </tr>\n",
              "    <tr>\n",
              "      <th>1869</th>\n",
              "      <td>1922</td>\n",
              "      <td>Hallo Neumi ,  alles klar du?  Im Anhang hab i...</td>\n",
              "      <td>0.0</td>\n",
              "    </tr>\n",
              "    <tr>\n",
              "      <th>1007</th>\n",
              "      <td>1040</td>\n",
              "      <td>Hallo Herr Neumann,  danke, das Sie mich in di...</td>\n",
              "      <td>1.0</td>\n",
              "    </tr>\n",
              "    <tr>\n",
              "      <th>381</th>\n",
              "      <td>393</td>\n",
              "      <td>Sehr geehrte Frau Meier,  es tut mir wirklich ...</td>\n",
              "      <td>1.0</td>\n",
              "    </tr>\n",
              "  </tbody>\n",
              "</table>\n",
              "</div>"
            ],
            "text/plain": [
              "      index  ... a4s_combined_i2b\n",
              "239     248  ...              1.0\n",
              "747     770  ...              1.0\n",
              "1947   2000  ...              1.0\n",
              "586     604  ...              0.0\n",
              "499     515  ...              1.0\n",
              "773     796  ...              1.0\n",
              "426     439  ...              1.0\n",
              "1869   1922  ...              0.0\n",
              "1007   1040  ...              1.0\n",
              "381     393  ...              1.0\n",
              "\n",
              "[10 rows x 3 columns]"
            ]
          },
          "metadata": {
            "tags": []
          },
          "execution_count": 487
        }
      ]
    },
    {
      "cell_type": "markdown",
      "metadata": {
        "id": "S2NdVFnuvnbA"
      },
      "source": [
        "And we also want to make sure our data set is balanced. Which is not the case. Thus, we include weights later in the model."
      ]
    },
    {
      "cell_type": "code",
      "metadata": {
        "id": "BevGZsl-9WXD",
        "colab": {
          "base_uri": "https://localhost:8080/",
          "height": 294
        },
        "outputId": "f4bb81b0-bf73-4dac-c308-27b6e7469e3e"
      },
      "source": [
        "fig, ax = plt.subplots()\n",
        "fig.suptitle(\"count\", fontsize=12)\n",
        "azubi_df_mails_and_scored_combined[\"a4s_combined_i2b\"].reset_index().groupby(\"a4s_combined_i2b\").count().sort_values(by= \n",
        "       \"index\").plot(kind=\"barh\", legend=False, \n",
        "        ax=ax).grid(axis='x')\n",
        "plt.show()"
      ],
      "execution_count": 488,
      "outputs": [
        {
          "output_type": "display_data",
          "data": {
            "image/png": "[encoded data removed]",
            "text/plain": [
              "<Figure size 432x288 with 1 Axes>"
            ]
          },
          "metadata": {
            "tags": [],
            "needs_background": "light"
          }
        }
      ]
    },
    {
      "cell_type": "markdown",
      "metadata": {
        "id": "TeI5OUUJv0Lk"
      },
      "source": [
        "And we split the data into train and test set. A validation set will be splitted seperately."
      ]
    },
    {
      "cell_type": "code",
      "metadata": {
        "id": "ACP3DkQh9ay6"
      },
      "source": [
        "## split dataset\n",
        "dtf_train, dtf_test = model_selection.train_test_split(azubi_df_cleaned_no_stopwords, test_size=0.3)## get target\n",
        "y_train = dtf_train[\"a4s_combined_i2b\"].values\n",
        "y_test = dtf_test[\"a4s_combined_i2b\"].values"
      ],
      "execution_count": 489,
      "outputs": []
    },
    {
      "cell_type": "markdown",
      "metadata": {
        "id": "o8PPmugt9-Ux"
      },
      "source": [
        "# word2vec"
      ]
    },
    {
      "cell_type": "markdown",
      "metadata": {
        "id": "v87T-zvAv3f7"
      },
      "source": [
        "Here we start with word2vec and this might take some time so here are some facts about word2vec: \n",
        "\n",
        "The word2vec tool takes a text corpus as input and produces the word vectors as output. It first constructs a vocabulary from the training text data and then learns vector representation of words. The resulting word vector file can be used as features in many natural language processing and machine learning applications.\n",
        "\n",
        "(more info: https://code.google.com/archive/p/word2vec/)"
      ]
    },
    {
      "cell_type": "code",
      "metadata": {
        "id": "RrteU-xt-Cbm"
      },
      "source": [
        "# download word2vec takes 10 min\n",
        "#we could use this word2vec pretrained model by using this line of code, but instead we wanted to make a word2vec embedding with our own corpus, because word2vec wasn't trained with business mails\n",
        "# nlp = gensim_api.load(\"word2vec-google-news-300\") "
      ],
      "execution_count": 490,
      "outputs": []
    },
    {
      "cell_type": "markdown",
      "metadata": {
        "id": "z9vQrKNOwPqx"
      },
      "source": [
        "Lets use word2vec with our corpus. We define unigrams here to determine polite word sequences. The functions we use are part of gensim, so this is rather easy."
      ]
    },
    {
      "cell_type": "code",
      "metadata": {
        "id": "4J7iw1d8-HHF"
      },
      "source": [
        "corpus =  dtf_train[\"Mails_Combined\"]\n",
        "## create list of lists of unigrams (#Sehr)\n",
        "lst_corpus = []\n",
        "for string in corpus:\n",
        "   lst_words = string.split()\n",
        "   lst_grams = [\" \".join(lst_words[i:i+1]) \n",
        "               for i in range(0, len(lst_words), 1)]\n",
        "   lst_corpus.append(lst_grams)\n",
        "## detect bigrams (#Sehr geehrter) and trigrams (#Sehr geehrte:r Herr:Frau)\n",
        "bigrams_detector = gensim.models.phrases.Phrases(lst_corpus, \n",
        "                 delimiter=\" \".encode(), min_count=5, threshold=10)\n",
        "bigrams_detector = gensim.models.phrases.Phraser(bigrams_detector)\n",
        "trigrams_detector = gensim.models.phrases.Phrases(bigrams_detector[lst_corpus], \n",
        "            delimiter=\" \".encode(), min_count=5, threshold=10)\n",
        "trigrams_detector = gensim.models.phrases.Phraser(trigrams_detector)\n",
        "\n"
      ],
      "execution_count": 491,
      "outputs": []
    },
    {
      "cell_type": "markdown",
      "metadata": {
        "id": "O2HC1uJbwgpT"
      },
      "source": [
        "This is crucial now. We determine the setup to create polite word embedding vectors.\n",
        "- target size = of the word vectors\n",
        "- window = is the maximum distance between the current and predicted word within a mail\n",
        "- sg = training algorithm we  use skip-grams (sg=1) as it was used in the tutorial and this should also in general lead to the best results in most cases\n",
        "- iter = number of iterations"
      ]
    },
    {
      "cell_type": "code",
      "metadata": {
        "id": "0DeKTzAh-XU5"
      },
      "source": [
        "#word2vec setup\n",
        "#play with size=300, window = 8? mean lenght?\n",
        "# target size, mean length window of distance, and sgram 1: has proven robust \n",
        "nlp = gensim.models.word2vec.Word2Vec(lst_corpus, size=300,   \n",
        "            window=5, min_count=3, sg=1, iter=30)\n",
        "\n"
      ],
      "execution_count": 492,
      "outputs": []
    },
    {
      "cell_type": "markdown",
      "metadata": {
        "id": "JGC_PGASzfqb"
      },
      "source": [
        "How is our word embedding shaped? It is a 1 dimensional 50 array. Lets take a closer look:"
      ]
    },
    {
      "cell_type": "code",
      "metadata": {
        "id": "tvgZ7UMH-oGC",
        "colab": {
          "base_uri": "https://localhost:8080/"
        },
        "outputId": "d1e627fc-34ff-4e03-f5de-eba20ebcde12"
      },
      "source": [
        "word = \"freundlichen\"\n",
        "nlp[word].shape"
      ],
      "execution_count": 493,
      "outputs": [
        {
          "output_type": "stream",
          "text": [
            "/usr/local/lib/python3.7/dist-packages/ipykernel_launcher.py:2: DeprecationWarning: Call to deprecated `__getitem__` (Method will be removed in 4.0.0, use self.wv.__getitem__() instead).\n",
            "  \n"
          ],
          "name": "stderr"
        },
        {
          "output_type": "execute_result",
          "data": {
            "text/plain": [
              "(300,)"
            ]
          },
          "metadata": {
            "tags": []
          },
          "execution_count": 493
        }
      ]
    },
    {
      "cell_type": "markdown",
      "metadata": {
        "id": "Zle-LzZCzpAA"
      },
      "source": [
        "And this is actually the vector space. Cool Hmm? Test it for yourself if you like to play with..."
      ]
    },
    {
      "cell_type": "code",
      "metadata": {
        "colab": {
          "base_uri": "https://localhost:8080/"
        },
        "id": "rR5dB8iRzL6O",
        "outputId": "3323fe2e-6cc8-468f-913d-1e1f0c64c975"
      },
      "source": [
        "nlp[word]"
      ],
      "execution_count": 494,
      "outputs": [
        {
          "output_type": "stream",
          "text": [
            "/usr/local/lib/python3.7/dist-packages/ipykernel_launcher.py:1: DeprecationWarning: Call to deprecated `__getitem__` (Method will be removed in 4.0.0, use self.wv.__getitem__() instead).\n",
            "  \"\"\"Entry point for launching an IPython kernel.\n"
          ],
          "name": "stderr"
        },
        {
          "output_type": "execute_result",
          "data": {
            "text/plain": [
              "array([-0.3240863 ,  0.4785589 , -0.11547601,  0.7307972 , -0.28708264,\n",
              "        0.0210297 ,  0.05366279, -0.04049633,  0.40896362, -0.00374104,\n",
              "       -0.1381456 ,  0.38668117, -0.11121905, -0.00773707,  0.30516794,\n",
              "       -0.18702917, -0.0505514 ,  0.05308989, -0.05575079, -0.01063831,\n",
              "        0.10554952, -0.12481941,  0.12057262,  0.59855044, -0.1406521 ,\n",
              "       -0.1806016 ,  0.5589563 , -0.26697055, -0.3921832 ,  0.08528683,\n",
              "        0.00732548, -0.6114965 , -0.15808375,  0.26690254, -0.04392993,\n",
              "        0.41026178,  0.07223306,  0.07307627, -0.49127278,  0.03682881,\n",
              "        0.0242748 , -0.07810225,  0.1194987 , -0.34858134, -0.4299004 ,\n",
              "        0.01461215,  0.3064066 , -0.07555825, -0.11133344,  0.03829439,\n",
              "       -0.4397034 , -0.20938534,  0.07495375, -0.3099312 ,  0.02627572,\n",
              "        0.00651161,  0.10936158,  0.35466903, -0.20649172,  0.20769148,\n",
              "        0.16942982,  0.1983963 ,  0.04368992,  0.25675553, -0.10875254,\n",
              "       -0.26558006,  0.14257434, -0.03736839,  0.04191426, -0.01083357,\n",
              "       -0.06768297, -0.08498264, -0.44332084,  0.0614261 , -0.1753065 ,\n",
              "       -0.33426678, -0.41973653,  0.30080044,  0.06675084,  0.48395535,\n",
              "        0.11517959, -0.17362349, -0.13389848,  0.08138373,  0.19310491,\n",
              "       -0.19657506,  0.15699442, -0.12655511, -0.17842405, -0.13034329,\n",
              "       -0.15432632,  0.483813  , -0.15555432, -0.12752885,  0.0491664 ,\n",
              "       -0.2721184 ,  0.01030538,  0.03010899,  0.37274688, -0.01159904,\n",
              "        0.13144736,  0.05506321, -0.00226378,  0.15163709,  0.25683025,\n",
              "       -0.45067573, -0.47740602,  0.09924354, -0.19488095,  0.46707043,\n",
              "       -0.1814331 ,  0.6548329 ,  0.01028147, -0.15203921, -0.05595254,\n",
              "       -0.24532038, -0.32485148, -0.05406126, -0.06096922,  0.3366129 ,\n",
              "        0.43406355, -0.00929135,  0.09715034, -0.13031563, -0.03535251,\n",
              "       -0.35797673, -0.08006078,  0.00476348,  0.00162786,  0.0905474 ,\n",
              "       -0.17650503,  0.06109207,  0.4647255 , -0.06586551, -0.1915465 ,\n",
              "        0.03585572,  0.26965865, -0.49687496, -0.2579642 ,  0.41161644,\n",
              "       -0.24697976, -0.33617753, -0.13290498,  0.48330218,  0.2205219 ,\n",
              "        0.23841286,  0.09228643, -0.0614767 ,  0.17533754,  0.10663357,\n",
              "        0.00334917,  0.07472564, -0.04134218, -0.07647246,  0.20088823,\n",
              "       -0.34257802,  0.15288912, -0.10523788, -0.09679546, -0.4241308 ,\n",
              "        0.4909635 ,  0.07639419, -0.22784147, -0.47125122, -0.4749277 ,\n",
              "        0.16898125, -0.05364845,  0.4541033 ,  0.008927  ,  0.06419741,\n",
              "       -0.1883303 ,  0.08157109,  0.37707037, -0.12478724, -0.12412751,\n",
              "       -0.01674541, -0.17577761,  0.30210352, -0.34270015,  0.07143812,\n",
              "       -0.36643603, -0.19125465,  0.4502824 , -0.01830437, -0.09767941,\n",
              "        0.21525085, -0.45679772, -0.05261074, -0.22001195,  0.3271367 ,\n",
              "       -0.10901453,  0.14643437,  0.12399242, -0.14208539, -0.49178153,\n",
              "       -0.08199412, -0.4797389 ,  0.05330252, -0.04699854,  0.24721672,\n",
              "        0.0556604 , -0.08489479, -0.16187756, -0.14831463, -0.05896594,\n",
              "       -0.14951582, -0.13554384, -0.09371752, -0.39707536,  0.21069665,\n",
              "        0.11896693, -0.19075704, -0.23224577, -0.09524494, -0.18676338,\n",
              "       -0.3363739 ,  0.32731393,  0.15370986, -0.19665451,  0.08613741,\n",
              "        0.4136233 ,  0.05563773,  0.08473118,  0.3936317 , -0.07051795,\n",
              "       -0.11035465, -0.45219937,  0.21267393,  0.29974774, -0.2904189 ,\n",
              "        0.10467671,  0.47865173,  0.2336712 , -0.50249344, -0.15861563,\n",
              "        0.28967026,  0.30091164, -0.22411054, -0.37697676, -0.17461608,\n",
              "       -0.02378731,  0.5200265 , -0.08458648,  0.12211742, -0.2244548 ,\n",
              "        0.01821583,  0.00820034, -0.25468263,  0.01941435,  0.21933387,\n",
              "       -0.10178363, -0.0680427 ,  0.26535532, -0.0212539 , -0.03356724,\n",
              "        0.23815195,  0.3277212 ,  0.5607489 , -0.2486168 , -0.09817287,\n",
              "        0.32902402, -0.10353763, -0.10300849,  0.22606432,  0.00519894,\n",
              "        0.11834661, -0.26928622,  0.19312946,  0.11612901, -0.00409361,\n",
              "        0.07510579, -0.07240532,  0.06013806, -0.07134265, -0.19706133,\n",
              "       -0.02266997, -0.08103148, -0.05919523, -0.10384167,  0.22079588,\n",
              "        0.1830905 , -0.1022474 ,  0.04422238,  0.1258816 , -0.2749244 ,\n",
              "       -0.21747105,  0.11554893,  0.04436256,  0.11478449,  0.04744082,\n",
              "       -0.12538788,  0.5608338 , -0.22043899,  0.13282792, -0.01887088,\n",
              "       -0.00116323, -0.03340088,  0.10873594, -0.1757284 , -0.2650212 ],\n",
              "      dtype=float32)"
            ]
          },
          "metadata": {
            "tags": []
          },
          "execution_count": 494
        }
      ]
    },
    {
      "cell_type": "markdown",
      "metadata": {
        "id": "9HtQcl3qzwcD"
      },
      "source": [
        "We can even print this in in 3d space with related words..."
      ]
    },
    {
      "cell_type": "code",
      "metadata": {
        "colab": {
          "base_uri": "https://localhost:8080/",
          "height": 413
        },
        "id": "YRevGKcn00KO",
        "outputId": "6caaf2d3-14d4-4059-cf90-0d4fe35d9b96"
      },
      "source": [
        "word = word\n",
        "fig = plt.figure()## word embedding\n",
        "tot_words = [word] + [tupla[0] for tupla in \n",
        "                 nlp.most_similar(word, topn=20)]\n",
        "X = nlp[tot_words]## pca to reduce dimensionality from 300 to 3\n",
        "pca = manifold.TSNE(perplexity=40, n_components=3, init='pca')\n",
        "X = pca.fit_transform(X)## create dtf\n",
        "dtf_ = pd.DataFrame(X, index=tot_words, columns=[\"x\",\"y\",\"z\"])\n",
        "dtf_[\"input\"] = 0\n",
        "dtf_[\"input\"].iloc[0:1] = 1## plot 3d\n",
        "from mpl_toolkits.mplot3d import Axes3D\n",
        "ax = fig.add_subplot(111, projection='3d')\n",
        "ax.scatter(dtf_[dtf_[\"input\"]==0]['x'], \n",
        "           dtf_[dtf_[\"input\"]==0]['y'], \n",
        "           dtf_[dtf_[\"input\"]==0]['z'], c=\"black\")\n",
        "ax.scatter(dtf_[dtf_[\"input\"]==1]['x'], \n",
        "           dtf_[dtf_[\"input\"]==1]['y'], \n",
        "           dtf_[dtf_[\"input\"]==1]['z'], c=\"red\")\n",
        "ax.set(xlabel=None, ylabel=None, zlabel=None, xticklabels=[], \n",
        "       yticklabels=[], zticklabels=[])\n",
        "for label, row in dtf_[[\"x\",\"y\",\"z\"]].iterrows():\n",
        "    x, y, z = row\n",
        "    ax.text(x, y, z, s=label)"
      ],
      "execution_count": 495,
      "outputs": [
        {
          "output_type": "stream",
          "text": [
            "/usr/local/lib/python3.7/dist-packages/ipykernel_launcher.py:4: DeprecationWarning: Call to deprecated `most_similar` (Method will be removed in 4.0.0, use self.wv.most_similar() instead).\n",
            "  after removing the cwd from sys.path.\n",
            "/usr/local/lib/python3.7/dist-packages/ipykernel_launcher.py:5: DeprecationWarning: Call to deprecated `__getitem__` (Method will be removed in 4.0.0, use self.wv.__getitem__() instead).\n",
            "  \"\"\"\n",
            "/usr/local/lib/python3.7/dist-packages/pandas/core/indexing.py:670: SettingWithCopyWarning: \n",
            "A value is trying to be set on a copy of a slice from a DataFrame\n",
            "\n",
            "See the caveats in the documentation: https://pandas.pydata.org/pandas-docs/stable/user_guide/indexing.html#returning-a-view-versus-a-copy\n",
            "  iloc._setitem_with_indexer(indexer, value)\n"
          ],
          "name": "stderr"
        },
        {
          "output_type": "display_data",
          "data": {
            "image/png": "[encoded data removed]",
            "text/plain": [
              "<Figure size 432x288 with 1 Axes>"
            ]
          },
          "metadata": {
            "tags": [],
            "needs_background": "light"
          }
        }
      ]
    },
    {
      "cell_type": "markdown",
      "metadata": {
        "id": "qn3wMYrp-u5r"
      },
      "source": [
        "note: maybe we can add here a download buttom to upload these files in this cool tensorflow showcase for word embeddings\n",
        "shortcoming: need to be lowercased, thus might not be appropriate to measure politeness in german, e.g. Sie vs. sie / Ihre vs ihre"
      ]
    },
    {
      "cell_type": "markdown",
      "metadata": {
        "id": "DBaTS7m91h-8"
      },
      "source": [
        "Ok, lets use our created embeddings by transforming this corpus to the Word2Vec into a list of sequences using tensorflow/keras and pad.sequences.\n"
      ]
    },
    {
      "cell_type": "code",
      "metadata": {
        "id": "ixp_Jlmn-6_P"
      },
      "source": [
        "## tokenize text\n",
        "tokenizer = kprocessing.text.Tokenizer(lower=True, split=' ', \n",
        "                     oov_token=\"NaN\", \n",
        "                     filters='!\"#$%&()*+,-./:;<=>?@[\\\\]^_`{|}~\\t\\n')\n",
        "tokenizer.fit_on_texts(lst_corpus)\n",
        "dic_vocabulary = tokenizer.word_index\n",
        "\n",
        "## create sequence\n",
        "lst_text2seq= tokenizer.texts_to_sequences(lst_corpus)\n",
        "\n",
        "## padding sequence\n",
        "X_train = kprocessing.sequence.pad_sequences(lst_text2seq, \n",
        "                    maxlen=200, padding=\"post\", truncating=\"post\") #need to think about maxlen"
      ],
      "execution_count": 496,
      "outputs": []
    },
    {
      "cell_type": "markdown",
      "metadata": {
        "id": "3iH87Hb31_nX"
      },
      "source": [
        "How does our features look like? We see here a feature map where we see that some mails contains more features (black) than others."
      ]
    },
    {
      "cell_type": "code",
      "metadata": {
        "id": "LIIO2aPi-9nY",
        "colab": {
          "base_uri": "https://localhost:8080/",
          "height": 278
        },
        "outputId": "58c052d3-2975-4cd8-e365-15177dd61005"
      },
      "source": [
        "sns.heatmap(X_train==0, vmin=0, vmax=1, cbar=False)\n",
        "plt.show()\n",
        "#feature matrixy visual x * 120"
      ],
      "execution_count": 497,
      "outputs": [
        {
          "output_type": "display_data",
          "data": {
            "image/png": "[encoded data removed]",
            "text/plain": [
              "<Figure size 432x288 with 1 Axes>"
            ]
          },
          "metadata": {
            "tags": [],
            "needs_background": "light"
          }
        }
      ]
    },
    {
      "cell_type": "markdown",
      "metadata": {
        "id": "Mgp0iiC228Az"
      },
      "source": [
        "this is optional and it throws errors when it comes to the dict, due to missing words in the dict... maybe caused by lowercased words?"
      ]
    },
    {
      "cell_type": "code",
      "metadata": {
        "id": "tG5mpsFK_Ast",
        "colab": {
          "base_uri": "https://localhost:8080/"
        },
        "outputId": "feb9eff7-6f56-4c27-f4a5-010e87d4baf6"
      },
      "source": [
        "i = 10\n",
        "\n",
        "# list of text: [\"I like this\", ...]\n",
        "len_txt = len(dtf_train[\"Mails_Combined\"].iloc[i].split())\n",
        "print(\"from: \", dtf_train[\"Mails_Combined\"].iloc[i], \"| len:\", len_txt)\n",
        "\n",
        "# sequence of token ids: [[1, 2, 3], ...]\n",
        "len_tokens = len(X_train[i])\n",
        "print(\"to: \", X_train[i], \"| len:\", len(X_train[i]))\n",
        "\n",
        "# vocabulary: {\"I\":1, \"like\":2, \"this\":3, ...}\n",
        "print(\"check: \", dtf_train[\"Mails_Combined\"].iloc[i].split()[0], \n",
        "      \" -- idx in vocabulary -->\", )\n",
        "      #dic_vocabulary[dtf_train[\"Mails_Combined\"].iloc[i].split()[0]]) # <---- this is the error\n",
        "\n",
        "print(\"vocabulary: \", dict(list(dic_vocabulary.items())[0:10]), \"... (padding element, 0)\")"
      ],
      "execution_count": 498,
      "outputs": [
        {
          "output_type": "stream",
          "text": [
            "from:  Guten Tag Frau Meier,  vielen Dank für Ihre Mail. In Anbetracht der kurzen Zeit habe ich stets mein Bestes gegeben Ihre Datei der  Deckugsbeitragsrechung zu bearbeiten. Leider konnte ich nicht für alle Positionen eine Erklärung finden,  weshalb die Preise teilweise stark abgewichen sind von den kalkulierten. Ich habe im Notizblock einige  Kommentare eingegeben für Positonen, wo die Preise stark abgewichen sind. Die Hauptursachen dafür  waren zunächst Eilbestellungen, Preisänderungen durch neuere Modelle und Mengenrabatte.   Freundliche Grü | len: 75\n",
            "to:  [ 100  135   35   42  155  216   16   99 1043   11 1426    4  299   57\n",
            "   20    2 1880  146  464  579   99  154    4 4468    7  335   28   52\n",
            "    2    8   16  142  487   29 1279 1619  706    3  147  465  636 1881\n",
            "   54   22   12 4469    2   20   36 4470  223 4471 4472   16 4473  510\n",
            "    3  147  636 1881  194    3 4474  234  376  787 4475 2271  122 4476\n",
            " 2272    5 1882  213 4477    0    0    0    0    0    0    0    0    0\n",
            "    0    0    0    0    0    0    0    0    0    0    0    0    0    0\n",
            "    0    0    0    0    0    0    0    0    0    0    0    0    0    0\n",
            "    0    0    0    0    0    0    0    0    0    0    0    0    0    0\n",
            "    0    0    0    0    0    0    0    0    0    0    0    0    0    0\n",
            "    0    0    0    0    0    0    0    0    0    0    0    0    0    0\n",
            "    0    0    0    0    0    0    0    0    0    0    0    0    0    0\n",
            "    0    0    0    0    0    0    0    0    0    0    0    0    0    0\n",
            "    0    0    0    0    0    0    0    0    0    0    0    0    0    0\n",
            "    0    0    0    0] | len: 200\n",
            "check:  Guten  -- idx in vocabulary -->\n",
            "vocabulary:  {'NaN': 1, 'ich': 2, 'die': 3, 'der': 4, 'und': 5, 'mit': 6, 'zu': 7, 'nicht': 8, 'wir': 9, 'hallo': 10} ... (padding element, 0)\n"
          ],
          "name": "stdout"
        }
      ]
    },
    {
      "cell_type": "markdown",
      "metadata": {
        "id": "S9V4DZcK4574"
      },
      "source": [
        "We then \"engineer\" the same features on the test set too!"
      ]
    },
    {
      "cell_type": "code",
      "metadata": {
        "id": "I6b_H1Lh_FOY"
      },
      "source": [
        "### do some engineering\n",
        "corpus = dtf_test[\"Mails_Combined\"]\n",
        "## create list of n-grams\n",
        "lst_corpus = []\n",
        "for string in corpus:\n",
        "    lst_words = string.split()\n",
        "    lst_grams = [\" \".join(lst_words[i:i+1]) for i in range(0, \n",
        "                 len(lst_words), 1)]\n",
        "    lst_corpus.append(lst_grams)\n",
        "    ## detect common bigrams and trigrams using the fitted detectors\n",
        "lst_corpus = list(bigrams_detector[lst_corpus])\n",
        "lst_corpus = list(trigrams_detector[lst_corpus])\n",
        "## text to sequence with the fitted tokenizer\n",
        "lst_text2seq = tokenizer.texts_to_sequences(lst_corpus)\n",
        "## padding sequence\n",
        "X_test = kprocessing.sequence.pad_sequences(lst_text2seq, maxlen=200,\n",
        "             padding=\"post\", truncating=\"post\")"
      ],
      "execution_count": 499,
      "outputs": []
    },
    {
      "cell_type": "markdown",
      "metadata": {
        "id": "OxSJvtn25XvA"
      },
      "source": [
        "And now we create the matrix of embeddings that will be used as a weight matrix in the neural network classifier."
      ]
    },
    {
      "cell_type": "code",
      "metadata": {
        "id": "-lj7yHfD_Hvx",
        "colab": {
          "base_uri": "https://localhost:8080/"
        },
        "outputId": "0cd3afef-b55d-4ea6-c8f6-cf50a8dc4248"
      },
      "source": [
        "## start the matrix (length of vocabulary x vector size) with all 0s\n",
        "embeddings = np.zeros((len(dic_vocabulary)+1, 300))\n",
        "\n",
        "for word,idx in dic_vocabulary.items():\n",
        "    ## update the row with vector\n",
        "    try:\n",
        "        embeddings[idx] =  nlp[word]\n",
        "    ## if word not in model then skip and the row stays all 0s\n",
        "    except:\n",
        "        pass"
      ],
      "execution_count": 500,
      "outputs": [
        {
          "output_type": "stream",
          "text": [
            "/usr/local/lib/python3.7/dist-packages/ipykernel_launcher.py:7: DeprecationWarning: Call to deprecated `__getitem__` (Method will be removed in 4.0.0, use self.wv.__getitem__() instead).\n",
            "  import sys\n"
          ],
          "name": "stderr"
        }
      ]
    },
    {
      "cell_type": "markdown",
      "metadata": {
        "id": "RX-n5b3W5u75"
      },
      "source": [
        "just a final check to see if everything is all right"
      ]
    },
    {
      "cell_type": "code",
      "metadata": {
        "id": "N336OJ9B_K0K",
        "colab": {
          "base_uri": "https://localhost:8080/"
        },
        "outputId": "f0c4b71c-d5a8-4e47-b868-fd49b8d176bc"
      },
      "source": [
        "word = \"freundlichen\"\n",
        "print(\"dic[word]:\", dic_vocabulary[word], \"|idx\")\n",
        "print(\"embeddings[idx]:\", embeddings[dic_vocabulary[word]].shape, \n",
        "      \"|vector\")"
      ],
      "execution_count": 501,
      "outputs": [
        {
          "output_type": "stream",
          "text": [
            "dic[word]: 21 |idx\n",
            "embeddings[idx]: (300,) |vector\n"
          ],
          "name": "stdout"
        }
      ]
    },
    {
      "cell_type": "markdown",
      "metadata": {
        "id": "VYrBu14c5_zB"
      },
      "source": [
        "Lets measure the inbalance to get some class_weights"
      ]
    },
    {
      "cell_type": "code",
      "metadata": {
        "colab": {
          "base_uri": "https://localhost:8080/"
        },
        "id": "jiQM9hi4Imw5",
        "outputId": "006c7734-c951-4566-ccea-772c0b8c5fd6"
      },
      "source": [
        "# we need to fix our inbalanced dataset by using a balance function by sklearn\n",
        "from sklearn.utils import class_weight\n",
        "class_weights = class_weight.compute_class_weight('balanced',\n",
        "                                                 np.unique(y_train),\n",
        "                                                 y_train)\n",
        "class_weights"
      ],
      "execution_count": 502,
      "outputs": [
        {
          "output_type": "execute_result",
          "data": {
            "text/plain": [
              "array([7.60416667, 0.53519062])"
            ]
          },
          "metadata": {
            "tags": []
          },
          "execution_count": 502
        }
      ]
    },
    {
      "cell_type": "markdown",
      "metadata": {
        "id": "EUuehNOG55UJ"
      },
      "source": [
        "And here we define our model with an attention and embedding layer. We use an embedding layer to include our embeddings as wights, and a small RNN with two 2 LSTM layers a dense layer and an output layer with 2 neurons, and a softmax as activation function. (we use this model design, as it was sucessfully used in a similar task)."
      ]
    },
    {
      "cell_type": "code",
      "metadata": {
        "id": "X2pkOoLX_O-R",
        "colab": {
          "base_uri": "https://localhost:8080/"
        },
        "outputId": "e954cf1e-be72-4197-bb31-7b288b083d04"
      },
      "source": [
        "from tensorflow import keras\n",
        "\n",
        "## input\n",
        "x_in = layers.Input(shape=(200,))## embedding\n",
        "x = layers.Embedding(input_dim=embeddings.shape[0],  \n",
        "                     output_dim=embeddings.shape[1], \n",
        "                     weights=[embeddings],\n",
        "                     input_length=200, trainable=False)(x_in)\n",
        "## apply attention\n",
        "#x = attention_layer(x, neurons=150)\n",
        "## 2 layers of bidirectional lstm\n",
        "x = layers.Bidirectional(layers.LSTM(units=200, dropout=0.2, \n",
        "                         return_sequences=True))(x)\n",
        "x = layers.Bidirectional(layers.LSTM(units=200, dropout=0.2,\n",
        "                          return_sequences=False))(x)\n",
        "#x = layers.LSTM(units=100, dropout=0.2)(x)\n",
        "## final dense layers\n",
        "x = layers.Dense(64, activation='relu')(x)\n",
        "y_out = layers.Dense(2, activation='softmax')(x)\n",
        "#y_out = layers.Dense(1, activation='sigmoid')(x)## compile\n",
        "model = models.Model(x_in, y_out)\n",
        "\n",
        "opt = keras.optimizers.Adam(lr=1e-6)\n",
        "model.compile(loss='sparse_categorical_crossentropy',  # #binary_crossentropy \n",
        "              optimizer=opt, metrics=['accuracy'])\n",
        "\n",
        "model.summary()"
      ],
      "execution_count": 503,
      "outputs": [
        {
          "output_type": "stream",
          "text": [
            "Model: \"model_36\"\n",
            "_________________________________________________________________\n",
            "Layer (type)                 Output Shape              Param #   \n",
            "=================================================================\n",
            "input_43 (InputLayer)        [(None, 200)]             0         \n",
            "_________________________________________________________________\n",
            "embedding_42 (Embedding)     (None, 200, 300)          3322200   \n",
            "_________________________________________________________________\n",
            "bidirectional_84 (Bidirectio (None, 200, 400)          801600    \n",
            "_________________________________________________________________\n",
            "bidirectional_85 (Bidirectio (None, 400)               961600    \n",
            "_________________________________________________________________\n",
            "dense_73 (Dense)             (None, 64)                25664     \n",
            "_________________________________________________________________\n",
            "dense_74 (Dense)             (None, 2)                 130       \n",
            "=================================================================\n",
            "Total params: 5,111,194\n",
            "Trainable params: 1,788,994\n",
            "Non-trainable params: 3,322,200\n",
            "_________________________________________________________________\n"
          ],
          "name": "stdout"
        },
        {
          "output_type": "stream",
          "text": [
            "/usr/local/lib/python3.7/dist-packages/tensorflow/python/keras/optimizer_v2/optimizer_v2.py:375: UserWarning: The `lr` argument is deprecated, use `learning_rate` instead.\n",
            "  \"The `lr` argument is deprecated, use `learning_rate` instead.\")\n"
          ],
          "name": "stderr"
        }
      ]
    },
    {
      "cell_type": "code",
      "metadata": {
        "id": "Tgt2sVYW_S_W",
        "colab": {
          "base_uri": "https://localhost:8080/",
          "height": 1000
        },
        "outputId": "49e651c9-56f2-44f3-89fd-dc55719c0993"
      },
      "source": [
        "## encode y\n",
        "dic_y_mapping = {n:label for n,label in \n",
        "                 enumerate(np.unique(y_train))}\n",
        "inverse_dic = {v:k for k,v in dic_y_mapping.items()}\n",
        "y_train = np.array([inverse_dic[y] for y in y_train])\n",
        "\n",
        "## train\n",
        "training = model.fit(x=X_train, y=y_train, batch_size=64, \n",
        "                     epochs=100, shuffle=True, verbose=2, \n",
        "                     validation_split=0.2, class_weight={0:7, 1:0.5}) #0:14, 1:1\n",
        "\n",
        "## plot loss and accuracy\n",
        "metrics = [k for k in training.history.keys() if (\"loss\" not in k) and (\"val\" not in k)]\n",
        "fig, ax = plt.subplots(nrows=1, ncols=2, sharey=True)\n",
        "\n",
        "ax[0].set(title=\"Training\")\n",
        "ax11 = ax[0].twinx()\n",
        "ax[0].plot(training.history['loss'], color='black')\n",
        "ax[0].set_xlabel('Epochs')\n",
        "ax[0].set_ylabel('Loss', color='black')\n",
        "for metric in metrics:\n",
        "    ax11.plot(training.history[metric], label=metric)\n",
        "ax11.set_ylabel(\"Score\", color='steelblue')\n",
        "ax11.legend()\n",
        "ax[1].set(title=\"Validation\")\n",
        "ax22 = ax[1].twinx()\n",
        "\n",
        "ax[1].plot(training.history['val_loss'], color='black')\n",
        "ax[1].set_xlabel('Epochs')\n",
        "ax[1].set_ylabel('Loss', color='black')\n",
        "for metric in metrics:\n",
        "     ax22.plot(training.history['val_'+metric], label=metric)\n",
        "ax22.set_ylabel(\"Score\", color=\"steelblue\")\n",
        "plt.show()\n",
        "\n"
      ],
      "execution_count": 504,
      "outputs": [
        {
          "output_type": "stream",
          "text": [
            "Epoch 1/100\n",
            "19/19 - 7s - loss: 0.6315 - accuracy: 0.0950 - val_loss: 0.7159 - val_accuracy: 0.0993\n",
            "Epoch 2/100\n",
            "19/19 - 2s - loss: 0.6304 - accuracy: 0.1190 - val_loss: 0.7125 - val_accuracy: 0.1130\n",
            "Epoch 3/100\n",
            "19/19 - 2s - loss: 0.6303 - accuracy: 0.1558 - val_loss: 0.7090 - val_accuracy: 0.1370\n",
            "Epoch 4/100\n",
            "19/19 - 2s - loss: 0.6290 - accuracy: 0.1909 - val_loss: 0.7062 - val_accuracy: 0.1575\n",
            "Epoch 5/100\n",
            "19/19 - 2s - loss: 0.6287 - accuracy: 0.2346 - val_loss: 0.7029 - val_accuracy: 0.2123\n",
            "Epoch 6/100\n",
            "19/19 - 2s - loss: 0.6281 - accuracy: 0.2783 - val_loss: 0.6999 - val_accuracy: 0.2774\n",
            "Epoch 7/100\n",
            "19/19 - 2s - loss: 0.6269 - accuracy: 0.3416 - val_loss: 0.6968 - val_accuracy: 0.3801\n",
            "Epoch 8/100\n",
            "19/19 - 2s - loss: 0.6265 - accuracy: 0.4452 - val_loss: 0.6931 - val_accuracy: 0.5000\n",
            "Epoch 9/100\n",
            "19/19 - 2s - loss: 0.6252 - accuracy: 0.5009 - val_loss: 0.6905 - val_accuracy: 0.5788\n",
            "Epoch 10/100\n",
            "19/19 - 2s - loss: 0.6248 - accuracy: 0.5908 - val_loss: 0.6874 - val_accuracy: 0.6438\n",
            "Epoch 11/100\n",
            "19/19 - 2s - loss: 0.6230 - accuracy: 0.6952 - val_loss: 0.6836 - val_accuracy: 0.7397\n",
            "Epoch 12/100\n",
            "19/19 - 2s - loss: 0.6224 - accuracy: 0.7432 - val_loss: 0.6809 - val_accuracy: 0.7911\n",
            "Epoch 13/100\n",
            "19/19 - 2s - loss: 0.6220 - accuracy: 0.7791 - val_loss: 0.6772 - val_accuracy: 0.8493\n",
            "Epoch 14/100\n",
            "19/19 - 2s - loss: 0.6197 - accuracy: 0.8339 - val_loss: 0.6739 - val_accuracy: 0.8699\n",
            "Epoch 15/100\n",
            "19/19 - 2s - loss: 0.6204 - accuracy: 0.8673 - val_loss: 0.6712 - val_accuracy: 0.8836\n",
            "Epoch 16/100\n",
            "19/19 - 2s - loss: 0.6190 - accuracy: 0.8836 - val_loss: 0.6679 - val_accuracy: 0.8904\n",
            "Epoch 17/100\n",
            "19/19 - 2s - loss: 0.6180 - accuracy: 0.8990 - val_loss: 0.6647 - val_accuracy: 0.8938\n",
            "Epoch 18/100\n",
            "19/19 - 2s - loss: 0.6177 - accuracy: 0.9067 - val_loss: 0.6623 - val_accuracy: 0.9007\n",
            "Epoch 19/100\n",
            "19/19 - 2s - loss: 0.6174 - accuracy: 0.9067 - val_loss: 0.6593 - val_accuracy: 0.9075\n",
            "Epoch 20/100\n",
            "19/19 - 2s - loss: 0.6168 - accuracy: 0.9178 - val_loss: 0.6563 - val_accuracy: 0.9075\n",
            "Epoch 21/100\n",
            "19/19 - 2s - loss: 0.6158 - accuracy: 0.9247 - val_loss: 0.6530 - val_accuracy: 0.9075\n",
            "Epoch 22/100\n",
            "19/19 - 2s - loss: 0.6162 - accuracy: 0.9298 - val_loss: 0.6502 - val_accuracy: 0.9075\n",
            "Epoch 23/100\n",
            "19/19 - 2s - loss: 0.6140 - accuracy: 0.9281 - val_loss: 0.6477 - val_accuracy: 0.9110\n",
            "Epoch 24/100\n",
            "19/19 - 2s - loss: 0.6139 - accuracy: 0.9358 - val_loss: 0.6449 - val_accuracy: 0.9110\n",
            "Epoch 25/100\n",
            "19/19 - 2s - loss: 0.6138 - accuracy: 0.9324 - val_loss: 0.6430 - val_accuracy: 0.9110\n",
            "Epoch 26/100\n",
            "19/19 - 2s - loss: 0.6127 - accuracy: 0.9366 - val_loss: 0.6407 - val_accuracy: 0.9110\n",
            "Epoch 27/100\n",
            "19/19 - 2s - loss: 0.6129 - accuracy: 0.9366 - val_loss: 0.6378 - val_accuracy: 0.9144\n",
            "Epoch 28/100\n",
            "19/19 - 2s - loss: 0.6118 - accuracy: 0.9341 - val_loss: 0.6364 - val_accuracy: 0.9144\n",
            "Epoch 29/100\n",
            "19/19 - 2s - loss: 0.6106 - accuracy: 0.9358 - val_loss: 0.6341 - val_accuracy: 0.9178\n",
            "Epoch 30/100\n",
            "19/19 - 2s - loss: 0.6104 - accuracy: 0.9358 - val_loss: 0.6316 - val_accuracy: 0.9178\n",
            "Epoch 31/100\n",
            "19/19 - 2s - loss: 0.6103 - accuracy: 0.9358 - val_loss: 0.6294 - val_accuracy: 0.9178\n",
            "Epoch 32/100\n",
            "19/19 - 2s - loss: 0.6093 - accuracy: 0.9392 - val_loss: 0.6269 - val_accuracy: 0.9178\n",
            "Epoch 33/100\n",
            "19/19 - 2s - loss: 0.6086 - accuracy: 0.9384 - val_loss: 0.6250 - val_accuracy: 0.9178\n",
            "Epoch 34/100\n",
            "19/19 - 2s - loss: 0.6088 - accuracy: 0.9375 - val_loss: 0.6224 - val_accuracy: 0.9178\n",
            "Epoch 35/100\n",
            "19/19 - 2s - loss: 0.6066 - accuracy: 0.9384 - val_loss: 0.6207 - val_accuracy: 0.9178\n",
            "Epoch 36/100\n",
            "19/19 - 2s - loss: 0.6073 - accuracy: 0.9375 - val_loss: 0.6191 - val_accuracy: 0.9178\n",
            "Epoch 37/100\n",
            "19/19 - 2s - loss: 0.6071 - accuracy: 0.9392 - val_loss: 0.6173 - val_accuracy: 0.9178\n",
            "Epoch 38/100\n",
            "19/19 - 2s - loss: 0.6073 - accuracy: 0.9384 - val_loss: 0.6152 - val_accuracy: 0.9178\n",
            "Epoch 39/100\n",
            "19/19 - 2s - loss: 0.6060 - accuracy: 0.9375 - val_loss: 0.6129 - val_accuracy: 0.9178\n",
            "Epoch 40/100\n",
            "19/19 - 2s - loss: 0.6054 - accuracy: 0.9401 - val_loss: 0.6104 - val_accuracy: 0.9178\n",
            "Epoch 41/100\n",
            "19/19 - 2s - loss: 0.6043 - accuracy: 0.9392 - val_loss: 0.6088 - val_accuracy: 0.9178\n",
            "Epoch 42/100\n",
            "19/19 - 2s - loss: 0.6046 - accuracy: 0.9409 - val_loss: 0.6067 - val_accuracy: 0.9178\n",
            "Epoch 43/100\n",
            "19/19 - 2s - loss: 0.6040 - accuracy: 0.9392 - val_loss: 0.6054 - val_accuracy: 0.9178\n",
            "Epoch 44/100\n",
            "19/19 - 2s - loss: 0.6036 - accuracy: 0.9401 - val_loss: 0.6034 - val_accuracy: 0.9178\n",
            "Epoch 45/100\n",
            "19/19 - 2s - loss: 0.6031 - accuracy: 0.9392 - val_loss: 0.6019 - val_accuracy: 0.9178\n",
            "Epoch 46/100\n",
            "19/19 - 2s - loss: 0.6019 - accuracy: 0.9375 - val_loss: 0.6003 - val_accuracy: 0.9178\n",
            "Epoch 47/100\n",
            "19/19 - 2s - loss: 0.6024 - accuracy: 0.9401 - val_loss: 0.5987 - val_accuracy: 0.9178\n",
            "Epoch 48/100\n",
            "19/19 - 2s - loss: 0.6021 - accuracy: 0.9375 - val_loss: 0.5971 - val_accuracy: 0.9178\n",
            "Epoch 49/100\n",
            "19/19 - 2s - loss: 0.6021 - accuracy: 0.9392 - val_loss: 0.5953 - val_accuracy: 0.9178\n",
            "Epoch 50/100\n",
            "19/19 - 2s - loss: 0.6002 - accuracy: 0.9375 - val_loss: 0.5933 - val_accuracy: 0.9178\n",
            "Epoch 51/100\n",
            "19/19 - 2s - loss: 0.6017 - accuracy: 0.9384 - val_loss: 0.5913 - val_accuracy: 0.9178\n",
            "Epoch 52/100\n",
            "19/19 - 2s - loss: 0.5993 - accuracy: 0.9392 - val_loss: 0.5904 - val_accuracy: 0.9178\n",
            "Epoch 53/100\n",
            "19/19 - 2s - loss: 0.5991 - accuracy: 0.9392 - val_loss: 0.5884 - val_accuracy: 0.9178\n",
            "Epoch 54/100\n",
            "19/19 - 2s - loss: 0.5989 - accuracy: 0.9384 - val_loss: 0.5872 - val_accuracy: 0.9178\n",
            "Epoch 55/100\n",
            "19/19 - 2s - loss: 0.5980 - accuracy: 0.9401 - val_loss: 0.5858 - val_accuracy: 0.9178\n",
            "Epoch 56/100\n",
            "19/19 - 2s - loss: 0.5982 - accuracy: 0.9392 - val_loss: 0.5842 - val_accuracy: 0.9178\n",
            "Epoch 57/100\n",
            "19/19 - 2s - loss: 0.5976 - accuracy: 0.9409 - val_loss: 0.5828 - val_accuracy: 0.9178\n",
            "Epoch 58/100\n",
            "19/19 - 2s - loss: 0.5965 - accuracy: 0.9392 - val_loss: 0.5808 - val_accuracy: 0.9178\n",
            "Epoch 59/100\n",
            "19/19 - 2s - loss: 0.5958 - accuracy: 0.9384 - val_loss: 0.5792 - val_accuracy: 0.9178\n",
            "Epoch 60/100\n",
            "19/19 - 2s - loss: 0.5970 - accuracy: 0.9392 - val_loss: 0.5773 - val_accuracy: 0.9178\n",
            "Epoch 61/100\n",
            "19/19 - 2s - loss: 0.5960 - accuracy: 0.9384 - val_loss: 0.5761 - val_accuracy: 0.9178\n",
            "Epoch 62/100\n",
            "19/19 - 2s - loss: 0.5951 - accuracy: 0.9392 - val_loss: 0.5750 - val_accuracy: 0.9178\n",
            "Epoch 63/100\n",
            "19/19 - 2s - loss: 0.5953 - accuracy: 0.9401 - val_loss: 0.5733 - val_accuracy: 0.9178\n",
            "Epoch 64/100\n",
            "19/19 - 2s - loss: 0.5932 - accuracy: 0.9426 - val_loss: 0.5713 - val_accuracy: 0.9178\n",
            "Epoch 65/100\n",
            "19/19 - 2s - loss: 0.5928 - accuracy: 0.9401 - val_loss: 0.5700 - val_accuracy: 0.9178\n",
            "Epoch 66/100\n",
            "19/19 - 2s - loss: 0.5932 - accuracy: 0.9392 - val_loss: 0.5686 - val_accuracy: 0.9178\n",
            "Epoch 67/100\n",
            "19/19 - 2s - loss: 0.5928 - accuracy: 0.9409 - val_loss: 0.5669 - val_accuracy: 0.9178\n",
            "Epoch 68/100\n",
            "19/19 - 2s - loss: 0.5922 - accuracy: 0.9418 - val_loss: 0.5658 - val_accuracy: 0.9178\n",
            "Epoch 69/100\n",
            "19/19 - 2s - loss: 0.5907 - accuracy: 0.9401 - val_loss: 0.5643 - val_accuracy: 0.9178\n",
            "Epoch 70/100\n",
            "19/19 - 2s - loss: 0.5900 - accuracy: 0.9409 - val_loss: 0.5636 - val_accuracy: 0.9178\n",
            "Epoch 71/100\n",
            "19/19 - 2s - loss: 0.5912 - accuracy: 0.9392 - val_loss: 0.5615 - val_accuracy: 0.9281\n",
            "Epoch 72/100\n",
            "19/19 - 2s - loss: 0.5900 - accuracy: 0.9409 - val_loss: 0.5605 - val_accuracy: 0.9281\n",
            "Epoch 73/100\n",
            "19/19 - 2s - loss: 0.5900 - accuracy: 0.9392 - val_loss: 0.5602 - val_accuracy: 0.9281\n",
            "Epoch 74/100\n",
            "19/19 - 2s - loss: 0.5899 - accuracy: 0.9435 - val_loss: 0.5585 - val_accuracy: 0.9281\n",
            "Epoch 75/100\n",
            "19/19 - 2s - loss: 0.5881 - accuracy: 0.9409 - val_loss: 0.5590 - val_accuracy: 0.9281\n",
            "Epoch 76/100\n",
            "19/19 - 2s - loss: 0.5862 - accuracy: 0.9418 - val_loss: 0.5575 - val_accuracy: 0.9281\n",
            "Epoch 77/100\n",
            "19/19 - 2s - loss: 0.5858 - accuracy: 0.9443 - val_loss: 0.5559 - val_accuracy: 0.9281\n",
            "Epoch 78/100\n",
            "19/19 - 2s - loss: 0.5860 - accuracy: 0.9409 - val_loss: 0.5547 - val_accuracy: 0.9281\n",
            "Epoch 79/100\n",
            "19/19 - 2s - loss: 0.5870 - accuracy: 0.9426 - val_loss: 0.5542 - val_accuracy: 0.9281\n",
            "Epoch 80/100\n",
            "19/19 - 2s - loss: 0.5866 - accuracy: 0.9426 - val_loss: 0.5528 - val_accuracy: 0.9281\n",
            "Epoch 81/100\n",
            "19/19 - 2s - loss: 0.5838 - accuracy: 0.9418 - val_loss: 0.5516 - val_accuracy: 0.9281\n",
            "Epoch 82/100\n",
            "19/19 - 2s - loss: 0.5839 - accuracy: 0.9418 - val_loss: 0.5503 - val_accuracy: 0.9281\n",
            "Epoch 83/100\n",
            "19/19 - 2s - loss: 0.5842 - accuracy: 0.9426 - val_loss: 0.5493 - val_accuracy: 0.9315\n",
            "Epoch 84/100\n",
            "19/19 - 2s - loss: 0.5846 - accuracy: 0.9443 - val_loss: 0.5488 - val_accuracy: 0.9315\n",
            "Epoch 85/100\n",
            "19/19 - 2s - loss: 0.5834 - accuracy: 0.9418 - val_loss: 0.5477 - val_accuracy: 0.9315\n",
            "Epoch 86/100\n",
            "19/19 - 2s - loss: 0.5830 - accuracy: 0.9409 - val_loss: 0.5462 - val_accuracy: 0.9315\n",
            "Epoch 87/100\n",
            "19/19 - 2s - loss: 0.5822 - accuracy: 0.9435 - val_loss: 0.5445 - val_accuracy: 0.9315\n",
            "Epoch 88/100\n",
            "19/19 - 2s - loss: 0.5812 - accuracy: 0.9426 - val_loss: 0.5436 - val_accuracy: 0.9315\n",
            "Epoch 89/100\n",
            "19/19 - 2s - loss: 0.5817 - accuracy: 0.9435 - val_loss: 0.5426 - val_accuracy: 0.9315\n",
            "Epoch 90/100\n",
            "19/19 - 2s - loss: 0.5799 - accuracy: 0.9461 - val_loss: 0.5422 - val_accuracy: 0.9315\n",
            "Epoch 91/100\n",
            "19/19 - 2s - loss: 0.5804 - accuracy: 0.9443 - val_loss: 0.5407 - val_accuracy: 0.9315\n",
            "Epoch 92/100\n",
            "19/19 - 2s - loss: 0.5788 - accuracy: 0.9461 - val_loss: 0.5397 - val_accuracy: 0.9315\n",
            "Epoch 93/100\n",
            "19/19 - 2s - loss: 0.5787 - accuracy: 0.9443 - val_loss: 0.5382 - val_accuracy: 0.9315\n",
            "Epoch 94/100\n",
            "19/19 - 2s - loss: 0.5776 - accuracy: 0.9461 - val_loss: 0.5369 - val_accuracy: 0.9315\n",
            "Epoch 95/100\n",
            "19/19 - 2s - loss: 0.5773 - accuracy: 0.9426 - val_loss: 0.5357 - val_accuracy: 0.9315\n",
            "Epoch 96/100\n",
            "19/19 - 2s - loss: 0.5763 - accuracy: 0.9443 - val_loss: 0.5354 - val_accuracy: 0.9315\n",
            "Epoch 97/100\n",
            "19/19 - 2s - loss: 0.5766 - accuracy: 0.9461 - val_loss: 0.5346 - val_accuracy: 0.9315\n",
            "Epoch 98/100\n",
            "19/19 - 2s - loss: 0.5757 - accuracy: 0.9469 - val_loss: 0.5332 - val_accuracy: 0.9315\n",
            "Epoch 99/100\n",
            "19/19 - 2s - loss: 0.5756 - accuracy: 0.9486 - val_loss: 0.5325 - val_accuracy: 0.9315\n",
            "Epoch 100/100\n",
            "19/19 - 2s - loss: 0.5755 - accuracy: 0.9426 - val_loss: 0.5315 - val_accuracy: 0.9315\n"
          ],
          "name": "stdout"
        },
        {
          "output_type": "display_data",
          "data": {
            "image/png": "[encoded data removed]",
            "text/plain": [
              "<Figure size 432x288 with 4 Axes>"
            ]
          },
          "metadata": {
            "tags": [],
            "needs_background": "light"
          }
        }
      ]
    },
    {
      "cell_type": "code",
      "metadata": {
        "id": "FHzIIZ8Iu1Zd"
      },
      "source": [
        "#insert chris predict model function here #need chris quick help\n",
        "# my guess: this sucks. i think there are only 1's predicted"
      ],
      "execution_count": 505,
      "outputs": []
    },
    {
      "cell_type": "markdown",
      "metadata": {
        "id": "ok_lyYhAXsyN"
      },
      "source": [
        "def showModelPerformance(history, string):\n",
        "    plt.plot(history.history[string])\n",
        "    plt.plot(history.history['val_'+string])\n",
        "    plt.xlabel(\"Epochs\")\n",
        "    plt.ylabel(string)\n",
        "    plt.title('Random Forest Model')\n",
        "    plt.legend([string, 'val_'+string])\n",
        "    plt.show()\n",
        "\n",
        "    return"
      ]
    },
    {
      "cell_type": "markdown",
      "metadata": {
        "id": "E38ZIM50KJSC"
      },
      "source": [
        "Several problems might induce this behavior:\n",
        "- maybe our dataset is to small to create our own embeddings\n",
        "- maybe we made some major fails when creating embeddings or the model\n",
        "\n",
        "anyways... lets continue with a pretrained model (BERT)"
      ]
    },
    {
      "cell_type": "code",
      "metadata": {
        "colab": {
          "base_uri": "https://localhost:8080/",
          "height": 135
        },
        "id": "KrBQWhIM389K",
        "outputId": "64280d95-09a9-45a8-c849-fff79205c5c2"
      },
      "source": [
        "this is an intentional error\n",
        "#it is also very crucial to restart all because the model is somehow saving its weights and does not start new"
      ],
      "execution_count": 506,
      "outputs": [
        {
          "output_type": "error",
          "ename": "SyntaxError",
          "evalue": "ignored",
          "traceback": [
            "\u001b[0;36m  File \u001b[0;32m\"<ipython-input-506-16ab3260b503>\"\u001b[0;36m, line \u001b[0;32m1\u001b[0m\n\u001b[0;31m    this is an intentional error\u001b[0m\n\u001b[0m                         ^\u001b[0m\n\u001b[0;31mSyntaxError\u001b[0m\u001b[0;31m:\u001b[0m invalid syntax\n"
          ]
        }
      ]
    },
    {
      "cell_type": "markdown",
      "metadata": {
        "id": "3U-2O6LU1-Sg"
      },
      "source": [
        "# Build Models"
      ]
    },
    {
      "cell_type": "markdown",
      "metadata": {
        "id": "YZHxdFUhQEjs"
      },
      "source": [
        "## Fit learning rate\n"
      ]
    },
    {
      "cell_type": "code",
      "metadata": {
        "id": "yEvAKhgRJ1XS"
      },
      "source": [
        "def fitLearningRate(training_padded, training_labels,validation_padded, validation_label, vocab_size, embedding_dim, max_length, num_epochs):\n",
        "  \n",
        "  model = tf.keras.Sequential([\n",
        "  #model design\n",
        "  #tf.keras.layers.Embedding(vocab_size, embedding_dim, input_length=max_length),\n",
        "  #tf.keras.layers.GlobalAveragePooling1D(), #fiddle #MaxPooling1D(pool_size=)\n",
        "  #tf.keras.layers.Dense(16, activation='relu'), #fiddle\n",
        "  #tf.keras.layers.Dense(5, activation='softmax')]) #5 scores, 5 outputs per scenario\n",
        "   \n",
        "  tf.keras.layers.Embedding(vocab_size+1, embedding_dim, input_length=max_length),\n",
        "  tf.keras.layers.Dropout(0.2),\n",
        "  #tf.keras.layers.Conv1D(32, 5, activation='sigmoid'),\n",
        "  #tf.keras.layers.MaxPooling1D(pool_size=4),\n",
        "  tf.keras.layers.LSTM(32),\n",
        "  tf.keras.layers.Dropout(0.3),\n",
        "  tf.keras.layers.Dense(16, activation='relu'),\n",
        "  tf.keras.layers.Dropout(0.2),\n",
        "  tf.keras.layers.Dense(7, activation='softmax')])\n",
        "  \n",
        "  #Fit the model\n",
        "  #Input: compiled Model, Train and Validation Data, Batch Size and trainingEpochs\n",
        "  #Return: history and model\n",
        "  optimizer = tf.keras.optimizers.RMSprop(lr=1e-6)\n",
        "  model.compile(optimizer = optimizer,\n",
        "                loss='categorical_crossentropy', metrics=['accuracy'])\n",
        "  lr_schedule = tf.keras.callbacks.LearningRateScheduler(\n",
        "    lambda epoch: 1e-6 * 10**(epoch / 20))\n",
        "  \n",
        "  #one hot encode\n",
        "  training_labels = np.array(training_labels)\n",
        "  validation_label = np.array(validation_label)\n",
        "  training_labels = np.concatenate((training_labels))\n",
        "  validation_label = np.concatenate((validation_label))\n",
        "  training_labels = to_categorical(training_labels, 7)\n",
        "  validation_label = to_categorical(validation_label, 7)\n",
        "\n",
        "  print(\"xtrain\")\n",
        "  print(training_padded.shape)\n",
        "  print(\"ytrain\")\n",
        "  print(training_labels.shape)\n",
        "  print(\"xval\")\n",
        "  print(validation_padded.shape)\n",
        "  print(\"yval\")\n",
        "  print(validation_label.shape)\n",
        "  \n",
        "\n",
        "  # fit network\n",
        "  history = model.fit(training_padded, training_labels, epochs=num_epochs, validation_data=(validation_padded, validation_label),callbacks=[lr_schedule], verbose=2)\n",
        "\n",
        "  # plot history\n",
        "  plt.semilogx(history.history[\"lr\"], history.history[\"loss\"])\n",
        "  plt.show()\n",
        "  #pyplot.legend()\n",
        "  #pyplot.show()\n",
        "  #history = compiledModel.fit(xTrain, yTrain,batch_size=512, epochs = trainingEpochs,callbacks=[lr_schedule])\n",
        "\n",
        "  return model, history"
      ],
      "execution_count": null,
      "outputs": []
    },
    {
      "cell_type": "markdown",
      "metadata": {
        "id": "IDQRA2vPQK1o"
      },
      "source": [
        "## First approach"
      ]
    },
    {
      "cell_type": "markdown",
      "metadata": {
        "id": "ufvoThLsrFGi"
      },
      "source": [
        "### Startermodel"
      ]
    },
    {
      "cell_type": "code",
      "metadata": {
        "id": "DnRvEIU1s9xa"
      },
      "source": [
        "def startermodel(training_padded, training_labels,validation_padded, validation_label, vocab_size, embedding_dim, max_length, num_epochs): #weights=[embeddings_matrix], trainable=False\n",
        "\n",
        "  model = tf.keras.Sequential([\n",
        "    #model design\n",
        "    #tf.keras.layers.Embedding(vocab_size, embedding_dim, input_length=max_length),\n",
        "    #tf.keras.layers.GlobalAveragePooling1D(), #fiddle #MaxPooling1D(pool_size=)\n",
        "    #tf.keras.layers.Dense(16, activation='relu'), #fiddle\n",
        "    #tf.keras.layers.Dense(5, activation='softmax')]) #5 scores, 5 outputs per scenario\n",
        "    \n",
        "    tf.keras.layers.Embedding(vocab_size+1, embedding_dim, input_length=max_length),\n",
        "    tf.keras.layers.Dropout(0.2),\n",
        "    #tf.keras.layers.Conv1D(32, 5, activation='sigmoid'),\n",
        "    #tf.keras.layers.MaxPooling1D(pool_size=4),\n",
        "    tf.keras.layers.LSTM(32),\n",
        "    tf.keras.layers.Dropout(0.3),\n",
        "    tf.keras.layers.Dense(16, activation='sigmoid'),\n",
        "    tf.keras.layers.Dropout(0.2),\n",
        "    tf.keras.layers.Dense(7, activation='softmax')])\n",
        "    \n",
        "  model.compile(loss='categorical_crossentropy',optimizer='adam',metrics=['accuracy'])\n",
        "  model.summary()\n",
        "  \n",
        "  #one hot encode\n",
        "  training_labels = np.array(training_labels)\n",
        "  validation_label = np.array(validation_label)\n",
        "  training_labels = np.concatenate((training_labels))\n",
        "  validation_label = np.concatenate((validation_label))\n",
        "  training_labels = to_categorical(training_labels, 7)\n",
        "  validation_label = to_categorical(validation_label, 7)\n",
        "\n",
        "  print(\"xtrain\")\n",
        "  print(training_padded.shape)\n",
        "  print(\"ytrain\")\n",
        "  print(training_labels.shape)\n",
        "  print(\"xval\")\n",
        "  print(validation_padded.shape)\n",
        "  print(\"yval\")\n",
        "  print(validation_label.shape)\n",
        "  \n",
        "\n",
        "  # fit network\n",
        "  history = model.fit(training_padded, training_labels, epochs=num_epochs, validation_data=(validation_padded, validation_label), verbose=2)\n",
        "  \n",
        "  # plot history\n",
        "  pyplot.plot(history.history['loss'], label='train')\n",
        "  pyplot.plot(history.history['val_loss'], label='test')\n",
        "  pyplot.legend()\n",
        "  pyplot.show()\n",
        " \n",
        "          \n",
        "  return model, history"
      ],
      "execution_count": null,
      "outputs": []
    },
    {
      "cell_type": "markdown",
      "metadata": {
        "id": "yaU4Gsx7rApw"
      },
      "source": [
        "### Bidirectional"
      ]
    },
    {
      "cell_type": "code",
      "metadata": {
        "id": "FBaAiHgm5Q5t"
      },
      "source": [
        "def startermodelBidirectional(training_padded, training_labels,validation_padded, validation_label, vocab_size, embedding_dim, max_length, num_epochs): #weights=[embeddings_matrix], trainable=False\n",
        "\n",
        "  model = tf.keras.Sequential([\n",
        "    #model design\n",
        "    #tf.keras.layers.Embedding(vocab_size, embedding_dim, input_length=max_length),\n",
        "    #tf.keras.layers.GlobalAveragePooling1D(), #fiddle #MaxPooling1D(pool_size=)\n",
        "    #tf.keras.layers.Dense(16, activation='relu'), #fiddle\n",
        "    #tf.keras.layers.Dense(5, activation='softmax')]) #5 scores, 5 outputs per scenario\n",
        "    \n",
        "    tf.keras.layers.Embedding(vocab_size+1, embedding_dim, input_length=max_length),\n",
        "    tf.keras.layers.Dropout(0.2),\n",
        "    #tf.keras.layers.Conv1D(32, 5, activation='sigmoid'),\n",
        "    #tf.keras.layers.MaxPooling1D(pool_size=4),\n",
        "    tf.keras.layers.Bidirectional(LSTM(32)),\n",
        "    tf.keras.layers.Dropout(0.3),\n",
        "    tf.keras.layers.Dense(16, activation='sigmoid'),\n",
        "    tf.keras.layers.Dropout(0.2),\n",
        "    tf.keras.layers.Dense(7, activation='softmax')])\n",
        "    \n",
        "  model.compile(loss='categorical_crossentropy',optimizer='adam',metrics=['accuracy'])\n",
        "  model.summary()\n",
        "  \n",
        "  #one hot encode\n",
        "  training_labels = np.array(training_labels)\n",
        "  validation_label = np.array(validation_label)\n",
        "  training_labels = np.concatenate((training_labels))\n",
        "  validation_label = np.concatenate((validation_label))\n",
        "  training_labels = to_categorical(training_labels, 7)\n",
        "  validation_label = to_categorical(validation_label, 7)\n",
        "\n",
        "  print(\"xtrain\")\n",
        "  print(training_padded.shape)\n",
        "  print(\"ytrain\")\n",
        "  print(training_labels.shape)\n",
        "  print(\"xval\")\n",
        "  print(validation_padded.shape)\n",
        "  print(\"yval\")\n",
        "  print(validation_label.shape)\n",
        "  \n",
        "\n",
        "  # fit network\n",
        "  history = model.fit(training_padded, training_labels, epochs=num_epochs, validation_data=(validation_padded, validation_label), verbose=2)\n",
        "\n",
        "  # plot history\n",
        "  pyplot.plot(history.history['loss'], label='train')\n",
        "  pyplot.plot(history.history['val_loss'], label='test')\n",
        "  pyplot.legend()\n",
        "  pyplot.show()\n",
        "          \n",
        "  return model, history"
      ],
      "execution_count": null,
      "outputs": []
    },
    {
      "cell_type": "markdown",
      "metadata": {
        "id": "PQzDyBkPQPU2"
      },
      "source": [
        "## Experimental approaches\n"
      ]
    },
    {
      "cell_type": "markdown",
      "metadata": {
        "id": "UHDSzirMs8dC"
      },
      "source": [
        "## Bert Model Multilingual"
      ]
    },
    {
      "cell_type": "code",
      "metadata": {
        "id": "fwcTbrw-uu8L"
      },
      "source": [
        "pip install transformers"
      ],
      "execution_count": null,
      "outputs": []
    },
    {
      "cell_type": "code",
      "metadata": {
        "id": "O9-fOnbttANM"
      },
      "source": [
        "from transformers import pipeline\n",
        "from transformers import BertTokenizer, TFBertModel\n",
        "tokenizer = BertTokenizer.from_pretrained('bert-base-multilingual-cased')\n",
        "model = TFBertModel.from_pretrained(\"bert-base-multilingual-cased\")\n",
        "text = \"Replace me by any text you'd like.\"\n",
        "encoded_input = tokenizer(text, return_tensors='tf')\n",
        "output = model(encoded_input)"
      ],
      "execution_count": null,
      "outputs": []
    },
    {
      "cell_type": "code",
      "metadata": {
        "id": "ScATUuBBvzwu"
      },
      "source": [
        "encoded_input"
      ],
      "execution_count": null,
      "outputs": []
    },
    {
      "cell_type": "code",
      "metadata": {
        "id": "KGC59WrNvE6N"
      },
      "source": [
        "pip install -q -U tensorflow-text\n"
      ],
      "execution_count": null,
      "outputs": []
    },
    {
      "cell_type": "code",
      "metadata": {
        "id": "00MgZvJZvIGZ"
      },
      "source": [
        "pip install -q tf-models-official\n"
      ],
      "execution_count": null,
      "outputs": []
    },
    {
      "cell_type": "code",
      "metadata": {
        "id": "veZT_-JjvCkp"
      },
      "source": [
        "import os\n",
        "import shutil\n",
        "\n",
        "import tensorflow as tf\n",
        "import tensorflow_hub as hub\n",
        "import tensorflow_text as text\n",
        "from official.nlp import optimization  # to create AdamW optimizer\n"
      ],
      "execution_count": null,
      "outputs": []
    },
    {
      "cell_type": "code",
      "metadata": {
        "id": "NztAzQgOt1MW"
      },
      "source": [
        "bert_preprocess_model = hub.KerasLayer(tfhub_handle_preprocess)\n"
      ],
      "execution_count": null,
      "outputs": []
    },
    {
      "cell_type": "code",
      "metadata": {
        "id": "uxXazU9Fzxt-"
      },
      "source": [
        "# install simpletransformers\n",
        "!pip install simpletransformers\n",
        "\n",
        "# check installed version\n",
        "!pip freeze | grep simpletransformers\n",
        "# simpletransformers==0.28.2"
      ],
      "execution_count": null,
      "outputs": []
    },
    {
      "cell_type": "code",
      "metadata": {
        "id": "ycPlyMPl01nP"
      },
      "source": [
        "azubi_df_mails_and_scored_combined"
      ],
      "execution_count": null,
      "outputs": []
    },
    {
      "cell_type": "code",
      "metadata": {
        "id": "fABPYNx_0Db4"
      },
      "source": [
        "import pandas as pd\n",
        "\n",
        "class_list = ['Impolite','Polite']\n",
        "\n",
        "#df1 = pd.read_csv('germeval2019GoldLabelsSubtask1_2.txt',sep='\\t', lineterminator='\\n',encoding='utf8',names=[\"tweet\", \"task1\", \"task2\"])\n",
        "#df2 = pd.read_csv('germeval2019.training_subtask1_2_korrigiert.txt',sep='\\t', lineterminator='\\n',encoding='utf8',names=[\"tweet\", \"task1\", \"task2\"])\n",
        "\n",
        "#df = pd.concat([df1,df2])\n",
        "#df['task2'] = df['task2'].str.replace('\\r', \"\")\n",
        "#df['pred_class'] = df.apply(lambda x:  class_list.index(x['task2']),axis=1)\n",
        "\n",
        "\n",
        "df =azubi_df_mails_and_scored_combined #df[['tweet','pred_class']]\n",
        "\n",
        "print(df.shape)\n",
        "df.head()"
      ],
      "execution_count": null,
      "outputs": []
    },
    {
      "cell_type": "code",
      "metadata": {
        "id": "eR6oANfO19SM"
      },
      "source": [
        "from sklearn.model_selection import train_test_split\n",
        "\n",
        "train_df, test_df = train_test_split(df, test_size=0.10)\n",
        "\n",
        "print('train shape: ',train_df.shape)\n",
        "print('test shape: ',test_df.shape)"
      ],
      "execution_count": null,
      "outputs": []
    },
    {
      "cell_type": "code",
      "metadata": {
        "id": "jguhRrS70ATj"
      },
      "source": [
        "from simpletransformers.classification import ClassificationModel\n",
        "\n",
        "# define hyperparameter\n",
        "train_args ={\"reprocess_input_data\": True,\n",
        "             \"overwrite_output_dir\": True,\n",
        "             \"fp16\":False,\n",
        "             \"num_train_epochs\": 10}\n",
        "\n",
        "# Create a ClassificationModel\n",
        "model = ClassificationModel(\n",
        "    \"bert\", \"distilbert-base-german-cased\",\n",
        "    #num_labels=1,\n",
        "    args=train_args\n",
        ")\n"
      ],
      "execution_count": null,
      "outputs": []
    },
    {
      "cell_type": "code",
      "metadata": {
        "id": "B6MZFIY4N6OK"
      },
      "source": [
        "model"
      ],
      "execution_count": null,
      "outputs": []
    },
    {
      "cell_type": "code",
      "metadata": {
        "id": "6XJ-B70W7Bro"
      },
      "source": [
        "xTrainArray, yTrainArray, xValArray, yValArray, xTestArray, yTestArray"
      ],
      "execution_count": null,
      "outputs": []
    },
    {
      "cell_type": "code",
      "metadata": {
        "id": "ga5PjPtT7jtF"
      },
      "source": [
        "type(yTrainArray)"
      ],
      "execution_count": null,
      "outputs": []
    },
    {
      "cell_type": "code",
      "metadata": {
        "id": "6Y2EvDEt65nx"
      },
      "source": [
        "# Creating pandas dataframe from numpy array\n",
        "train_data = pd.DataFrame({'Mails_Combined': xTrainArray, 'a4s_combined_i2b': yTrainArray[:,1]})\n",
        "val_data = pd.DataFrame({'Mails_Combined': xValArray, 'a4s_combined_i2b': yValArray[:,1]})\n",
        "test_data = pd.DataFrame({'Mails_Combined': xTestArray, 'a4s_combined_i2b': yTestArray[:,1]})\n"
      ],
      "execution_count": null,
      "outputs": []
    },
    {
      "cell_type": "code",
      "metadata": {
        "id": "J86qD4EA7Q1g"
      },
      "source": [
        "test_data.head()"
      ],
      "execution_count": null,
      "outputs": []
    },
    {
      "cell_type": "code",
      "metadata": {
        "id": "o8-R1F1U2LLu"
      },
      "source": [
        "# Train the model\n",
        "model.train_model(train_df=train_data, eval_df=val_data)\n"
      ],
      "execution_count": null,
      "outputs": []
    },
    {
      "cell_type": "code",
      "metadata": {
        "id": "fjLyvDN82yW2"
      },
      "source": [
        "from sklearn.metrics import f1_score, accuracy_score\n",
        "\n",
        "\n",
        "def f1_multiclass(labels, preds):\n",
        "    return f1_score(labels, preds, average='micro')\n",
        "    \n",
        "result, model_outputs, wrong_predictions = model.eval_model(val_data, f1=f1_score, acc=accuracy_score)\n",
        "\n",
        "result"
      ],
      "execution_count": null,
      "outputs": []
    },
    {
      "cell_type": "code",
      "metadata": {
        "id": "m4ZiCcCpU76m"
      },
      "source": [
        "model_outputs"
      ],
      "execution_count": null,
      "outputs": []
    },
    {
      "cell_type": "code",
      "metadata": {
        "id": "1dWMZJmq3Ej_"
      },
      "source": [
        "class_list = ['Impolite','Polite']\n",
        "\n",
        "for i in range(len(test_data)):\n",
        "\n",
        "  test_tweet = test_data['Mails_Combined'][i]\n",
        "  predictions, raw_outputs = model.predict([test_tweet])\n",
        "\n",
        "  if predictions[0] != 1:\n",
        "    print(i)\n",
        "    print(raw_outputs)\n",
        "    print(class_list[predictions[0]])"
      ],
      "execution_count": null,
      "outputs": []
    },
    {
      "cell_type": "code",
      "metadata": {
        "id": "-CpREvBAF1cl"
      },
      "source": [
        "test_data['Mails_Combined'][83]\n",
        "test_data['Mails_Combined'][92]\n",
        "test_data['Mails_Combined'][129]\n",
        "test_data['Mails_Combined'][149]\n",
        "test_data['Mails_Combined'][174]\n",
        "test_data['Mails_Combined'][210]\n",
        "test_data['Mails_Combined'][264]\n",
        "test_data['Mails_Combined'][283]\n",
        "test_data['Mails_Combined'][303]\n",
        "test_data['Mails_Combined'][308]\n",
        "test_data['Mails_Combined'][329]\n",
        "test_data['Mails_Combined'][338]\n",
        "test_data['Mails_Combined'][342]\n",
        "test_data['Mails_Combined'][344]\n",
        "test_data['Mails_Combined'][357]\n",
        "test_data['Mails_Combined'][391]\n",
        "\n",
        "test_data['a4s_combined_i2b'][83]\n",
        "test_data['a4s_combined_i2b'][92]\n",
        "test_data['a4s_combined_i2b'][129]\n",
        "test_data['a4s_combined_i2b'][149]\n",
        "test_data['a4s_combined_i2b'][174]\n",
        "test_data['a4s_combined_i2b'][210]\n",
        "test_data['a4s_combined_i2b'][264]\n",
        "test_data['a4s_combined_i2b'][283]\n",
        "test_data['a4s_combined_i2b'][303]\n",
        "test_data['a4s_combined_i2b'][308]\n",
        "test_data['a4s_combined_i2b'][329]\n",
        "test_data['a4s_combined_i2b'][338]\n",
        "test_data['a4s_combined_i2b'][342]\n",
        "test_data['a4s_combined_i2b'][344]\n",
        "test_data['a4s_combined_i2b'][357]\n",
        "test_data['a4s_combined_i2b'][391]\n",
        "\n"
      ],
      "execution_count": null,
      "outputs": []
    },
    {
      "cell_type": "code",
      "metadata": {
        "id": "7jt2z5V3dNNB"
      },
      "source": [
        "test_data['a4s_combined_i2b'][264]"
      ],
      "execution_count": null,
      "outputs": []
    },
    {
      "cell_type": "code",
      "metadata": {
        "id": "fN058AbudLy-"
      },
      "source": [
        "test_data['Mails_Combined'][264]"
      ],
      "execution_count": null,
      "outputs": []
    },
    {
      "cell_type": "code",
      "metadata": {
        "id": "esKYDxDbFvOa"
      },
      "source": [
        "test_data"
      ],
      "execution_count": null,
      "outputs": []
    },
    {
      "cell_type": "markdown",
      "metadata": {
        "id": "oemQjjz2k9JE"
      },
      "source": [
        "### Transfer model"
      ]
    },
    {
      "cell_type": "code",
      "metadata": {
        "id": "kHeKBFmdH0Am"
      },
      "source": [
        "def transferModelSimple(training_padded, training_labels,validation_padded, validation_label, vocab_size, embedding_dim, max_length,\n",
        "                        num_epochs, hub_layer, shape, oneHotEncode, outputClasses): #weights=[embeddings_matrix], trainable=False\n",
        "\n",
        "  model = tf.keras.Sequential()\n",
        "  \n",
        "  model.add(hub_layer)\n",
        "  #model.add(Dense(16, activation='relu'))\n",
        "  #model.add(Dense(20, activation = \"relu\"))\n",
        "  model.add(tf.keras.layers.Reshape((shape, 1)))\n",
        "  model.add(Bidirectional(LSTM(256, return_sequences=True))) #recurrent_dropout=0.2\n",
        "  model.add(Dropout(0.2))\n",
        "  model.add(Bidirectional(LSTM(128, return_sequences=True)))\n",
        "  model.add(Dropout(0.2))\n",
        "  model.add(Bidirectional(LSTM(64, return_sequences=True)))\n",
        "  model.add(Dropout(0.2))\n",
        "  model.add(Bidirectional(LSTM(32)))\n",
        "  model.add(Dropout(0.2))\n",
        "  #model.add(Dense(16, activation='relu')) #, kernel_regularizer='L2'\n",
        "  #model.add(Dropout(0.2))\n",
        "  model.add(Dense(training_labels.shape[1], activation='softmax'))\n",
        "\n",
        "  \n",
        "  metric = tf.keras.metrics.CategoricalAccuracy()\n",
        "  #metric = tf.keras.metrics.sparse_categorical_accuracy()\n",
        "  #metric = tf.keras.metrics.TopKCategoricalAccuracy(\n",
        "  #  k=3, name=\"top_k_categorical_accuracy\", dtype=None)\n",
        "\n",
        "  loss = tf.keras.losses.CategoricalCrossentropy(\n",
        "      from_logits=False,\n",
        "      label_smoothing=0,\n",
        "      reduction=\"auto\",\n",
        "      name=\"categorical_crossentropy\",\n",
        "  )\n",
        "\n",
        "\n",
        "  lr_schedule = tf.keras.optimizers.schedules.ExponentialDecay(\n",
        "    initial_learning_rate=1e-1,\n",
        "    decay_steps=20000,\n",
        "    decay_rate=0.99)\n",
        "  optimizer = tf.keras.optimizers.Adam(learning_rate=1e-2) \n",
        "  model.compile(loss='categorical_crossentropy',optimizer=optimizer ,metrics=metric)\n",
        "  model.summary()\n",
        "  model.save_weights('modelTrans.h5')\n",
        "  \n",
        "  if (oneHotEncode == True):\n",
        "    #one hot encode\n",
        "    training_labels = np.array(training_labels)\n",
        "    validation_label = np.array(validation_label)\n",
        "    training_labels = np.concatenate((training_labels))\n",
        "    validation_label = np.concatenate((validation_label))\n",
        "    training_labels = to_categorical(training_labels, 7)\n",
        "    validation_label = to_categorical(validation_label, 7)\n",
        "   \n",
        "\n",
        "  training_padded = np.array(training_padded)\n",
        "  validation_padded = np.array(validation_padded)\n",
        "  #print(\"xtrain\")\n",
        "  #print(training_padded.shape)\n",
        "  #print(\"ytrain\")\n",
        "  #print(training_labels.shape)\n",
        "  #print(\"xval\")\n",
        "  #print(validation_padded.shape)\n",
        "  #print(\"yval\")\n",
        "  #print(validation_label.shape)\n",
        "  \n",
        "  #training_padded = training_padded.reshape(training_padded.shape[0],training_padded.shape[1],1)\n",
        "  #validation_padded = validation_padded.reshape(validation_padded.shape[0],validation_padded.shape[1],1)\n",
        "  # fit network\n",
        "  history = model.fit(training_padded, training_labels, epochs=num_epochs,batch_size=128, validation_data=(validation_padded, validation_label), verbose=2)\n",
        "  returnmodel = model\n",
        "  model.load_weights('modelTrans.h5')\n",
        "  # plot history\n",
        "  pyplot.plot(history.history['loss'], label='train')\n",
        "  pyplot.plot(history.history['val_loss'], label='test')\n",
        "  pyplot.legend()\n",
        "  pyplot.show()\n",
        "\n",
        "  pyplot.plot(history.history['categorical_accuracy'], label='train')\n",
        "  pyplot.plot(history.history['val_categorical_accuracy'], label='test')\n",
        "  pyplot.legend()\n",
        "  pyplot.show()\n",
        "          \n",
        "  return returnmodel, history"
      ],
      "execution_count": null,
      "outputs": []
    },
    {
      "cell_type": "markdown",
      "metadata": {
        "id": "K71vNy_lk_ka"
      },
      "source": [
        "### Bidirectional "
      ]
    },
    {
      "cell_type": "code",
      "metadata": {
        "id": "5pbEIwCvI-yG"
      },
      "source": [
        "def startermodelBidirectionalExperimental(training_padded, training_labels,validation_padded, validation_label, vocab_size, embedding_dim, max_length, num_epochs): #weights=[embeddings_matrix], trainable=False\n",
        "\n",
        "  model = tf.keras.Sequential([\n",
        "    #model design\n",
        "    #tf.keras.layers.Embedding(vocab_size, embedding_dim, input_length=max_length),\n",
        "    #tf.keras.layers.GlobalAveragePooling1D(), #fiddle #MaxPooling1D(pool_size=)\n",
        "    #tf.keras.layers.Dense(16, activation='relu'), #fiddle\n",
        "    #tf.keras.layers.Dense(5, activation='softmax')]) #5 scores, 5 outputs per scenario\n",
        "    \n",
        "    tf.keras.layers.Embedding(input_dim = vocab_size+1, output_dim = embedding_dim, input_length=max_length, mask_zero=True),\n",
        "    \n",
        "    tf.keras.layers.Dropout(0.5),\n",
        "    #tf.keras.layers.Conv1D(64, 7, activation='sigmoid'),\n",
        "    #tf.keras.layers.MaxPooling1D(pool_size=4),\n",
        "    #tf.keras.layers.Bidirectional(LSTM(64, return_sequences=True, input_shape=training_padded.shape)), #recurrent_dropout=0.2\n",
        "    #tf.keras.layers.Dropout(0.5),\n",
        "    tf.keras.layers.LSTM(16),\n",
        "    #tf.keras.layers.Dense(16, activation='relu', kernel_regularizer='L2'), #kernel_regularizer='l2'\n",
        "    tf.keras.layers.Dropout(0.5),\n",
        "    tf.keras.layers.Dense(training_labels.shape[1], activation='softmax')])\n",
        "  \n",
        "  metric = tf.keras.metrics.CategoricalAccuracy()\n",
        "  lr_schedule = tf.keras.optimizers.schedules.ExponentialDecay(\n",
        "    initial_learning_rate=1e-2,\n",
        "    decay_steps=20000,\n",
        "    decay_rate=0.95)\n",
        "  optimizer = tf.keras.optimizers.Adam(learning_rate=lr_schedule) \n",
        "  model.compile(loss='categorical_crossentropy',optimizer=optimizer ,metrics=metric)\n",
        "  model.summary()\n",
        "  model.save_weights('model.h5')\n",
        "  \n",
        "\n",
        "  # fit network\n",
        "  history = model.fit(training_padded, training_labels, epochs=num_epochs,batch_size=32, validation_data=(validation_padded, validation_label), verbose=2)\n",
        "  returnmodel = model\n",
        "  model.load_weights('model.h5')\n",
        "  # plot history\n",
        "  showModelPerformance(history, \"loss\")\n",
        "  showModelPerformance(history, \"categorical_accuracy\")\n",
        "\n",
        "  #pyplot.plot(history.history['loss'], label='train')\n",
        "  #pyplot.plot(history.history['val_loss'], label='test')\n",
        "  #pyplot.legend()\n",
        "  #pyplot.show()\n",
        "\n",
        "  #pyplot.plot(history.history['categorical_accuracy'], label='train')\n",
        "  #pyplot.plot(history.history['val_categorical_accuracy'], label='test')\n",
        "  #pyplot.legend()\n",
        "  #pyplot.show()\n",
        "          \n",
        "  return returnmodel, history"
      ],
      "execution_count": null,
      "outputs": []
    },
    {
      "cell_type": "markdown",
      "metadata": {
        "id": "UkD1FcIslB3w"
      },
      "source": [
        "### Bidirectional Binary"
      ]
    },
    {
      "cell_type": "code",
      "metadata": {
        "id": "-JFQauRyNuud"
      },
      "source": [
        "def startermodelBidirectionalExperimentalBinary(training_padded, training_labels,validation_padded, validation_label, vocab_size, \n",
        "                                                embedding_dim, max_length, num_epochs): #weights=[embeddings_matrix], trainable=False\n",
        "\n",
        "  model = tf.keras.Sequential([\n",
        "   \n",
        "    tf.keras.layers.Embedding(input_dim = vocab_size+1, output_dim = embedding_dim, input_length=max_length, mask_zero=False), #eventuell mask_zero false \n",
        "    tf.keras.layers.Dropout(0.2),\n",
        "    tf.keras.layers.LSTM(16),\n",
        "    tf.keras.layers.Dropout(0.2),\n",
        "    #tf.keras.layers.Dense(8, activation='relu'),\n",
        "    #tf.keras.layers.Dropout(0.2),\n",
        "    tf.keras.layers.Dense(1, activation='sigmoid')])\n",
        "  \n",
        "  metric = tf.keras.metrics.BinaryAccuracy()\n",
        "  lr_schedule = tf.keras.optimizers.schedules.ExponentialDecay(\n",
        "    initial_learning_rate=1e-2,\n",
        "    decay_steps=10000,\n",
        "    decay_rate=0.8)\n",
        "  \n",
        "  optimizerAdam = tf.keras.optimizers.Adam(learning_rate=lr_schedule)\n",
        "  optimizerSGD = tf.keras.optimizers.SGD(learning_rate=lr_schedule)\n",
        "\n",
        "  model.compile(loss='binary_crossentropy',optimizer=optimizerAdam ,metrics=metric)\n",
        "  model.summary()\n",
        "  model.save_weights('model.h5')\n",
        "  \n",
        "  #one hot encode\n",
        "  #training_labels = np.array(training_labels)\n",
        "  #validation_label = np.array(validation_label)\n",
        "  #training_labels = np.concatenate((training_labels))\n",
        "  #validation_label = np.concatenate((validation_label))\n",
        "  #training_labels = to_categorical(training_labels, 7)\n",
        "  #validation_label = to_categorical(validation_label, 7)\n",
        "\n",
        "  #print(\"xtrain\")\n",
        "  #print(training_padded.shape)\n",
        "  #print(\"ytrain\")\n",
        "  #print(training_labels.shape)\n",
        "  #print(\"xval\")\n",
        "  #print(validation_padded.shape)\n",
        "  #print(\"yval\")\n",
        "  #print(validation_label.shape)\n",
        "\n",
        "  #training_labels = np.asarray(training_labels).astype('float32').reshape((-1,1))\n",
        "  #validation_label = np.asarray(validation_label).astype('float32').reshape((-1,1))\n",
        "  class_weights = {0: 1.,\n",
        "                1: 0.1}\n",
        "\n",
        "  # fit network\n",
        "  history = model.fit(training_padded, training_labels, epochs=num_epochs,batch_size=32, validation_data=(validation_padded, validation_label), verbose=2)\n",
        "  returnmodel = model\n",
        "  model.load_weights('model.h5')\n",
        "  # plot history\n",
        "  pyplot.plot(history.history['loss'], label='train')\n",
        "  pyplot.plot(history.history['val_loss'], label='test')\n",
        "  pyplot.legend()\n",
        "  pyplot.show()\n",
        "\n",
        "  pyplot.plot(history.history['binary_accuracy'], label='train')\n",
        "  pyplot.plot(history.history['val_binary_accuracy'], label='test')\n",
        "  pyplot.legend()\n",
        "  pyplot.show()\n",
        "          \n",
        "  return returnmodel, history"
      ],
      "execution_count": null,
      "outputs": []
    },
    {
      "cell_type": "markdown",
      "metadata": {
        "id": "kVX3KSFClDpR"
      },
      "source": [
        "### Predict Model"
      ]
    },
    {
      "cell_type": "code",
      "metadata": {
        "id": "w-qcn_d9tnPU"
      },
      "source": [
        "def predictModel(model, xTest, yTest):\n",
        "\n",
        "  predictions = model.predict(xTest)\n",
        "  print(predictions.size)\n",
        "  print(yTest.size)\n",
        "\n",
        "  class_labels = np.argmax(predictions, axis=1)\n",
        "  print(\"Class Labels:\\n\")\n",
        "  print(class_labels)\n",
        "  test_labels = np.argmax(yTest, axis=1)\n",
        "  print(\"Test Labels:\\n\")\n",
        "  print(test_labels)\n",
        "  #class_labels_reshaped = class_labels.reshape(yTest.shape[0],yTest.shape[1])\n",
        "  class_labels_diff = class_labels - test_labels\n",
        "  print(\"Class Labels Diff:\\n\")\n",
        "  print(class_labels_diff)\n",
        "  #label = [\"class1\", \"class2\", \"class3\", \"class4\", \"class5\", \"class6\"]\n",
        "  \n",
        "  print(len(xTest))\n",
        "  print(test_labels.shape)\n",
        "  print(class_labels.shape)\n",
        "\n",
        "  #plt.scatter(xTest, class_labels)\n",
        "  #plt.scatter(xTest, test_labels)\n",
        "\n",
        "  #plt.title('Test Set Predictions')\n",
        "  #plt.ylabel('class')\n",
        "\n",
        "  #plt.legend(loc=\"upper left\")\n",
        "  #plt.legend(['prediction', 'real test result'], loc='upper right')\n",
        "  #plt.show()\n",
        "\n",
        "  return predictions"
      ],
      "execution_count": null,
      "outputs": []
    },
    {
      "cell_type": "markdown",
      "metadata": {
        "id": "mVEDRS_19UIH"
      },
      "source": [
        "## Make and Run Models\n"
      ]
    },
    {
      "cell_type": "code",
      "metadata": {
        "id": "x4gSiW19zvuD"
      },
      "source": [
        "#history.history.keys()"
      ],
      "execution_count": null,
      "outputs": []
    },
    {
      "cell_type": "code",
      "metadata": {
        "id": "M5xcipzba5yC"
      },
      "source": [
        "xTrainArray, yTrainArray, xValArray, yValArray, xTestArray, yTestArray"
      ],
      "execution_count": null,
      "outputs": []
    },
    {
      "cell_type": "code",
      "metadata": {
        "id": "PPWQjLMcIEVb"
      },
      "source": [
        "from imblearn.under_sampling import RandomUnderSampler\n",
        "\n",
        "rus = RandomUnderSampler(random_state=0)\n",
        "rus.fit(xTrainArray, yTrainArray[:,0])\n",
        "X_resampled, y_resampled = rus.fit_sample(xTrainArray, yTrainArray[:,0])"
      ],
      "execution_count": null,
      "outputs": []
    },
    {
      "cell_type": "code",
      "metadata": {
        "id": "JdzMHQdXIW-h"
      },
      "source": [
        "y_resampled"
      ],
      "execution_count": null,
      "outputs": []
    },
    {
      "cell_type": "code",
      "metadata": {
        "id": "aFVBLLvOMkxP"
      },
      "source": [
        "model1234, history1234 = startermodelBidirectionalExperimentalBinary(X_resampled, y_resampled,xValArray, yValArray[:,0], vocab_size, embedding_dim, max_length, 100)"
      ],
      "execution_count": null,
      "outputs": []
    },
    {
      "cell_type": "code",
      "metadata": {
        "id": "-wSx_rZmm7zP"
      },
      "source": [
        "#model, history = startermodelBidirectionalExperimental(train_padded_single, yTrain_single,validation_padded_single, yVal_single, vocab_size, embedding_dim, max_length, 100)"
      ],
      "execution_count": null,
      "outputs": []
    },
    {
      "cell_type": "code",
      "metadata": {
        "id": "sb6_sBc62uoF"
      },
      "source": [
        "hub_layer = hub.KerasLayer(\"https://tfhub.dev/google/tf2-preview/nnlm-de-dim50-with-normalization/1\", output_shape=[50],\n",
        "                           input_shape=[], dtype=tf.string, trainable = False)"
      ],
      "execution_count": null,
      "outputs": []
    },
    {
      "cell_type": "code",
      "metadata": {
        "id": "39csXGKV4KEK"
      },
      "source": [
        "#hub_layer = hub.KerasLayer(\"https://tfhub.dev/google/tf2-preview/nnlm-de-dim128-with-normalization/1\", output_shape=[128],\n",
        "                           #input_shape=[], dtype=tf.string, trainable = False)"
      ],
      "execution_count": null,
      "outputs": []
    },
    {
      "cell_type": "code",
      "metadata": {
        "id": "Btbjoz8Bthu7"
      },
      "source": [
        "#Adjust x and y parameters to correct names\n",
        "#model3, history3 = transferModelSimple(train_sum, yTrain_sum,validation_sum, yVal_sum, vocab_size, embedding_dim, max_length, 100, hub_layer, 50, False, 7)"
      ],
      "execution_count": null,
      "outputs": []
    },
    {
      "cell_type": "code",
      "metadata": {
        "id": "X5oqSAK-LRYF"
      },
      "source": [
        "#model2, history2 = transferModelSimple(xTrain, yTrain_sum,xVal, yVal_sum, vocab_size, embedding_dim, max_length, 100, hub_layer, 50, False, 7)"
      ],
      "execution_count": null,
      "outputs": []
    },
    {
      "cell_type": "markdown",
      "metadata": {
        "id": "2Fnel83DGt17"
      },
      "source": [
        ""
      ]
    },
    {
      "cell_type": "code",
      "metadata": {
        "id": "6CA6ZKOk5G5y"
      },
      "source": [
        "predictions1234 = predictModel(model1234,xTestArray, yTestArray)"
      ],
      "execution_count": null,
      "outputs": []
    },
    {
      "cell_type": "markdown",
      "metadata": {
        "id": "R00YcxTIvoyG"
      },
      "source": [
        "# Primitive Models"
      ]
    },
    {
      "cell_type": "markdown",
      "metadata": {
        "id": "gyJDEoqRvqqa"
      },
      "source": [
        "## Naive Bayes"
      ]
    },
    {
      "cell_type": "code",
      "metadata": {
        "id": "acS1J9OttmR3"
      },
      "source": [
        "def NaiveBayesModel(X_train, y_train, X_test, y_test):\n",
        "  classifier = MultinomialNB()\n",
        "  nb = classifier.fit(X_train, y_train)\n",
        "  y_pred = classifier.predict(X_test)\n",
        "  return nb, y_pred"
      ],
      "execution_count": null,
      "outputs": []
    },
    {
      "cell_type": "markdown",
      "metadata": {
        "id": "OcyM88Hdvr8n"
      },
      "source": [
        "## SVM"
      ]
    },
    {
      "cell_type": "code",
      "metadata": {
        "id": "-Bngdx1yvoHP"
      },
      "source": [
        "## Linear Support Vector Machine\n",
        "def svmModel(X_train, y_train, X_test, y_test):\n",
        "  sgd = Pipeline([('vect', CountVectorizer()),\n",
        "                ('tfidf', TfidfTransformer()),\n",
        "                ('clf', SGDClassifier(loss='hinge', penalty='l2',alpha=1e-3, random_state=42, max_iter=5, tol=None)),\n",
        "               ])\n",
        "  sgd.fit(X_train, y_train)\n",
        "\n",
        "  #%%time\n",
        "  \n",
        "  y_pred = sgd.predict(X_test)\n",
        "  my_tags = ['class 0', 'class 1']\n",
        "\n",
        "  print('accuracy %s' % accuracy_score(y_pred, y_test))\n",
        "  print(classification_report(y_test, y_pred,target_names=my_tags))\n",
        "  return sgd, y_pred"
      ],
      "execution_count": null,
      "outputs": []
    },
    {
      "cell_type": "markdown",
      "metadata": {
        "id": "Mmjl7BDVyYCG"
      },
      "source": [
        "##Logistic Regression"
      ]
    },
    {
      "cell_type": "code",
      "metadata": {
        "id": "ZzQJqeUQyXlL"
      },
      "source": [
        "def lgModel(X_train, y_train, X_test, y_test):\n",
        "  logreg = Pipeline([('vect', CountVectorizer()),\n",
        "                ('tfidf', TfidfTransformer()),\n",
        "                ('clf', LogisticRegression(n_jobs=5, C=1e-1)), #C=1e5\n",
        "               ])\n",
        "  logreg.fit(X_train, y_train)\n",
        "\n",
        "  #%%time\n",
        "\n",
        "  y_pred = logreg.predict(X_test)\n",
        "  y_predProba = logreg.predict_proba(X_test)\n",
        "  my_tags = ['class 0', 'class 1']\n",
        "  print('accuracy %s' % accuracy_score(y_pred, y_test))\n",
        "  print(classification_report(y_test, y_pred,target_names=my_tags))\n",
        "  return logreg, y_pred, y_predProba"
      ],
      "execution_count": null,
      "outputs": []
    },
    {
      "cell_type": "markdown",
      "metadata": {
        "id": "5Vi-Wwg80pfn"
      },
      "source": [
        "## Random Forest"
      ]
    },
    {
      "cell_type": "code",
      "metadata": {
        "id": "01gAtqOY0orV"
      },
      "source": [
        "def randomtree_Model(n_estimators, X_train_sc, y_train, X_test_sc, y_test):\n",
        "    model = RandomForestClassifier(n_estimators = n_estimators, criterion  = 'entropy', random_state = 42)\n",
        "\n",
        "    history = model.fit(X_train_sc, y_train)\n",
        "\n",
        "    y_predict = model.predict(X_test_sc)\n",
        "\n",
        "    print(confusion_matrix(y_test,y_predict))\n",
        "    print(classification_report(y_test,y_predict))\n",
        "    print(accuracy_score(y_test, y_predict))\n",
        "    return model, history, y_predict"
      ],
      "execution_count": null,
      "outputs": []
    },
    {
      "cell_type": "markdown",
      "metadata": {
        "id": "we4aNM4I4bx_"
      },
      "source": [
        "# Execute Primitive Models"
      ]
    },
    {
      "cell_type": "code",
      "metadata": {
        "id": "9u3d-_bU0rT1"
      },
      "source": [
        "#Execute random forest model\n",
        "modelRandomForest,historyRandomForest, y_predictRandomForest = randomtree_Model(100, xTrainArray, yTrainArray[:,1], xValArray, yValArray[:,1])"
      ],
      "execution_count": null,
      "outputs": []
    },
    {
      "cell_type": "code",
      "metadata": {
        "id": "ntgXVPRGyc4z"
      },
      "source": [
        "#Execute lgModel\n",
        "logreg, y_predLg, y_predProbaLg = lgModel(xTrainArray2, yTrainArray2[:,1], xValArray2, yValArray2[:,1])"
      ],
      "execution_count": null,
      "outputs": []
    },
    {
      "cell_type": "code",
      "metadata": {
        "id": "sDjgLOWSvwwN"
      },
      "source": [
        "#Execute svmModel\n",
        "sgd, y_predSgd = svmModel(xTrainArray2, yTrainArray2[:,1], xValArray2, yValArray2[:,1])"
      ],
      "execution_count": null,
      "outputs": []
    },
    {
      "cell_type": "code",
      "metadata": {
        "id": "2T_IND4gtyaz"
      },
      "source": [
        "#Execute Naive Bayes Model\n",
        "nb, yPredictedNb = NaiveBayesModel(xTrainArray, yTrainArray[:,1], xValArray, yValArray[:,1])"
      ],
      "execution_count": null,
      "outputs": []
    },
    {
      "cell_type": "markdown",
      "metadata": {
        "id": "FJ0_TuUZ78gb"
      },
      "source": [
        "# Word2Vec"
      ]
    },
    {
      "cell_type": "code",
      "metadata": {
        "id": "0RFLGUmqWZrI"
      },
      "source": [
        "#note by CM: it seems like christopher is trying a pretrained word2vec - GLOVE (to make the difference more clear to the first word2vec approach)"
      ],
      "execution_count": null,
      "outputs": []
    },
    {
      "cell_type": "code",
      "metadata": {
        "id": "cWfP0aCk89xp"
      },
      "source": [
        "# average the two word vectors\n",
        "def word_averaging(wv, words):\n",
        "    all_words, mean = set(), []\n",
        "    \n",
        "    for word in words:\n",
        "        if isinstance(word, np.ndarray):\n",
        "            mean.append(word)\n",
        "        elif word in wv.vocab:\n",
        "            mean.append(wv.syn0norm[wv.vocab[word].index])\n",
        "            all_words.add(wv.vocab[word].index)\n",
        "\n",
        "    if not mean:\n",
        "        logging.warning(\"cannot compute similarity with no input %s\", words)\n",
        "        # FIXME: remove these examples in pre-processing\n",
        "        return np.zeros(wv.vector_size,)\n",
        "\n",
        "    mean = gensim.matutils.unitvec(np.array(mean).mean(axis=0)).astype(np.float32)\n",
        "    return mean"
      ],
      "execution_count": null,
      "outputs": []
    },
    {
      "cell_type": "code",
      "metadata": {
        "id": "vCXNg02_8_aS"
      },
      "source": [
        "def  word_averaging_list(wv, text_list):\n",
        "    return np.vstack([word_averaging(wv, post) for post in text_list ])\n"
      ],
      "execution_count": null,
      "outputs": []
    },
    {
      "cell_type": "code",
      "metadata": {
        "id": "PHeDjYs39BSS"
      },
      "source": [
        "# tokenize the text and apply the tokenization to \"post\" column, and apply word vector averaging to tokenized text\n",
        "def w2v_tokenize_text(text):\n",
        "    tokens = []\n",
        "    for sent in nltk.sent_tokenize(text, language='english'):\n",
        "        for word in nltk.word_tokenize(sent, language='english'):\n",
        "            if len(word) < 2:\n",
        "                continue\n",
        "            tokens.append(word)\n",
        "    return tokens"
      ],
      "execution_count": null,
      "outputs": []
    },
    {
      "cell_type": "code",
      "metadata": {
        "id": "gQ4wfsCu8vhN"
      },
      "source": [
        "def word2vecTokenizer(sentences):\n",
        "\n",
        "  wv = KeyedVectors.load_word2vec_format(\"GoogleNews-vectors-negative300.bin.gz\", binary=True) #gensim.models.\n",
        "  wv.init_sims(replace=True)\n",
        "\n",
        "  tokenized = sentences.apply(lambda r: w2v_tokenize_text(r['post']), axis=1).values\n",
        "\n",
        "  return tokenized"
      ],
      "execution_count": null,
      "outputs": []
    },
    {
      "cell_type": "code",
      "metadata": {
        "id": "mC-eUfCzBUBd"
      },
      "source": [
        "def word2vecTokenizer2(sentences, glove_vectors):\n",
        "\n",
        "  wv = glove_vectors\n",
        "  wv.init_sims(replace=True)\n",
        "\n",
        "  tokenized = sentences.apply(lambda r: w2v_tokenize_text(r['post']), axis=1).values\n",
        "\n",
        "  return tokenized"
      ],
      "execution_count": null,
      "outputs": []
    },
    {
      "cell_type": "code",
      "metadata": {
        "id": "hzdWYN9489bB"
      },
      "source": [
        "#import gensim.downloader\n",
        "#print(list(gensim.downloader.info()['models'].keys()))"
      ],
      "execution_count": null,
      "outputs": []
    },
    {
      "cell_type": "code",
      "metadata": {
        "id": "BYtF_PbVAgN7"
      },
      "source": [
        "#glove_vectors = gensim.downloader.load('glove-twitter-25')"
      ],
      "execution_count": null,
      "outputs": []
    }
  ]
}